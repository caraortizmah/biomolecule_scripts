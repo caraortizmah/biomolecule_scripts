{
 "cells": [
  {
   "cell_type": "code",
   "execution_count": 2,
   "id": "d421665a-4fdd-4a4b-bb14-80672b33b2d3",
   "metadata": {},
   "outputs": [],
   "source": [
    "from ase.io import read\n",
    "#from sklearn.cluster import KMeans, DBSCAN\n",
    "import numpy as np\n",
    "import pandas as pd"
   ]
  },
  {
   "cell_type": "code",
   "execution_count": 2,
   "id": "b2a96bbe-656e-4c04-8129-d7204ab3ab2e",
   "metadata": {},
   "outputs": [],
   "source": [
    "#conda install -c rdkit rdkit\n",
    "#pip install ase\n",
    "#pip install rdkit-\n",
    "#pip install py3Dmol"
   ]
  },
  {
   "cell_type": "code",
   "execution_count": 3,
   "id": "6cb8409f-de8c-48ce-87e2-b124e08c60bb",
   "metadata": {},
   "outputs": [],
   "source": [
    "from rdkit import Chem\n",
    "#from rdkit.Chem import rdDistGeom, AllChem\n",
    "#from rdkit.Geometry import Point3D"
   ]
  },
  {
   "cell_type": "markdown",
   "id": "a59ffee5-6f79-4739-a73f-c6777bbb3d64",
   "metadata": {},
   "source": [
    "#### Functions for node featuring"
   ]
  },
  {
   "cell_type": "code",
   "execution_count": 6,
   "id": "d01d2e3b-ec10-4cff-81ee-c499757006a1",
   "metadata": {},
   "outputs": [],
   "source": [
    "def pandas_molecule(file_name):\n",
    "    \"\"\"\n",
    "    Load the molecule from pdb format\n",
    "    and return some of the pdb information\n",
    "    in pandas format\n",
    "    \"\"\"\n",
    "    # Loading molecule\n",
    "    atoms = read(file_name, format=\"proteindatabank\")\n",
    "    # Convert to pandas DataFrame\n",
    "    atoms_pdb = pd.DataFrame({\n",
    "        'atom': atoms.get_chemical_symbols(),\n",
    "        # Optional: add residue info if available in PDB\n",
    "        'residue': atoms.get_array('residuenames') if 'residuenames' in atoms.arrays else None,\n",
    "        'x': atoms.positions[:, 0],\n",
    "        'y': atoms.positions[:, 1],\n",
    "        'z': atoms.positions[:, 2]\n",
    "    })\n",
    "    # Remove blank spaces from 'residue' column\n",
    "    atoms_pdb['residue'] = atoms_pdb['residue'].str.strip()\n",
    "    return atoms_pdb"
   ]
  },
  {
   "cell_type": "code",
   "execution_count": 7,
   "id": "df71e851-e540-4bf7-b5ed-a6bbad7c7325",
   "metadata": {},
   "outputs": [],
   "source": [
    "def atom_categorical_feat(pandas_mol):\n",
    "    \"\"\"\n",
    "    Receive a pandas matrix that contains the basic\n",
    "    information of a pdb file: atom, residue, x, y, z.\n",
    "    It appends, as new binary columns, the type of atom\n",
    "    in the following order: 'C', 'N', 'O', 'H' and 'S',\n",
    "    where 1 if the atom is of that type and 0 otherwise.\n",
    "    \"\"\"\n",
    "    pandas_mol['C'] = (pandas_mol['atom'].eq('C')).astype(int)\n",
    "    pandas_mol['N'] = (pandas_mol['atom'].eq('N')).astype(int)\n",
    "    pandas_mol['O'] = (pandas_mol['atom'].eq('O')).astype(int)\n",
    "    pandas_mol['H'] = (pandas_mol['atom'].eq('H')).astype(int)\n",
    "    pandas_mol['S'] = (pandas_mol['atom'].eq('S')).astype(int)\n",
    "    return pandas_mol"
   ]
  },
  {
   "cell_type": "code",
   "execution_count": 8,
   "id": "c78ab4be-5c3d-486d-88e9-22a40fb56263",
   "metadata": {},
   "outputs": [],
   "source": [
    "def res_categorical_feat(pandas_mol):\n",
    "    \"\"\"\n",
    "    Receive a pandas matrix that contains the basic\n",
    "    information of a pdb file: atom, residue, x, y, z.\n",
    "    It appends, as new binary columns, the type of residue\n",
    "    in the following order: 'F', 'Y', 'W' and 'M',\n",
    "    where 1 if the residue is of that type and 0 otherwise.\n",
    "    \"\"\"\n",
    "    pandas_mol['F'] = (pandas_mol['residue'].eq('PHE')).astype(int)\n",
    "    pandas_mol['Y'] = (pandas_mol['residue'].eq('TYR')).astype(int)\n",
    "    pandas_mol['W'] = (pandas_mol['residue'].eq('TRP')).astype(int)\n",
    "    pandas_mol['M'] = (pandas_mol['residue'].eq('MET')).astype(int)\n",
    "    return pandas_mol"
   ]
  },
  {
   "cell_type": "code",
   "execution_count": 10,
   "id": "13b6cd12-b5bb-45e2-bc46-8215f9202cc0",
   "metadata": {},
   "outputs": [],
   "source": [
    "def chemgroup_categorical_feat(pandas_mol, resid_1, resid_2, index_res_1, index_res_2):\n",
    "    \"\"\"\n",
    "    Receive a pandas matrix that contains the basic\n",
    "    information of a pdb file: atom, residue, x, y, z.\n",
    "    It appends, as new binary columns, the type of chemical\n",
    "    group between side chain and backbone in the following\n",
    "    order: 'sc' and 'bb', where 1 if the atoms of that \n",
    "    residue are of that type and 0 otherwise.\n",
    "    Args:\n",
    "    pandas molecule (pandas_mol)\n",
    "    name of the residue in pandas_mol (resid_1 and resid_2):\n",
    "    e.g. 'PHE', 'TYR'\n",
    "    numpy array of indices (index_res_1, index_res_2) to match\n",
    "    only with the indices of the backbone atoms in pandas_mol.\n",
    "    The sidechain atoms are deduced using the previous info.\n",
    "    Output:\n",
    "    Two appended binary columns: 'bb' and 'sd'.\n",
    "    \"\"\"\n",
    "    # Create a flag for backbone in the first residue + second residue\n",
    "    pandas_mol['bb'] = (pandas_mol['residue'].eq(resid_1) & \n",
    "     pandas_mol.groupby('residue').cumcount().isin(index_res_1)  # Checks reset positions\n",
    "    ).astype(int) + (pandas_mol['residue'].eq(resid_2) & \n",
    "     pandas_mol.groupby('residue').cumcount().isin(index_res_2)  # Checks reset positions\n",
    "    ).astype(int)\n",
    "    # Create the indices of the \n",
    "    # Create a flag for side chain in the first residue + second residue\n",
    "    pandas_mol['sc'] = (pandas_mol['residue'].eq(resid_1) & \n",
    "     ~pandas_mol.groupby('residue').cumcount().isin(index_res_1)  # Checks reset positions\n",
    "    ).astype(int) + (pandas_mol['residue'].eq(resid_2) & \n",
    "     ~pandas_mol.groupby('residue').cumcount().isin(index_res_2)  # Checks reset positions\n",
    "    ).astype(int)\n",
    "    return pandas_mol"
   ]
  },
  {
   "cell_type": "code",
   "execution_count": 11,
   "id": "1bb291a7-91f1-45a3-86bf-47d45cb95ce9",
   "metadata": {},
   "outputs": [],
   "source": [
    "def hybridtype_categorical_feat(pandas_mol, resid_1, resid_2, index_res_1, index_res_2):\n",
    "    \"\"\"\n",
    "    Receive a pandas matrix that contains the basic\n",
    "    information of a pdb file: atom, residue, x, y, z.\n",
    "    It appends, as new binary columns, the type of \n",
    "    hybridization of the orbitals for thata atom\n",
    "    simplified as 'sp2' and 'sp3', where 1 if the atoms\n",
    "    of that residue are of that type and 0 otherwise.\n",
    "    Args:\n",
    "    pandas molecule (pandas_mol)\n",
    "    name of the residue in pandas_mol (resid_1 and resid_2):\n",
    "    e.g. 'PHE', 'TYR'\n",
    "    numpy array of indices (index_res_1, index_res_2) to match\n",
    "    only with the indices of the sp2 atoms in pandas_mol.\n",
    "    The sp3 atoms are deduced using the previous info.\n",
    "    Output:\n",
    "    Two appended binary columns: 'sp2' and 'sp3'.\n",
    "    \"\"\"\n",
    "    # Create a flag for backbone in the first residue + second residue\n",
    "    pandas_mol['sp2'] = (pandas_mol['residue'].eq(resid_1) & \n",
    "     pandas_mol.groupby('residue').cumcount().isin(index_res_1)  # Checks reset positions\n",
    "    ).astype(int) + (pandas_mol['residue'].eq(resid_2) & \n",
    "     pandas_mol.groupby('residue').cumcount().isin(index_res_2)  # Checks reset positions\n",
    "    ).astype(int)\n",
    "    # Create the indices of the \n",
    "    # Create a flag for side chain in the first residue + second residue\n",
    "    pandas_mol['sp3'] = (pandas_mol['residue'].eq(resid_1) & \n",
    "     ~pandas_mol.groupby('residue').cumcount().isin(index_res_1)  # Checks reset positions\n",
    "    ).astype(int) + (pandas_mol['residue'].eq(resid_2) & \n",
    "     ~pandas_mol.groupby('residue').cumcount().isin(index_res_2)  # Checks reset positions\n",
    "    ).astype(int)\n",
    "    return pandas_mol"
   ]
  },
  {
   "cell_type": "code",
   "execution_count": 213,
   "id": "536fa815-6ea3-4c94-8e02-d9e2f1ae28e1",
   "metadata": {},
   "outputs": [],
   "source": [
    "def drop_off_corecolumns(pandas_mol, cols):\n",
    "    \"\"\"\n",
    "    Drop off columns from pandas_mol using cols\n",
    "    \"\"\"\n",
    "    return pandas_mol.drop(columns=cols)"
   ]
  },
  {
   "cell_type": "code",
   "execution_count": 13,
   "id": "6b10d871-da4d-4c5f-8283-2d1383ba5a06",
   "metadata": {},
   "outputs": [],
   "source": [
    "def cross_feat_pi_stack(pandas_mol):\n",
    "    \"\"\"\n",
    "    Drop off columns from pandas_mol using cols\n",
    "    \"\"\"\n",
    "    pandas_mol['pi'] = (\n",
    "        (pandas_mol['C'] + pandas_mol['N'] \n",
    "         + pandas_mol['O'] ) * pandas_mol['sc']\n",
    "         * pandas_mol['sp2']\n",
    "    )\n",
    "    return pandas_mol"
   ]
  },
  {
   "cell_type": "code",
   "execution_count": 14,
   "id": "4fcf4307-9fc9-452d-8451-0f6eb95dc2ab",
   "metadata": {},
   "outputs": [],
   "source": [
    "def featuring_pi_stack(pdb_file):\n",
    "    \"\"\"\"\"\"\n",
    "    pandas_mol = pandas_molecule(pdb_file)\n",
    "    node_feats = cross_feat_pi_stack(\n",
    "        hybridtype_categorical_feat(\n",
    "            chemgroup_categorical_feat(\n",
    "                res_categorical_feat(\n",
    "                    atom_categorical_feat(\n",
    "                        pandas_mol\n",
    "                    )\n",
    "                ),\n",
    "                'PHE', 'TYR', backbone_phe, backbone_tyr),\n",
    "            'PHE', 'TYR', sp2_phe, sp2_tyr)\n",
    "    )\n",
    "    return drop_off_corecolumns(node_feats, cols)"
   ]
  },
  {
   "cell_type": "markdown",
   "id": "91b44bce-6bee-49aa-a961-d8134c9b61e6",
   "metadata": {},
   "source": [
    "#### Functions for edge featuring"
   ]
  },
  {
   "cell_type": "code",
   "execution_count": 27,
   "id": "7a3bbe07-de2e-4187-8709-a5e252afd781",
   "metadata": {},
   "outputs": [],
   "source": [
    "def get_pairindices_edgelist(edge_list, pairs):\n",
    "    \"\"\"\n",
    "    Return the column positions from edge_list\n",
    "    where the pair of given values (pairs)\n",
    "    are connected including redundancies.\n",
    "    Args:\n",
    "    edge_list (np.array) is a matrix of connectivity\n",
    "    (fully connected, including reduncandies and no \n",
    "     self-interactions)\n",
    "    pairs (tuple, list or np.array) is a pair of \n",
    "    numbers (nodes) that has a connectivity.\n",
    "    \"\"\"\n",
    "    return np.sort(\n",
    "        np.array(\n",
    "            [\n",
    "                np.where((edge_list[0] == pairs[:, 0]) & \n",
    "                         (edge_list[1] == pairs[:, 1]))[0][0],\n",
    "                np.where((edge_list[1] == pairs[:, 0]) & \n",
    "                         (edge_list[0] == pairs[:, 1]))[0][0]\n",
    "            ]\n",
    "        )\n",
    "    )"
   ]
  },
  {
   "cell_type": "code",
   "execution_count": 28,
   "id": "44d51ba4-1a5e-469a-b03f-f9598129b759",
   "metadata": {},
   "outputs": [],
   "source": [
    "def get_pairindices_edgelist(edge_list, pairs):\n",
    "    \"\"\"\n",
    "    Return the column positions from edge_list\n",
    "    where the pair of given values (pairs)\n",
    "    are connected including redundancies.\n",
    "    Args:\n",
    "    edge_list (np.array) is a matrix of connectivity\n",
    "    (fully connected, including reduncandies and no \n",
    "     self-interactions)\n",
    "    pairs (np.array([0, 1], [0, 2],...)) is a set of\n",
    "    pair of numbers (nodes) in a np.array that have a \n",
    "    connectivity.\n",
    "    \"\"\"\n",
    "    return np.sort(\n",
    "        np.column_stack(\n",
    "            [\n",
    "                np.where((edge_list[0] == pairs[:, 0][:, None]) & \n",
    "                         (edge_list[1] == pairs[:, 1][:, None]))[1],\n",
    "                np.where((edge_list[1] == pairs[:, 0][:, None]) & \n",
    "                         (edge_list[0] == pairs[:, 1][:, None]))[1]\n",
    "            ]\n",
    "        ), axis=1 # sort each row\n",
    "    )"
   ]
  },
  {
   "cell_type": "code",
   "execution_count": 29,
   "id": "88b56a85-67a1-4114-a831-5f8c72ad66f7",
   "metadata": {},
   "outputs": [],
   "source": [
    "def type_int_categorical_feat(mol, int_type):\n",
    "    \"\"\"\n",
    "    Return a integer (binary) array using the same \n",
    "     index ordering from mol.GetBonds().\n",
    "     In each position of that array:\n",
    "     if a connected pair of atoms in mol matches \n",
    "     the bond type condition (int_type) then 1;\n",
    "     otherwise 0.\n",
    "    Args:\n",
    "    mol (rdchem.Mol): Is a molecule loaded from \n",
    "     a pdb file using thr rdkit.Chem library\n",
    "    int_type (float): Is a number that represent the\n",
    "     type of chemical \"bond\" among the following\n",
    "     possibilities 1, 2, 3, 1.5.\n",
    "     Where 1 stands for 'single bond', 2 for 'double bond',\n",
    "     3 for 'triple bond' and 1.5 for 'aromatic'.\n",
    "    \"\"\"\n",
    "    connected_atm = np.array([b.GetBondTypeAsDouble() for b in mol.GetBonds()])\n",
    "    type_int_feat = np.zeros(connected_atm.shape, dtype=int)\n",
    "    type_int_feat[np.where(connected_atm == int_type)] = 1\n",
    "    return type_int_feat"
   ]
  },
  {
   "cell_type": "code",
   "execution_count": 30,
   "id": "a440af69-bb00-4c97-905d-7fd31e10c6e9",
   "metadata": {},
   "outputs": [],
   "source": [
    "def default_edge_feature(atoms):\n",
    "    \"\"\"\n",
    "    Get the minimal information required for\n",
    "    GNN context from a molecule regarding \n",
    "    connectivity: edges of the adjacency matrix \n",
    "    and the pairwise matrix as edge feature.\n",
    "    From a pdb molecule two np.arrays are created:\n",
    "    Args:\n",
    "    atoms from a pdb file (ase.atoms.Atoms)\n",
    "    Output:\n",
    "    (edge_list, pairwise_feat) each element in the\n",
    "     tuple is a np.array.\n",
    "    edge_list  has shape (2, n_atoms*(n_atoms - 1))\n",
    "    of a fully connected matrix (i, j) and (j, i)\n",
    "    excluding diagonal.\n",
    "    First row is the \"Begin\" of a connection and\n",
    "    the second row is the \"End\" of that connection.\n",
    "    Since that graph is undirected, half of the \n",
    "    information is redundant.\n",
    "    pairwise_feat is a distance matrix between the \n",
    "    non-diagonal elements built with the same order\n",
    "    architecture of edge_list.\n",
    "    pairwise_feat has shape (n_atoms*(n_atoms - 1),)\n",
    "    \"\"\"\n",
    "    # Generate all possible pairs non-diagonal elements only\n",
    "    rows, cols = np.where(~np.eye(len(atoms), dtype=bool))  # Excludes diagonal\n",
    "    # Stack into a (2, N_pairs) matrix\n",
    "    edge_list = np.vstack([rows, cols])  # Shape: (2, n_atoms*(n_atoms - 1))\n",
    "    # Construct pairwise matrix with the same architecture as edge_list\n",
    "    pairwise_feat = atoms.get_all_distances()[rows, cols]\n",
    "    return (edge_list, pairwise_feat)"
   ]
  },
  {
   "cell_type": "code",
   "execution_count": 107,
   "id": "700cbed5-93bf-443b-905a-3ce2eba7d618",
   "metadata": {},
   "outputs": [],
   "source": [
    "def get_nondiagonals_connectivity(group_1, group_2):\n",
    "    \"\"\"\n",
    "    Create all possible edges between \n",
    "     two group of nodes: group_1 and group_2).\n",
    "    In the options are only consider nondiagonal\n",
    "    interactions, self-inetractions are deprecated.\n",
    "    Args:\n",
    "    group_1 and group 2: np.array\n",
    "    Output is a np.array e.g.:\n",
    "    array([[1, 2], [1,3],...])\n",
    "    \"\"\"\n",
    "    return np.column_stack([\n",
    "        np.repeat(group_1, len(group_2)),\n",
    "        np.tile(group_2, len(group_1))\n",
    "    ])"
   ]
  },
  {
   "cell_type": "code",
   "execution_count": 31,
   "id": "a3391c83-bad7-4c0e-85be-4af1d969be5f",
   "metadata": {},
   "outputs": [],
   "source": [
    "def typeint_edge_categorical_feat(e_feat_shape, edge_list, pair_list, int_type):\n",
    "    \"\"\"\n",
    "    Creates a edge feature array following a categorical\n",
    "     condition: the type of interaction.\n",
    "    Args:\n",
    "    e_feat_shape (tuple) is the shape of the edge\n",
    "     feature array.\n",
    "    edge_list (np.array) is the array of connectivity\n",
    "     for a undirected graph (all non-diagonals).\n",
    "    Read more about it in the default_edge_feature() \n",
    "     function.\n",
    "    pair_list (np.array) is the array of the \"covalent\n",
    "    bond\" connectivity having shape (numer_of_bons, 2).\n",
    "    Read more about it in the get_pairindices_edgelist()\n",
    "     function.\n",
    "    int_type (float) is the type of \"covalent\" bond\n",
    "     interaction defined in the rdkit.Chem library.\n",
    "    Read more about it in the type_int_categorical_feat()\n",
    "     function.\n",
    "    \"\"\"\n",
    "\n",
    "    # Initializing the edge feature array\n",
    "    edge_feature = np.zeros(e_feat_shape, dtype=int)\n",
    "    \n",
    "    # Get a positions (indices) array where a binary\n",
    "    #  array (from type_int_categorical_feat()) matches\n",
    "    #  a condition (int_type).\n",
    "    categ_feat_indices = np.where(\n",
    "        type_int_categorical_feat(mol, int_type))[0]\n",
    "    # type_int_categorical_feat() presents elements in the same way \n",
    "    #  as it is in pair_list\n",
    "    \n",
    "    # Get the column positions of edge_list where each pair_list matches\n",
    "    #  including redundancies (i, j) and (j, i).\n",
    "    column_pos = get_pairindices_edgelist(edge_list, pair_list)\n",
    "    \n",
    "    # Assign the value 1 for the indices in edge_feature that are \n",
    "    #  the elements in column_pos\n",
    "    edge_feature[np.sort(column_pos[categ_feat_indices].flatten())] = 1\n",
    "\n",
    "    return edge_feature"
   ]
  },
  {
   "cell_type": "code",
   "execution_count": 63,
   "id": "784fa90d-efa7-4026-b822-ff717f70584d",
   "metadata": {},
   "outputs": [],
   "source": [
    "def customint_edge_categorical_feat(e_feat_shape, edge_list, if_pair_list):\n",
    "    \"\"\"\n",
    "    Creates a edge feature array following a categorical\n",
    "     condition using an already \"conditioned\" pair list.\n",
    "    This function follows a similar structure as in the \n",
    "      typeint_edge_categorical_feat() function.\n",
    "    In this case customization comes from the fact that\n",
    "    if_pair_list is already conditioned by the user needs.\n",
    "    Args:\n",
    "    e_feat_shape (tuple) is the shape of the edge\n",
    "     feature array.\n",
    "    edge_list (np.array) is the array of connectivity\n",
    "     for a undirected graph (all non-diagonals).\n",
    "    Read more about it in the default_edge_feature() \n",
    "     function.\n",
    "    if_pair_list (np.array) is the array of connectivity \n",
    "    having shape (numer_of_acceptable_conditions, 2).\n",
    "    int_type (float) is the type of \"covalent\" bond\n",
    "     interaction defined in the rdkit.Chem library.\n",
    "    Read more about it in the type_int_categorical_feat()\n",
    "     function.\n",
    "    \"\"\"\n",
    "\n",
    "    # Initializing the edge feature array\n",
    "    edge_feature = np.zeros(e_feat_shape, dtype=int)\n",
    "       \n",
    "    # Get the column positions of edge_list where each if_pair_list\n",
    "    #  matches including redundancies (i, j) and (j, i).\n",
    "    column_pos = get_pairindices_edgelist(edge_list, if_pair_list)\n",
    "    \n",
    "    # Assign the value 1 for the indices in edge_feature that are \n",
    "    #  the elements in column_pos\n",
    "    edge_feature[np.sort(column_pos.flatten())] = 1\n",
    "\n",
    "    return edge_feature"
   ]
  },
  {
   "cell_type": "code",
   "execution_count": 146,
   "id": "33f0aa04-aa0a-4477-a2b6-eac9f254cefe",
   "metadata": {},
   "outputs": [],
   "source": [
    "def get_sp2_noaromatic_index(mol):\n",
    "    \"\"\"\n",
    "    Return the ordered np.array with the index\n",
    "    (positions) of the atoms in mol that have\n",
    "    hybridation SP2 and are not in a conjugated\n",
    "    system. However this function is customized\n",
    "    to include the N from the peptide bond since\n",
    "    molecules are isolated amino acids and N cannot\n",
    "    be detected as SP2. Consider this if you are using\n",
    "    this function in other type of molecules.\n",
    "    \"\"\"\n",
    "    return np.sort(\n",
    "        np.concatenate((\n",
    "            np.array([b.GetIdx() for b in mol.GetAtoms() \n",
    "                      if (b.GetHybridization() == Chem.HybridizationType().SP3) &\n",
    "                      (b.GetAtomicNum() == 7)]), # special case for N of peptide bond\n",
    "            np.array([b.GetIdx() for b in mol.GetAtoms() \n",
    "                      if (b.GetHybridization() == Chem.HybridizationType().SP2) &\n",
    "                      ((b.GetAtomicNum() == 6) | (b.GetAtomicNum() == 8)) \n",
    "                      & (~b.GetIsAromatic())]) # SP2 (C or O) atoms\n",
    "        ),  axis=0)\n",
    "    )"
   ]
  },
  {
   "cell_type": "code",
   "execution_count": 184,
   "id": "3f449b36-fef7-48b4-844e-0124a2aeb533",
   "metadata": {},
   "outputs": [],
   "source": [
    "def cross_edge_feat_pi_stack(weight_efeat, cat_edge_feat, dist_condition):\n",
    "    \"\"\"\n",
    "    Create a categorical cross-feature flag using the information of \n",
    "    a weight edge feature array and a categorical edge feature both\n",
    "    with the same dimensions and information order.\n",
    "    The crossing of these two edge feature arrays is done by a\n",
    "    third condition (nummerical one).\n",
    "    Args:\n",
    "    weight_efeat (np.array) is a nummerical array,\n",
    "    cat_edge_feat (np.array) is a categorical array and\n",
    "    dist_condition (float) is a number used as threshold:\n",
    "    when values in weight_efeat are lower than dist_condition\n",
    "    and fullfil the condition of cat_edge_feat then assing\n",
    "    value of 1 in the cr_edge_ft, else 0.\n",
    "    Output (np.array) is the categorical array cr_edge_ft\n",
    "    \"\"\"\n",
    "    # Initializing the cross-feature flag array\n",
    "    cr_edge_ft = np.zeros(weight_efeat.shape, dtype=int)\n",
    "\n",
    "    # \n",
    "    cr_edge_ft[np.where(\n",
    "        weight_efeat[np.where(\n",
    "            cat_edge_feat)[0]] < dist_condition)[0]\n",
    "    ] = 1\n",
    "    return cr_edge_ft"
   ]
  },
  {
   "cell_type": "code",
   "execution_count": 221,
   "id": "85300af9-c56c-4c94-880f-ddb5171dc676",
   "metadata": {},
   "outputs": [],
   "source": [
    "def stack_categorical_edge_feats(mol, weight_feat, edge_list):\n",
    "    \"\"\"\n",
    "    Stack all the categorical edge feature arrays\n",
    "    including the cross-feature flags using a \n",
    "    pairwise matrix (weight feature).\n",
    "    Output (np.array),e.g.: stacked_edge_features\n",
    "    where eight arrays are stacked.\n",
    "    stacked_edge_features[:, 0] is weight_feat\n",
    "    stacked_edge_features[:, 1] is single bond\n",
    "    stacked_edge_features[:, 2] is double bond\n",
    "    stacked_edge_features[:, 3] is aromatic bond\n",
    "    stacked_edge_features[:, 4] is aromatic-aromatic\n",
    "      pi-stacking \n",
    "    stacked_edge_features[:, 5] is aromatic-sp2\n",
    "      pi-stacking\n",
    "    stacked_edge_features[:, 6] is aromatic-aromatic\n",
    "      pi-stacking lower than 6.5 Angstroms\n",
    "    stacked_edge_features[:, 7] is aromatic-sp2\n",
    "      pi-stacking lower than 5.5 Angstroms\n",
    "    \"\"\"\n",
    "    # Get list of connected (covalent bonds) points (atoms)\n",
    "    pair_list = np.array([[b.GetBeginAtomIdx(), b.GetEndAtomIdx()] for b in mol.GetBonds()])\n",
    "    \n",
    "    # creating edge categorical features (covalent bond type)\n",
    "    single_efeat = typeint_edge_categorical_feat(weight_feat.shape, edge_list, pair_list, 1) # single\n",
    "    double_efeat = typeint_edge_categorical_feat(weight_feat.shape, edge_list, pair_list, 2) # double\n",
    "    aromatic_efeat = typeint_edge_categorical_feat(weight_feat.shape, edge_list, pair_list, 1.5) # aromatic\n",
    "\n",
    "    # Idea for pi_stacking (conditioned only for two molecules)\n",
    "    fragments = [np.array(frag) for frag in Chem.GetMolFrags(mol, asMols=False)]\n",
    "\n",
    "    # Get only aromatic atoms of each fragment (molecule)\n",
    "    aa_1 = np.intersect1d(np.array([aa.GetIdx() for aa in mol.GetAromaticAtoms()]), fragments[0])\n",
    "    aa_2 = np.intersect1d(np.array([aa.GetIdx() for aa in mol.GetAromaticAtoms()]), fragments[1])\n",
    "\n",
    "    # Collecting all the possible edges between aromatic atoms in aa_1 and aa_2\n",
    "    # Only non-diagonals (a and b can be distinct)\n",
    "    # Get list of connected (aromatic pi stacking) points (atoms)\n",
    "    aro_aro_pair_list = get_nondiagonals_connectivity(aa_1, aa_2)\n",
    "\n",
    "    # creating edge categorical features (non covalent bond type)\n",
    "    aroaro_pi_efeat = customint_edge_categorical_feat(\n",
    "    weight_feat.shape, edge_list, aro_aro_pair_list) # aromatic-aromatic pi stacking\n",
    "\n",
    "    # Get only SP2 atoms of each fragment including \n",
    "    #  N of peptide bond in isolated amino acids\n",
    "    sp2_1 = np.intersect1d(get_sp2_noaromatic_index(mol), fragments[0])\n",
    "    sp2_2 = np.intersect1d(get_sp2_noaromatic_index(mol), fragments[1])\n",
    "\n",
    "    # Collecting all the possible edges between aromatic atoms in sp2_1 and sp2_2\n",
    "    # Only non-diagonals (a and b can be distinct)\n",
    "    # Get list of connected (aromatic-sp2 pi stacking) points (atoms)\n",
    "    aro_sp2_list1 = get_nondiagonals_connectivity(aa_1, sp2_2)\n",
    "    aro_sp2_list2 = get_nondiagonals_connectivity(aa_2, sp2_1)\n",
    "    # Concatenate: full pi-stacking between intermolecular \n",
    "    #  sidechain and backbone\n",
    "    aro_sp2_pair_list = np.concatenate((aro_sp2_list1, aro_sp2_list2), axis=0)\n",
    "\n",
    "    # creating edge categorical features (non covalent bond type)\n",
    "    arosp2_pi_efeat = customint_edge_categorical_feat(\n",
    "    weight_feat.shape, edge_list, aro_sp2_pair_list) # aromatic-sp2 pi stacking\n",
    "\n",
    "    # Create cross-feature flag between pi-stacking interaction mediated by some distance threshold\n",
    "    cross_feat_flag_1 = cross_edge_feat_pi_stack(weight_feat, aroaro_pi_efeat, 6.5) # aromatic-aromatic < 6.5\n",
    "    cross_feat_flag_2 = cross_edge_feat_pi_stack(weight_feat, arosp2_pi_efeat, 5.5) # aromatic-sp2 < 5.5\n",
    "\n",
    "    return np.column_stack([\n",
    "        pairwise_feat,\n",
    "        single_efeat,\n",
    "        double_efeat,\n",
    "        aromatic_efeat,\n",
    "        aroaro_pi_efeat,\n",
    "        arosp2_pi_efeat,\n",
    "        cross_feat_flag_1,\n",
    "        cross_feat_flag_2\n",
    "    ])"
   ]
  },
  {
   "cell_type": "markdown",
   "id": "55ee71c6-3011-406d-993f-af74cd3c9745",
   "metadata": {},
   "source": [
    "### Load Molecule and external conditions"
   ]
  },
  {
   "cell_type": "code",
   "execution_count": 215,
   "id": "2d2144f4-b233-4bf5-afb8-d9ccd1fcbd69",
   "metadata": {},
   "outputs": [],
   "source": [
    "#### Loading molecules\n",
    "molecules = []\n",
    "# Load molecule from XYZ file using ASE\n",
    "pdb_file = \"AB_3.6A.pdb\"\n",
    "atoms = read(pdb_file, format=\"proteindatabank\")\n",
    "\n",
    "mol = Chem.MolFromPDBFile('AB_3.6A.pdb', removeHs=False)"
   ]
  },
  {
   "cell_type": "code",
   "execution_count": 216,
   "id": "d38d1e4f-ef3d-491c-907b-1a4c5b221e6b",
   "metadata": {},
   "outputs": [],
   "source": [
    "# Define the index pattern to match the backbone atoms\n",
    "backbone_tyr = np.array([1, 2, 3, 4, 5]) - 1#, 13, 14, 15, 16, 17, 18]) - 1\n",
    "backbone_phe = np.array([1, 2, 3, 4, 5]) - 1#, 12, 13, 14, 15, 16, 17]) - 1\n",
    "# Define the index pattern to match the sp2 atoms\n",
    "sp2_tyr = np.array([1, 2, 3, 4, 6, 7, 8, 9, 10, 11]) - 1\n",
    "sp2_phe = np.array([1, 2, 3, 4, 6, 7, 8, 9, 10, 11]) - 1"
   ]
  },
  {
   "cell_type": "code",
   "execution_count": 217,
   "id": "d1f65824-9170-48c2-b584-8908e5a67856",
   "metadata": {},
   "outputs": [],
   "source": [
    "cols = ['atom', 'residue', 'x', 'y', 'z']"
   ]
  },
  {
   "cell_type": "markdown",
   "id": "3fc62b43-1226-4bc3-9fbf-89e39c9ffe6d",
   "metadata": {},
   "source": [
    "### Get node and edge features"
   ]
  },
  {
   "cell_type": "code",
   "execution_count": 218,
   "id": "9a78dc18-2674-4eae-93d7-37197f48d974",
   "metadata": {},
   "outputs": [],
   "source": [
    "node_feats = featuring_pi_stack(pdb_file)"
   ]
  },
  {
   "cell_type": "code",
   "execution_count": 219,
   "id": "956e97eb-5519-4c2e-a0f5-22ea0ceeeee9",
   "metadata": {},
   "outputs": [],
   "source": [
    "# Get minimal information of edges required in GAT model\n",
    "edge_list, pairwise_feat = default_edge_feature(atoms)"
   ]
  },
  {
   "cell_type": "code",
   "execution_count": 220,
   "id": "658cdf25-5760-4bc7-97f4-d340bbe9dc5e",
   "metadata": {},
   "outputs": [],
   "source": [
    "edge_features = stack_categorical_edge_feats(mol, pairwise_feat, edge_list)"
   ]
  },
  {
   "cell_type": "code",
   "execution_count": 225,
   "id": "9669bd36-6541-40c4-b802-df68331310d5",
   "metadata": {},
   "outputs": [
    {
     "data": {
      "text/plain": [
       "'\\ndef get_nodes_edges(pdb_file)\\n    something like return [\\n    featuring_pi_stack(read(pdb_file, format=\"proteindatabank\")),\\n    default_edge_feature(atoms)[0],\\n    stack_categorical_edge_feats(Chem.MolFromPDBFile(pdb_file, removeHs=False), \\n     default_edge_feature(atoms)[1], default_edge_feature(atoms)[0])\\n     ]\\n'"
      ]
     },
     "execution_count": 225,
     "metadata": {},
     "output_type": "execute_result"
    }
   ],
   "source": [
    "\"\"\"\n",
    "def get_nodes_edges(pdb_file)\n",
    "    something like return [\n",
    "    featuring_pi_stack(read(pdb_file, format=\"proteindatabank\")),\n",
    "    default_edge_feature(atoms)[0],\n",
    "    stack_categorical_edge_feats(Chem.MolFromPDBFile(pdb_file, removeHs=False), \n",
    "     default_edge_feature(atoms)[1], default_edge_feature(atoms)[0])\n",
    "     ]\n",
    "\"\"\""
   ]
  },
  {
   "cell_type": "code",
   "execution_count": null,
   "id": "414934fa-9eaa-4688-b20a-19b597f26558",
   "metadata": {},
   "outputs": [],
   "source": []
  },
  {
   "cell_type": "code",
   "execution_count": 36,
   "id": "0acc8149-5306-4ea1-95dc-a1e593549281",
   "metadata": {},
   "outputs": [],
   "source": [
    "## This idea pays more attention over non-releveant information\n",
    "# Get all the covalent (connectivity) features\n",
    "all_covalentb = single_efeat + double_efeat + aromatic_efeat\n",
    "# Create a simple non-covalent (connectivity) feature as\n",
    "#  the \"opposite\" of the previous one\n",
    "# Initialize an array of ones\n",
    "non_covalent_efeat = np.ones(pairwise_feat.shape, dtype=int)\n",
    "# All the \"covalent\" indices are zero\n",
    "non_covalent_efeat[np.where(all_covalentb)[0]] = 0"
   ]
  },
  {
   "cell_type": "code",
   "execution_count": null,
   "id": "caba5d8e-9ee5-4724-8321-b09f8747d820",
   "metadata": {},
   "outputs": [],
   "source": []
  },
  {
   "cell_type": "code",
   "execution_count": 8,
   "id": "904c2a40-175f-4dda-a6a0-9c75e2db4674",
   "metadata": {},
   "outputs": [],
   "source": [
    "# without ASE\n",
    "def get_pairwise(atoms):\n",
    "    \"\"\"\n",
    "    Function that returns the pairwise matrix\n",
    "    of a molecule\n",
    "    \"\"\"\n",
    "    coords = atoms.get_positions()  # x, y, z coordinates\n",
    "\n",
    "    # Calculate the pairwise distance matrix using broadcasting\n",
    "    diff = coords[:, np.newaxis, :] - coords[np.newaxis, :, :]\n",
    "    return np.sqrt(np.sum(diff ** 2, axis=-1))"
   ]
  },
  {
   "cell_type": "code",
   "execution_count": 90,
   "id": "3018b454-9e61-408c-9666-38a7f751337d",
   "metadata": {},
   "outputs": [],
   "source": [
    "# with ASE\n",
    "#inertia_moments = atoms_1.get_moments_of_inertia()\n",
    "#inertia_moments == get_moments_inertia(atoms_1)\n",
    "inertia_moments, axes = atoms_1.get_moments_of_inertia(atoms_1)"
   ]
  },
  {
   "cell_type": "code",
   "execution_count": 97,
   "id": "cc4f4210-1b8d-4225-aaa5-6faac5494381",
   "metadata": {},
   "outputs": [],
   "source": [
    "# without ASE\n",
    "def get_moments_inertia(atoms):\n",
    "    \"\"\"\n",
    "    Function that returns the moments of inertia\n",
    "    of a molecule using a internal function that\n",
    "    calclates the inertia tensor\n",
    "    \"\"\"\n",
    "    \n",
    "    # Compute the principal moments of inertia (eigenvalues of the inertia tensor)\n",
    "    principal_moments_of_inertia, axes = np.linalg.eig(get_inertia_tensor(atoms))\n",
    "    return principal_moments_of_inertia, axes"
   ]
  },
  {
   "cell_type": "code",
   "execution_count": 98,
   "id": "0b273d9b-7014-4910-87d3-c12752b95bdb",
   "metadata": {},
   "outputs": [],
   "source": [
    "# without ASE\n",
    "def get_inertia_tensor(atoms, fullinfo=False):\n",
    "    \"\"\"\n",
    "    Function that returns the inertia tensor\n",
    "    of a molecule and its center of mass.\n",
    "    Using this function is possible to\n",
    "    get the moments of inertia and their axes and \n",
    "    to create distances between group of atoms along\n",
    "    the main axe.\n",
    "    \"\"\"\n",
    "\n",
    "    coords = atoms.get_positions()  # x, y, z coordinates\n",
    "    \n",
    "    # Take masses from the atoms\n",
    "    masses = atoms.get_masses()\n",
    "    \n",
    "    # Calculate the center of mass, weighted by atomic masses\n",
    "    center_of_mass = np.sum(masses[:, np.newaxis] *\\\n",
    "                            coords, axis=0) / np.sum(masses)\n",
    "\n",
    "    # Translate coordinates to the center of mass\n",
    "    translated_coords = coords - center_of_mass\n",
    "    \n",
    "\n",
    "    \n",
    "    # Extract x, y, z coordinates into separate arrays\n",
    "    x = translated_coords[:, 0]\n",
    "    y = translated_coords[:, 1]\n",
    "    z = translated_coords[:, 2]\n",
    "\n",
    "    # Compute components of the inertia tensor using broadcasting\n",
    "    Ixx = np.sum(masses * (y**2 + z**2))\n",
    "    Iyy = np.sum(masses * (x**2 + z**2))\n",
    "    Izz = np.sum(masses * (x**2 + y**2))\n",
    "    Ixy = -np.sum(masses * (x * y))\n",
    "    Ixz = -np.sum(masses * (x * z))\n",
    "    Iyz = -np.sum(masses * (y * z))\n",
    "\n",
    "    # Construct the inertia tensor matrix\n",
    "    inertia_tensor = np.array([\n",
    "        [Ixx, Ixy, Ixz],\n",
    "        [Ixy, Iyy, Iyz],\n",
    "        [Ixz, Iyz, Izz]\n",
    "    ])\n",
    "    \n",
    "    if not fullinfo:\n",
    "        return inertia_tensor\n",
    "    else:\n",
    "        return inertia_tensor, center_of_mass"
   ]
  },
  {
   "cell_type": "code",
   "execution_count": 220,
   "id": "ec796c66-4f92-4219-85f8-dd3578ad0abc",
   "metadata": {},
   "outputs": [],
   "source": [
    "def create_AB_distance(atoms, delta_d, position_lim):\n",
    "    \"\"\"\n",
    "    Function that uses the moments of inertia\n",
    "    of a molecule to create a separation between two group\n",
    "    of atoms distributed in the eigenvector corresponding to \n",
    "    the largest eigenvalue (the main axis of separation).\n",
    "    The distance separation is delta_d.\n",
    "    position_lim is a number that indicate up to which atom \n",
    "    position will be considered as a group of atoms to be \n",
    "    translated along the main axis.\n",
    "    \"\"\"\n",
    "\n",
    "    coords = atoms.get_positions()  # x, y, z coordinates\n",
    "\n",
    "    # Get the intertia tensor and the center of the mass\n",
    "    inertia_tensor, com = get_inertia_tensor(atoms, True)\n",
    "\n",
    "    # Compute the principal moments of inertia (eigenvalues of the inertia tensor)\n",
    "    principal_moments_of_inertia, axes = np.linalg.eig(inertia_tensor)\n",
    "    \n",
    "    # Main axis (largest eigenvalue)\n",
    "    main_axis = axes[:, np.argmin(principal_moments_of_inertia)]\n",
    "    # Translate coordinates to the center of mass\n",
    "    centered_coords = coords - com\n",
    "    \n",
    "    # Project coordinates onto the main axis\n",
    "    projections = np.dot(centered_coords, main_axis)\n",
    "\n",
    "    # Separate into two groups\n",
    "    median_proj = np.median(projections)\n",
    "    group_A_indices = np.where(projections < median_proj)[0]\n",
    "    group_B_indices = np.where(projections >= median_proj)[0]\n",
    "\n",
    "    # Translate group A along the main axis by delta_d\n",
    "    # Translate group A (using a position in a list of atoms as criteria)\n",
    "    # along the main axis by delta_d\n",
    "    translation_vector = delta_d * main_axis\n",
    "    centered_coords[group_A_indices] += translation_vector\n",
    "    #coords[0:position_lim] += translation_vector\n",
    "\n",
    "    # Reconstruct the final coordinates\n",
    "    coords_final = centered_coords + com\n",
    "\n",
    "    return coords_final#coords"
   ]
  },
  {
   "cell_type": "code",
   "execution_count": null,
   "id": "422ccfcf-87a6-4d5c-b238-24b3885b60d4",
   "metadata": {},
   "outputs": [],
   "source": []
  },
  {
   "cell_type": "code",
   "execution_count": 225,
   "id": "7911de8b-2d19-4249-96fa-814d73ef4b38",
   "metadata": {},
   "outputs": [],
   "source": [
    "# Create a new RDKit molecule object for the atoms_1 having a new distance separation\n",
    "mol1_1 = Chem.RWMol()"
   ]
  },
  {
   "cell_type": "code",
   "execution_count": 226,
   "id": "b59f427a-77c8-47c7-8ebf-903f6d5de091",
   "metadata": {},
   "outputs": [
    {
     "data": {
      "text/plain": [
       "0"
      ]
     },
     "execution_count": 226,
     "metadata": {},
     "output_type": "execute_result"
    }
   ],
   "source": [
    "for atom in atoms_1:\n",
    "    atom_num = int(atom.number)  # Atomic number from ASE\n",
    "    mol1_1.AddAtom(Chem.Atom(atom_num))\n",
    "\n",
    "# Add 3D coordinates to RDKit molecule\n",
    "conf1_1 = Chem.Conformer(mol1_1.GetNumAtoms())\n",
    "for i, atom_coords in enumerate(create_AB_distance(atoms_1, -5, 20)):\n",
    "    x, y, z = atom_coords  # Atom coordinates from the function\n",
    "    conf1_1.SetAtomPosition(i, Point3D(x, y, z))\n",
    "mol1_1.AddConformer(conf1_1)"
   ]
  },
  {
   "cell_type": "code",
   "execution_count": 190,
   "id": "235d021c-a908-47c9-b36a-9a05483571d3",
   "metadata": {},
   "outputs": [],
   "source": [
    "# Save to a PDB file\n",
    "pdb_file = \"mol1_origin.pdb\"\n",
    "Chem.rdmolfiles.MolToPDBFile(mol1, pdb_file)\n"
   ]
  },
  {
   "cell_type": "code",
   "execution_count": 215,
   "id": "eb9d511b-22e2-4f65-9b54-8640e8cfad63",
   "metadata": {},
   "outputs": [],
   "source": [
    "pdb_file = \"mol1_translated_5.pdb\"\n",
    "Chem.rdmolfiles.MolToPDBFile(mol1_1, pdb_file)"
   ]
  },
  {
   "cell_type": "code",
   "execution_count": 194,
   "id": "f9cd4e16-a75b-4382-9d93-fd5259f939fb",
   "metadata": {},
   "outputs": [],
   "source": [
    "pdb_file = \"mol1_translated_another5.pdb\"\n",
    "Chem.rdmolfiles.MolToPDBFile(mol1_1, pdb_file)"
   ]
  },
  {
   "cell_type": "code",
   "execution_count": 210,
   "id": "fec7d8d4-38f0-4859-835c-9ea676071f98",
   "metadata": {},
   "outputs": [],
   "source": [
    "pdb_file = \"mol1_translated_another5_1.pdb\"\n",
    "Chem.rdmolfiles.MolToPDBFile(mol1_1, pdb_file)"
   ]
  },
  {
   "cell_type": "code",
   "execution_count": 229,
   "id": "825a0317-4099-4032-836d-efb753cfcc0a",
   "metadata": {},
   "outputs": [],
   "source": [
    "pdb_file = \"mol1_translated_another5_2.pdb\"\n",
    "Chem.rdmolfiles.MolToPDBFile(mol1_1, pdb_file)"
   ]
  },
  {
   "cell_type": "code",
   "execution_count": 200,
   "id": "0d4de926-7bc9-49bb-9828-4401d47c5363",
   "metadata": {},
   "outputs": [
    {
     "data": {
      "text/plain": [
       "array([ 0.        ,  0.30612245,  0.6122449 ,  0.91836735,  1.2244898 ,\n",
       "        1.53061224,  1.83673469,  2.14285714,  2.44897959,  2.75510204,\n",
       "        3.06122449,  3.36734694,  3.67346939,  3.97959184,  4.28571429,\n",
       "        4.59183673,  4.89795918,  5.20408163,  5.51020408,  5.81632653,\n",
       "        6.12244898,  6.42857143,  6.73469388,  7.04081633,  7.34693878,\n",
       "        7.65306122,  7.95918367,  8.26530612,  8.57142857,  8.87755102,\n",
       "        9.18367347,  9.48979592,  9.79591837, 10.10204082, 10.40816327,\n",
       "       10.71428571, 11.02040816, 11.32653061, 11.63265306, 11.93877551,\n",
       "       12.24489796, 12.55102041, 12.85714286, 13.16326531, 13.46938776,\n",
       "       13.7755102 , 14.08163265, 14.3877551 , 14.69387755, 15.        ])"
      ]
     },
     "execution_count": 200,
     "metadata": {},
     "output_type": "execute_result"
    }
   ],
   "source": [
    "np.linspace(0, 15, 50)"
   ]
  },
  {
   "cell_type": "code",
   "execution_count": 224,
   "id": "28c1b96a-9cdc-4c88-9d54-3bedb426289f",
   "metadata": {},
   "outputs": [],
   "source": [
    "def radial_distribution_function(atoms):\n",
    "    \"\"\"\n",
    "    This function calculates the radial distribution\n",
    "    function of a set of coordinates of a molecule\n",
    "    \"\"\"\n",
    "    coords = atoms.get_positions()\n",
    "\n",
    "    # Compute pairwise distances using broadcasting\n",
    "    diff = coords[:, np.newaxis, :] - coords[np.newaxis, :, :]\n",
    "    distances = np.linalg.norm(diff, axis=-1)  # Shape (N x N)\n",
    "    \n",
    "    # Define bins using maximum distance as threshold\n",
    "    ceil = np.ceil(atoms.get_all_distances().max())\n",
    "    # Define bins for the RDF (max_distance Å, 100 bins)\n",
    "    bins = np.linspace(0, ceil, 50)  #\n",
    "    rdf = np.zeros(len(bins) - 1)   # Initialize RDF\n",
    "\n",
    "    # Flatten the distance matrix taking only Upper triangle\n",
    "    # without diagonal (self-distances)\n",
    "    distances = distances[np.triu_indices(len(coords), k=1)]\n",
    "    \n",
    "    # Calculate the histogram over all distances\n",
    "    rdf, _ = np.histogram(distances, bins=bins)\n",
    "\n",
    "    # Normalize the RDF\n",
    "    # Calculate spherical shell volumes for each bin\n",
    "    volume = (4/3) * np.pi * (bins[1:]**3 - bins[:-1]**3)\n",
    "\n",
    "    # Calculate the density of atoms\n",
    "    density = len(coords) / np.sum(volume)\n",
    "\n",
    "    # Normalize RDF by density and volume\n",
    "    rdf = rdf / (density * volume)\n",
    "    return rdf"
   ]
  },
  {
   "cell_type": "code",
   "execution_count": 223,
   "id": "51520a9c-3404-4ca3-b6c0-b05de639dda9",
   "metadata": {},
   "outputs": [
    {
     "data": {
      "text/plain": [
       "(49, 41)"
      ]
     },
     "execution_count": 223,
     "metadata": {},
     "output_type": "execute_result"
    }
   ],
   "source": [
    "len(radial_distribution_function(atoms_1)), len (atoms_1)"
   ]
  },
  {
   "cell_type": "code",
   "execution_count": null,
   "id": "ec81cb3e-d009-42e2-80bd-16bc514156fe",
   "metadata": {},
   "outputs": [],
   "source": [
    "##### Preparing for clustering"
   ]
  },
  {
   "cell_type": "code",
   "execution_count": 11,
   "id": "6571f903-2ed6-497d-966f-45244f753b7c",
   "metadata": {},
   "outputs": [],
   "source": [
    "# Extract 3D coordinates for both molecules\n",
    "coords1 = [mol1.GetConformer().GetAtomPosition(i) for i in range(mol1.GetNumAtoms())]\n",
    "coords2 = [mol2.GetConformer().GetAtomPosition(i) for i in range(mol2.GetNumAtoms())]"
   ]
  },
  {
   "cell_type": "code",
   "execution_count": 12,
   "id": "edc1465a-e800-4ebb-8ef7-ad39b5114fcb",
   "metadata": {},
   "outputs": [],
   "source": [
    "# Combine the coordinates from both molecules into a single dataset for clustering\n",
    "all_coords = np.vstack((coords1, coords2))  # This combines the coordinates into a single array"
   ]
  },
  {
   "cell_type": "code",
   "execution_count": 5,
   "id": "d1e21bd9-5163-4fa2-8b86-74cfde3570a6",
   "metadata": {},
   "outputs": [
    {
     "data": {
      "application/3dmoljs_load.v0": "<div id=\"3dmolviewer_17377498445288029\"  style=\"position: relative; width: 400px; height: 400px;\">\n        <p id=\"3dmolwarning_17377498445288029\" style=\"background-color:#ffcccc;color:black\">3Dmol.js failed to load for some reason.  Please check your browser console for error messages.<br></p>\n        </div>\n<script>\n\nvar loadScriptAsync = function(uri){\n  return new Promise((resolve, reject) => {\n    //this is to ignore the existence of requirejs amd\n    var savedexports, savedmodule;\n    if (typeof exports !== 'undefined') savedexports = exports;\n    else exports = {}\n    if (typeof module !== 'undefined') savedmodule = module;\n    else module = {}\n\n    var tag = document.createElement('script');\n    tag.src = uri;\n    tag.async = true;\n    tag.onload = () => {\n        exports = savedexports;\n        module = savedmodule;\n        resolve();\n    };\n  var firstScriptTag = document.getElementsByTagName('script')[0];\n  firstScriptTag.parentNode.insertBefore(tag, firstScriptTag);\n});\n};\n\nif(typeof $3Dmolpromise === 'undefined') {\n$3Dmolpromise = null;\n  $3Dmolpromise = loadScriptAsync('https://cdnjs.cloudflare.com/ajax/libs/3Dmol/2.4.2/3Dmol-min.js');\n}\n\nvar viewer_17377498445288029 = null;\nvar warn = document.getElementById(\"3dmolwarning_17377498445288029\");\nif(warn) {\n    warn.parentNode.removeChild(warn);\n}\n$3Dmolpromise.then(function() {\nviewer_17377498445288029 = $3Dmol.createViewer(document.getElementById(\"3dmolviewer_17377498445288029\"),{backgroundColor:\"white\"});\nviewer_17377498445288029.zoomTo();\n\tviewer_17377498445288029.addModel(\"HETATM    1  N1  UNL     1       0.000   0.000   0.000  1.00  0.00           N  \\nHETATM    2  C1  UNL     1       0.000   0.000   0.000  1.00  0.00           C  \\nHETATM    3  C2  UNL     1       0.000   0.000   0.000  1.00  0.00           C  \\nHETATM    4  O1  UNL     1       0.000   0.000   0.000  1.00  0.00           O  \\nHETATM    5  C3  UNL     1       0.000   0.000   0.000  1.00  0.00           C  \\nHETATM    6  C4  UNL     1       0.000   0.000   0.000  1.00  0.00           C  \\nHETATM    7  C5  UNL     1       0.000   0.000   0.000  1.00  0.00           C  \\nHETATM    8  C6  UNL     1       0.000   0.000   0.000  1.00  0.00           C  \\nHETATM    9  C7  UNL     1       0.000   0.000   0.000  1.00  0.00           C  \\nHETATM   10  C8  UNL     1       0.000   0.000   0.000  1.00  0.00           C  \\nHETATM   11  C9  UNL     1       0.000   0.000   0.000  1.00  0.00           C  \\nHETATM   12  H1  UNL     1       0.000   0.000   0.000  1.00  0.00           H  \\nHETATM   13  H2  UNL     1       0.000   0.000   0.000  1.00  0.00           H  \\nHETATM   14  H3  UNL     1       0.000   0.000   0.000  1.00  0.00           H  \\nHETATM   15  H4  UNL     1       0.000   0.000   0.000  1.00  0.00           H  \\nHETATM   16  H5  UNL     1       0.000   0.000   0.000  1.00  0.00           H  \\nHETATM   17  H6  UNL     1       0.000   0.000   0.000  1.00  0.00           H  \\nHETATM   18  H7  UNL     1       0.000   0.000   0.000  1.00  0.00           H  \\nHETATM   19  H8  UNL     1       0.000   0.000   0.000  1.00  0.00           H  \\nHETATM   20  H9  UNL     1       0.000   0.000   0.000  1.00  0.00           H  \\nHETATM   21  N2  UNL     1       0.000   0.000   0.000  1.00  0.00           N  \\nHETATM   22  C10 UNL     1       0.000   0.000   0.000  1.00  0.00           C  \\nHETATM   23  C11 UNL     1       0.000   0.000   0.000  1.00  0.00           C  \\nHETATM   24  O2  UNL     1       0.000   0.000   0.000  1.00  0.00           O  \\nHETATM   25  C12 UNL     1       0.000   0.000   0.000  1.00  0.00           C  \\nHETATM   26  C13 UNL     1       0.000   0.000   0.000  1.00  0.00           C  \\nHETATM   27  C14 UNL     1       0.000   0.000   0.000  1.00  0.00           C  \\nHETATM   28  C15 UNL     1       0.000   0.000   0.000  1.00  0.00           C  \\nHETATM   29  C16 UNL     1       0.000   0.000   0.000  1.00  0.00           C  \\nHETATM   30  C17 UNL     1       0.000   0.000   0.000  1.00  0.00           C  \\nHETATM   31  C18 UNL     1       0.000   0.000   0.000  1.00  0.00           C  \\nHETATM   32  O3  UNL     1       0.000   0.000   0.000  1.00  0.00           O  \\nHETATM   33  H10 UNL     1       0.000   0.000   0.000  1.00  0.00           H  \\nHETATM   34  H11 UNL     1       0.000   0.000   0.000  1.00  0.00           H  \\nHETATM   35  H12 UNL     1       0.000   0.000   0.000  1.00  0.00           H  \\nHETATM   36  H13 UNL     1       0.000   0.000   0.000  1.00  0.00           H  \\nHETATM   37  H14 UNL     1       0.000   0.000   0.000  1.00  0.00           H  \\nHETATM   38  H15 UNL     1       0.000   0.000   0.000  1.00  0.00           H  \\nHETATM   39  H16 UNL     1       0.000   0.000   0.000  1.00  0.00           H  \\nHETATM   40  H17 UNL     1       0.000   0.000   0.000  1.00  0.00           H  \\nHETATM   41  H18 UNL     1       0.000   0.000   0.000  1.00  0.00           H  \\nEND\\n\",\"pdb\");\n\tviewer_17377498445288029.setStyle({\"sphere\": {\"radius\": 0.2, \"color\": \"white\"}});\n\tviewer_17377498445288029.setStyle({\"stick\": {}});\n\tviewer_17377498445288029.zoomTo();\nviewer_17377498445288029.render();\n});\n</script>",
      "text/html": [
       "<div id=\"3dmolviewer_17377498445288029\"  style=\"position: relative; width: 400px; height: 400px;\">\n",
       "        <p id=\"3dmolwarning_17377498445288029\" style=\"background-color:#ffcccc;color:black\">3Dmol.js failed to load for some reason.  Please check your browser console for error messages.<br></p>\n",
       "        </div>\n",
       "<script>\n",
       "\n",
       "var loadScriptAsync = function(uri){\n",
       "  return new Promise((resolve, reject) => {\n",
       "    //this is to ignore the existence of requirejs amd\n",
       "    var savedexports, savedmodule;\n",
       "    if (typeof exports !== 'undefined') savedexports = exports;\n",
       "    else exports = {}\n",
       "    if (typeof module !== 'undefined') savedmodule = module;\n",
       "    else module = {}\n",
       "\n",
       "    var tag = document.createElement('script');\n",
       "    tag.src = uri;\n",
       "    tag.async = true;\n",
       "    tag.onload = () => {\n",
       "        exports = savedexports;\n",
       "        module = savedmodule;\n",
       "        resolve();\n",
       "    };\n",
       "  var firstScriptTag = document.getElementsByTagName('script')[0];\n",
       "  firstScriptTag.parentNode.insertBefore(tag, firstScriptTag);\n",
       "});\n",
       "};\n",
       "\n",
       "if(typeof $3Dmolpromise === 'undefined') {\n",
       "$3Dmolpromise = null;\n",
       "  $3Dmolpromise = loadScriptAsync('https://cdnjs.cloudflare.com/ajax/libs/3Dmol/2.4.2/3Dmol-min.js');\n",
       "}\n",
       "\n",
       "var viewer_17377498445288029 = null;\n",
       "var warn = document.getElementById(\"3dmolwarning_17377498445288029\");\n",
       "if(warn) {\n",
       "    warn.parentNode.removeChild(warn);\n",
       "}\n",
       "$3Dmolpromise.then(function() {\n",
       "viewer_17377498445288029 = $3Dmol.createViewer(document.getElementById(\"3dmolviewer_17377498445288029\"),{backgroundColor:\"white\"});\n",
       "viewer_17377498445288029.zoomTo();\n",
       "\tviewer_17377498445288029.addModel(\"HETATM    1  N1  UNL     1       0.000   0.000   0.000  1.00  0.00           N  \\nHETATM    2  C1  UNL     1       0.000   0.000   0.000  1.00  0.00           C  \\nHETATM    3  C2  UNL     1       0.000   0.000   0.000  1.00  0.00           C  \\nHETATM    4  O1  UNL     1       0.000   0.000   0.000  1.00  0.00           O  \\nHETATM    5  C3  UNL     1       0.000   0.000   0.000  1.00  0.00           C  \\nHETATM    6  C4  UNL     1       0.000   0.000   0.000  1.00  0.00           C  \\nHETATM    7  C5  UNL     1       0.000   0.000   0.000  1.00  0.00           C  \\nHETATM    8  C6  UNL     1       0.000   0.000   0.000  1.00  0.00           C  \\nHETATM    9  C7  UNL     1       0.000   0.000   0.000  1.00  0.00           C  \\nHETATM   10  C8  UNL     1       0.000   0.000   0.000  1.00  0.00           C  \\nHETATM   11  C9  UNL     1       0.000   0.000   0.000  1.00  0.00           C  \\nHETATM   12  H1  UNL     1       0.000   0.000   0.000  1.00  0.00           H  \\nHETATM   13  H2  UNL     1       0.000   0.000   0.000  1.00  0.00           H  \\nHETATM   14  H3  UNL     1       0.000   0.000   0.000  1.00  0.00           H  \\nHETATM   15  H4  UNL     1       0.000   0.000   0.000  1.00  0.00           H  \\nHETATM   16  H5  UNL     1       0.000   0.000   0.000  1.00  0.00           H  \\nHETATM   17  H6  UNL     1       0.000   0.000   0.000  1.00  0.00           H  \\nHETATM   18  H7  UNL     1       0.000   0.000   0.000  1.00  0.00           H  \\nHETATM   19  H8  UNL     1       0.000   0.000   0.000  1.00  0.00           H  \\nHETATM   20  H9  UNL     1       0.000   0.000   0.000  1.00  0.00           H  \\nHETATM   21  N2  UNL     1       0.000   0.000   0.000  1.00  0.00           N  \\nHETATM   22  C10 UNL     1       0.000   0.000   0.000  1.00  0.00           C  \\nHETATM   23  C11 UNL     1       0.000   0.000   0.000  1.00  0.00           C  \\nHETATM   24  O2  UNL     1       0.000   0.000   0.000  1.00  0.00           O  \\nHETATM   25  C12 UNL     1       0.000   0.000   0.000  1.00  0.00           C  \\nHETATM   26  C13 UNL     1       0.000   0.000   0.000  1.00  0.00           C  \\nHETATM   27  C14 UNL     1       0.000   0.000   0.000  1.00  0.00           C  \\nHETATM   28  C15 UNL     1       0.000   0.000   0.000  1.00  0.00           C  \\nHETATM   29  C16 UNL     1       0.000   0.000   0.000  1.00  0.00           C  \\nHETATM   30  C17 UNL     1       0.000   0.000   0.000  1.00  0.00           C  \\nHETATM   31  C18 UNL     1       0.000   0.000   0.000  1.00  0.00           C  \\nHETATM   32  O3  UNL     1       0.000   0.000   0.000  1.00  0.00           O  \\nHETATM   33  H10 UNL     1       0.000   0.000   0.000  1.00  0.00           H  \\nHETATM   34  H11 UNL     1       0.000   0.000   0.000  1.00  0.00           H  \\nHETATM   35  H12 UNL     1       0.000   0.000   0.000  1.00  0.00           H  \\nHETATM   36  H13 UNL     1       0.000   0.000   0.000  1.00  0.00           H  \\nHETATM   37  H14 UNL     1       0.000   0.000   0.000  1.00  0.00           H  \\nHETATM   38  H15 UNL     1       0.000   0.000   0.000  1.00  0.00           H  \\nHETATM   39  H16 UNL     1       0.000   0.000   0.000  1.00  0.00           H  \\nHETATM   40  H17 UNL     1       0.000   0.000   0.000  1.00  0.00           H  \\nHETATM   41  H18 UNL     1       0.000   0.000   0.000  1.00  0.00           H  \\nEND\\n\",\"pdb\");\n",
       "\tviewer_17377498445288029.setStyle({\"sphere\": {\"radius\": 0.2, \"color\": \"white\"}});\n",
       "\tviewer_17377498445288029.setStyle({\"stick\": {}});\n",
       "\tviewer_17377498445288029.zoomTo();\n",
       "viewer_17377498445288029.render();\n",
       "});\n",
       "</script>"
      ]
     },
     "metadata": {},
     "output_type": "display_data"
    }
   ],
   "source": [
    "import py3Dmol\n",
    "\n",
    "# Convert the RDKit molecule to a PDB string\n",
    "pdb_str = Chem.MolToPDBBlock(mol1)\n",
    "\n",
    "# Create a viewer\n",
    "viewer = py3Dmol.view(width=400, height=400, linked=True)\n",
    "viewer.addModel(pdb_str, 'pdb')\n",
    "\n",
    "# Set the style for ball-and-stick representation\n",
    "#viewer.setStyle({'stick': {}}, selector='*')  # Show bonds as sticks\n",
    "# Set the style to include hydrogen atoms\n",
    "viewer.setStyle({'sphere': {'radius': 0.2, 'color': 'white'}}, selector='H', viewer=(1,0))  # Display H atoms as spheres\n",
    "\n",
    "# Set the style for bonds (sticks)\n",
    "viewer.setStyle({'stick': {}}, selector='*')\n",
    "\n",
    "viewer.zoomTo()\n",
    "viewer.show()"
   ]
  },
  {
   "cell_type": "code",
   "execution_count": 228,
   "id": "f7b0b242-1995-4322-87c9-4cadf6d2b4a9",
   "metadata": {},
   "outputs": [
    {
     "data": {
      "application/3dmoljs_load.v0": "<div id=\"3dmolviewer_17375638366423526\"  style=\"position: relative; width: 400px; height: 400px;\">\n        <p id=\"3dmolwarning_17375638366423526\" style=\"background-color:#ffcccc;color:black\">3Dmol.js failed to load for some reason.  Please check your browser console for error messages.<br></p>\n        </div>\n<script>\n\nvar loadScriptAsync = function(uri){\n  return new Promise((resolve, reject) => {\n    //this is to ignore the existence of requirejs amd\n    var savedexports, savedmodule;\n    if (typeof exports !== 'undefined') savedexports = exports;\n    else exports = {}\n    if (typeof module !== 'undefined') savedmodule = module;\n    else module = {}\n\n    var tag = document.createElement('script');\n    tag.src = uri;\n    tag.async = true;\n    tag.onload = () => {\n        exports = savedexports;\n        module = savedmodule;\n        resolve();\n    };\n  var firstScriptTag = document.getElementsByTagName('script')[0];\n  firstScriptTag.parentNode.insertBefore(tag, firstScriptTag);\n});\n};\n\nif(typeof $3Dmolpromise === 'undefined') {\n$3Dmolpromise = null;\n  $3Dmolpromise = loadScriptAsync('https://cdnjs.cloudflare.com/ajax/libs/3Dmol/2.4.2/3Dmol-min.js');\n}\n\nvar viewer_17375638366423526 = null;\nvar warn = document.getElementById(\"3dmolwarning_17375638366423526\");\nif(warn) {\n    warn.parentNode.removeChild(warn);\n}\n$3Dmolpromise.then(function() {\nviewer_17375638366423526 = $3Dmol.createViewer(document.getElementById(\"3dmolviewer_17375638366423526\"),{backgroundColor:\"white\"});\nviewer_17375638366423526.zoomTo();\n\tviewer_17375638366423526.addModel(\"HETATM    1  N1  UNL     1     -19.991 -30.524  20.385  1.00  0.00           N  \\nHETATM    2  C1  UNL     1     -20.214 -31.002  21.744  1.00  0.00           C  \\nHETATM    3  C2  UNL     1     -20.228 -32.522  21.788  1.00  0.00           C  \\nHETATM    4  O1  UNL     1     -19.542 -33.138  22.613  1.00  0.00           O  \\nHETATM    5  C3  UNL     1     -21.541 -30.438  22.277  1.00  0.00           C  \\nHETATM    6  C4  UNL     1     -21.997 -31.106  23.558  1.00  0.00           C  \\nHETATM    7  C5  UNL     1     -21.469 -30.700  24.794  1.00  0.00           C  \\nHETATM    8  C6  UNL     1     -22.881 -32.198  23.506  1.00  0.00           C  \\nHETATM    9  C7  UNL     1     -21.813 -31.377  25.976  1.00  0.00           C  \\nHETATM   10  C8  UNL     1     -23.203 -32.894  24.680  1.00  0.00           C  \\nHETATM   11  C9  UNL     1     -22.674 -32.484  25.916  1.00  0.00           C  \\nHETATM   12  H1  UNL     1     -20.747 -30.082  19.872  1.00  0.00           H  \\nHETATM   13  H2  UNL     1     -19.404 -30.673  22.392  1.00  0.00           H  \\nHETATM   14  H3  UNL     1     -22.322 -30.567  21.529  1.00  0.00           H  \\nHETATM   15  H4  UNL     1     -21.433 -29.371  22.444  1.00  0.00           H  \\nHETATM   16  H5  UNL     1     -20.817 -29.850  24.839  1.00  0.00           H  \\nHETATM   17  H6  UNL     1     -23.287 -32.533  22.562  1.00  0.00           H  \\nHETATM   18  H7  UNL     1     -21.407 -31.053  26.923  1.00  0.00           H  \\nHETATM   19  H8  UNL     1     -23.842 -33.758  24.616  1.00  0.00           H  \\nHETATM   20  H9  UNL     1     -22.919 -33.025  26.816  1.00  0.00           H  \\nHETATM   21  N2  UNL     1     -19.657 -43.691  30.975  1.00  0.00           N  \\nHETATM   22  C10 UNL     1     -20.999 -43.150  31.136  1.00  0.00           C  \\nHETATM   23  C11 UNL     1     -21.885 -43.596  29.980  1.00  0.00           C  \\nHETATM   24  O2  UNL     1     -21.419 -43.795  28.854  1.00  0.00           O  \\nHETATM   25  C12 UNL     1     -20.985 -41.618  31.269  1.00  0.00           C  \\nHETATM   26  C13 UNL     1     -20.807 -41.055  32.669  1.00  0.00           C  \\nHETATM   27  C14 UNL     1     -19.768 -41.504  33.505  1.00  0.00           C  \\nHETATM   28  C15 UNL     1     -21.687 -40.061  33.134  1.00  0.00           C  \\nHETATM   29  C16 UNL     1     -19.647 -41.009  34.816  1.00  0.00           C  \\nHETATM   30  C17 UNL     1     -21.565 -39.549  34.438  1.00  0.00           C  \\nHETATM   31  C18 UNL     1     -20.559 -40.045  35.293  1.00  0.00           C  \\nHETATM   32  O3  UNL     1     -20.483 -39.616  36.580  1.00  0.00           O  \\nHETATM   33  H10 UNL     1     -19.032 -43.227  30.331  1.00  0.00           H  \\nHETATM   34  H11 UNL     1     -21.455 -43.540  32.046  1.00  0.00           H  \\nHETATM   35  H12 UNL     1     -21.918 -41.241  30.872  1.00  0.00           H  \\nHETATM   36  H13 UNL     1     -20.389 -37.723  27.034  1.00  0.00           H  \\nHETATM   37  H14 UNL     1     -19.071 -42.242  33.148  1.00  0.00           H  \\nHETATM   38  H15 UNL     1     -22.467 -39.696  32.487  1.00  0.00           H  \\nHETATM   39  H16 UNL     1     -18.865 -41.379  35.463  1.00  0.00           H  \\nHETATM   40  H17 UNL     1     -22.249 -38.790  34.779  1.00  0.00           H  \\nHETATM   41  H18 UNL     1     -21.205 -39.027  36.805  1.00  0.00           H  \\nEND\\n\",\"pdb\");\n\tviewer_17375638366423526.setStyle({\"sphere\": {\"radius\": 0.2, \"color\": \"white\"}});\n\tviewer_17375638366423526.setStyle({\"stick\": {}});\n\tviewer_17375638366423526.zoomTo();\nviewer_17375638366423526.render();\n});\n</script>",
      "text/html": [
       "<div id=\"3dmolviewer_17375638366423526\"  style=\"position: relative; width: 400px; height: 400px;\">\n",
       "        <p id=\"3dmolwarning_17375638366423526\" style=\"background-color:#ffcccc;color:black\">3Dmol.js failed to load for some reason.  Please check your browser console for error messages.<br></p>\n",
       "        </div>\n",
       "<script>\n",
       "\n",
       "var loadScriptAsync = function(uri){\n",
       "  return new Promise((resolve, reject) => {\n",
       "    //this is to ignore the existence of requirejs amd\n",
       "    var savedexports, savedmodule;\n",
       "    if (typeof exports !== 'undefined') savedexports = exports;\n",
       "    else exports = {}\n",
       "    if (typeof module !== 'undefined') savedmodule = module;\n",
       "    else module = {}\n",
       "\n",
       "    var tag = document.createElement('script');\n",
       "    tag.src = uri;\n",
       "    tag.async = true;\n",
       "    tag.onload = () => {\n",
       "        exports = savedexports;\n",
       "        module = savedmodule;\n",
       "        resolve();\n",
       "    };\n",
       "  var firstScriptTag = document.getElementsByTagName('script')[0];\n",
       "  firstScriptTag.parentNode.insertBefore(tag, firstScriptTag);\n",
       "});\n",
       "};\n",
       "\n",
       "if(typeof $3Dmolpromise === 'undefined') {\n",
       "$3Dmolpromise = null;\n",
       "  $3Dmolpromise = loadScriptAsync('https://cdnjs.cloudflare.com/ajax/libs/3Dmol/2.4.2/3Dmol-min.js');\n",
       "}\n",
       "\n",
       "var viewer_17375638366423526 = null;\n",
       "var warn = document.getElementById(\"3dmolwarning_17375638366423526\");\n",
       "if(warn) {\n",
       "    warn.parentNode.removeChild(warn);\n",
       "}\n",
       "$3Dmolpromise.then(function() {\n",
       "viewer_17375638366423526 = $3Dmol.createViewer(document.getElementById(\"3dmolviewer_17375638366423526\"),{backgroundColor:\"white\"});\n",
       "viewer_17375638366423526.zoomTo();\n",
       "\tviewer_17375638366423526.addModel(\"HETATM    1  N1  UNL     1     -19.991 -30.524  20.385  1.00  0.00           N  \\nHETATM    2  C1  UNL     1     -20.214 -31.002  21.744  1.00  0.00           C  \\nHETATM    3  C2  UNL     1     -20.228 -32.522  21.788  1.00  0.00           C  \\nHETATM    4  O1  UNL     1     -19.542 -33.138  22.613  1.00  0.00           O  \\nHETATM    5  C3  UNL     1     -21.541 -30.438  22.277  1.00  0.00           C  \\nHETATM    6  C4  UNL     1     -21.997 -31.106  23.558  1.00  0.00           C  \\nHETATM    7  C5  UNL     1     -21.469 -30.700  24.794  1.00  0.00           C  \\nHETATM    8  C6  UNL     1     -22.881 -32.198  23.506  1.00  0.00           C  \\nHETATM    9  C7  UNL     1     -21.813 -31.377  25.976  1.00  0.00           C  \\nHETATM   10  C8  UNL     1     -23.203 -32.894  24.680  1.00  0.00           C  \\nHETATM   11  C9  UNL     1     -22.674 -32.484  25.916  1.00  0.00           C  \\nHETATM   12  H1  UNL     1     -20.747 -30.082  19.872  1.00  0.00           H  \\nHETATM   13  H2  UNL     1     -19.404 -30.673  22.392  1.00  0.00           H  \\nHETATM   14  H3  UNL     1     -22.322 -30.567  21.529  1.00  0.00           H  \\nHETATM   15  H4  UNL     1     -21.433 -29.371  22.444  1.00  0.00           H  \\nHETATM   16  H5  UNL     1     -20.817 -29.850  24.839  1.00  0.00           H  \\nHETATM   17  H6  UNL     1     -23.287 -32.533  22.562  1.00  0.00           H  \\nHETATM   18  H7  UNL     1     -21.407 -31.053  26.923  1.00  0.00           H  \\nHETATM   19  H8  UNL     1     -23.842 -33.758  24.616  1.00  0.00           H  \\nHETATM   20  H9  UNL     1     -22.919 -33.025  26.816  1.00  0.00           H  \\nHETATM   21  N2  UNL     1     -19.657 -43.691  30.975  1.00  0.00           N  \\nHETATM   22  C10 UNL     1     -20.999 -43.150  31.136  1.00  0.00           C  \\nHETATM   23  C11 UNL     1     -21.885 -43.596  29.980  1.00  0.00           C  \\nHETATM   24  O2  UNL     1     -21.419 -43.795  28.854  1.00  0.00           O  \\nHETATM   25  C12 UNL     1     -20.985 -41.618  31.269  1.00  0.00           C  \\nHETATM   26  C13 UNL     1     -20.807 -41.055  32.669  1.00  0.00           C  \\nHETATM   27  C14 UNL     1     -19.768 -41.504  33.505  1.00  0.00           C  \\nHETATM   28  C15 UNL     1     -21.687 -40.061  33.134  1.00  0.00           C  \\nHETATM   29  C16 UNL     1     -19.647 -41.009  34.816  1.00  0.00           C  \\nHETATM   30  C17 UNL     1     -21.565 -39.549  34.438  1.00  0.00           C  \\nHETATM   31  C18 UNL     1     -20.559 -40.045  35.293  1.00  0.00           C  \\nHETATM   32  O3  UNL     1     -20.483 -39.616  36.580  1.00  0.00           O  \\nHETATM   33  H10 UNL     1     -19.032 -43.227  30.331  1.00  0.00           H  \\nHETATM   34  H11 UNL     1     -21.455 -43.540  32.046  1.00  0.00           H  \\nHETATM   35  H12 UNL     1     -21.918 -41.241  30.872  1.00  0.00           H  \\nHETATM   36  H13 UNL     1     -20.389 -37.723  27.034  1.00  0.00           H  \\nHETATM   37  H14 UNL     1     -19.071 -42.242  33.148  1.00  0.00           H  \\nHETATM   38  H15 UNL     1     -22.467 -39.696  32.487  1.00  0.00           H  \\nHETATM   39  H16 UNL     1     -18.865 -41.379  35.463  1.00  0.00           H  \\nHETATM   40  H17 UNL     1     -22.249 -38.790  34.779  1.00  0.00           H  \\nHETATM   41  H18 UNL     1     -21.205 -39.027  36.805  1.00  0.00           H  \\nEND\\n\",\"pdb\");\n",
       "\tviewer_17375638366423526.setStyle({\"sphere\": {\"radius\": 0.2, \"color\": \"white\"}});\n",
       "\tviewer_17375638366423526.setStyle({\"stick\": {}});\n",
       "\tviewer_17375638366423526.zoomTo();\n",
       "viewer_17375638366423526.render();\n",
       "});\n",
       "</script>"
      ]
     },
     "metadata": {},
     "output_type": "display_data"
    }
   ],
   "source": [
    "import py3Dmol\n",
    "\n",
    "# Convert the RDKit molecule to a PDB string\n",
    "pdb_str = Chem.MolToPDBBlock(mol1_1)\n",
    "\n",
    "# Create a viewer\n",
    "viewer = py3Dmol.view(width=400, height=400, linked=True)\n",
    "viewer.addModel(pdb_str, 'pdb')\n",
    "\n",
    "# Set the style for ball-and-stick representation\n",
    "#viewer.setStyle({'stick': {}}, selector='*')  # Show bonds as sticks\n",
    "# Set the style to include hydrogen atoms\n",
    "viewer.setStyle({'sphere': {'radius': 0.2, 'color': 'white'}}, selector='H', viewer=(1,0))  # Display H atoms as spheres\n",
    "\n",
    "# Set the style for bonds (sticks)\n",
    "viewer.setStyle({'stick': {}}, selector='*')\n",
    "\n",
    "viewer.zoomTo()\n",
    "viewer.show()"
   ]
  },
  {
   "cell_type": "code",
   "execution_count": 14,
   "id": "18534e38-a23b-44a9-be47-27a568b11872",
   "metadata": {},
   "outputs": [],
   "source": [
    "# Extract atom positions (x, y, z coordinates)\n",
    "positions = atoms_1.get_positions()\n",
    "molecules.append(positions)\n",
    "positions = atoms_2.get_positions()\n",
    "molecules.append(positions)"
   ]
  },
  {
   "cell_type": "code",
   "execution_count": 15,
   "id": "172e5e5d-aab1-4ff7-9411-b8e66385169c",
   "metadata": {},
   "outputs": [],
   "source": [
    "flattened_molecules = all_coords #comment this to use the initial method (no RDkit)"
   ]
  },
  {
   "cell_type": "code",
   "execution_count": null,
   "id": "9b38dff4-5253-4566-8cf1-774cfb05031a",
   "metadata": {},
   "outputs": [],
   "source": [
    "# Sample representation of 2 molecules, each with 3 atoms (x, y, z coordinates)\n",
    "mol_molecules = [\n",
    "    np.array([[1.0, 2.0, 3.0], [1.1, 2.1, 3.1], [1.2, 2.2, 3.2]]),  # Molecule 1\n",
    "    np.array([[4.0, 5.0, 6.0], [4.1, 5.1, 6.1], [4.2, 5.2, 6.2]]),  # Molecule 2\n",
    "    # Add more molecules as needed\n",
    "]"
   ]
  },
  {
   "cell_type": "markdown",
   "id": "1ab66e57-453d-4732-80c6-d5a1377d5432",
   "metadata": {},
   "source": [
    "### K-means method"
   ]
  },
  {
   "cell_type": "code",
   "execution_count": 17,
   "id": "f3372556-67f6-4f63-902c-48b3f183b062",
   "metadata": {},
   "outputs": [
    {
     "name": "stdout",
     "output_type": "stream",
     "text": [
      "Cluster labels: [1 1 1 1 1 1 1 1 1 1 1 1 1 1 1 1 1 1 1 1 1 1 1 1 1 1 1 1 1 1 1 1 1 1 1 1 1\n",
      " 1 1 1 1 0 0 0 0 0 0 0 0 0 0 0 0 0 0 0 0 0 0 0 0 0 0 0 0 0 0 0 0 0 0 0 0 0\n",
      " 0 0 0 0 0 0 0 0]\n"
     ]
    }
   ],
   "source": [
    "# Define the number of clusters\n",
    "G = 2  # Set this to the desired number of clusters\n",
    "\n",
    "# Flatten each molecule's coordinates into a single vector\n",
    "# Assuming all molecules have the same number of atoms for simplicity\n",
    "#flattened_molecules = np.array([mol.flatten() for mol in molecules])\n",
    "\n",
    "# Initialize KMeans\n",
    "kmeans = KMeans(n_clusters=G, random_state=0)\n",
    "\n",
    "# Fit the model\n",
    "kmeans.fit(flattened_molecules)\n",
    "\n",
    "# Get the cluster labels\n",
    "labels = kmeans.labels_\n",
    "\n",
    "# Print out the cluster labels for each molecule\n",
    "print(\"Cluster labels:\", labels)"
   ]
  },
  {
   "cell_type": "markdown",
   "id": "70413619-4338-4929-bb26-d0fcb9bd1c7b",
   "metadata": {},
   "source": [
    "________________________________________"
   ]
  },
  {
   "cell_type": "code",
   "execution_count": 209,
   "id": "42ed0ff2-b2ec-40f6-b550-a3d83bbe27e8",
   "metadata": {},
   "outputs": [],
   "source": [
    "def get_feats_fromfile(file):\n",
    "    \"\"\"\n",
    "    Directly from file, a .xyz file is written\n",
    "    and the pairwise, moments of inertia and \n",
    "    radial distribution function are calculated\n",
    "    in an array of features.\n",
    "    \"\"\"\n",
    "    atoms = read(file)\n",
    "    #return atoms.get_all_distances().flatten(), \\\n",
    "    return atoms.get_moments_of_inertia(), \\\n",
    "           radial_distribution_function(atoms) "
   ]
  },
  {
   "cell_type": "markdown",
   "id": "aed67e18-0c1b-4aa0-92b8-7c28ca9b2cca",
   "metadata": {},
   "source": [
    "#### Loading the data"
   ]
  },
  {
   "cell_type": "code",
   "execution_count": 210,
   "id": "4d4deceb-4ae2-423f-a20a-0b6aeae3c52d",
   "metadata": {},
   "outputs": [],
   "source": [
    "import os"
   ]
  },
  {
   "cell_type": "code",
   "execution_count": 211,
   "id": "46f13a11-d2ff-4453-aab2-2f3e7c1d6d18",
   "metadata": {},
   "outputs": [],
   "source": [
    "path_to_directory = '/beegfs/desy/group/fsbig/Big_scale_pairAA/test_sprints_FY/'\n",
    "list_of_directories = [os.getcwd(), path_to_directory]"
   ]
  },
  {
   "cell_type": "code",
   "execution_count": 212,
   "id": "56ff1229-bc7e-45a3-9753-2e67aeb09b65",
   "metadata": {},
   "outputs": [],
   "source": [
    "list_of_file_mols = []\n",
    "# Iterate through the files in the directory\n",
    "for directory in list_of_directories:\n",
    "    for filename in os.listdir(directory):\n",
    "        if filename.endswith('.xyz'):\n",
    "            # Construct full file path\n",
    "            file_path = os.path.join(directory, filename)\n",
    "        \n",
    "            # Read the molecule using ASE's read function\n",
    "            #molecule = read(file_path)\n",
    "        \n",
    "            # Append the molecule to the list\n",
    "            list_of_file_mols.append(file_path)\n",
    "#list_of_file_mols = []"
   ]
  },
  {
   "cell_type": "code",
   "execution_count": 213,
   "id": "d63d980d-0c57-4781-80a4-a3fd77e3d635",
   "metadata": {},
   "outputs": [
    {
     "data": {
      "text/plain": [
       "65"
      ]
     },
     "execution_count": 213,
     "metadata": {},
     "output_type": "execute_result"
    }
   ],
   "source": [
    "len(list_of_file_mols)"
   ]
  },
  {
   "cell_type": "code",
   "execution_count": 214,
   "id": "51e06625-9af5-45ff-8040-6f0e4f969bef",
   "metadata": {},
   "outputs": [],
   "source": [
    "features_list = []\n",
    "#list_of_file_mols = ['1444Z_F230.I_Y239.I.xyz', '1444Z_F112.I_Y161.I.xyz'] # it is temporary\n",
    "\n",
    "for file_mol in list_of_file_mols:  # Assuming a list of molecules\n",
    "    # Extract features using get_feats_fromfile()\n",
    "    # Combine Features stacking them\n",
    "    features = np.hstack(get_feats_fromfile(file_mol))\n",
    "    features_list.append(features)"
   ]
  },
  {
   "cell_type": "code",
   "execution_count": 234,
   "id": "2e9e99df-5cdb-4b65-9d83-88dc5e36a4a9",
   "metadata": {},
   "outputs": [
    {
     "data": {
      "text/plain": [
       "Atoms(symbols='NC2OC7H9NC2OC7OH9', pbc=False)"
      ]
     },
     "execution_count": 234,
     "metadata": {},
     "output_type": "execute_result"
    }
   ],
   "source": [
    "atoms_1.get_all_distances"
   ]
  },
  {
   "cell_type": "code",
   "execution_count": 233,
   "id": "582ea374-0ae3-467a-b2a9-6482a145d426",
   "metadata": {},
   "outputs": [
    {
     "data": {
      "text/plain": [
       "49"
      ]
     },
     "execution_count": 233,
     "metadata": {},
     "output_type": "execute_result"
    }
   ],
   "source": [
    "get_feats_fromfile(list_of_file_mols[0])[1].size"
   ]
  },
  {
   "cell_type": "markdown",
   "id": "c9e24291-73bc-4f6c-abbd-c15bb027bb51",
   "metadata": {},
   "source": [
    "#### DBSCAN clustering"
   ]
  },
  {
   "cell_type": "code",
   "execution_count": 215,
   "id": "7f8775ce-d35b-4b15-9569-8fc7b6c8ca41",
   "metadata": {},
   "outputs": [
    {
     "data": {
      "image/png": "[encoded data removed]",
      "text/plain": [
       "<Figure size 432x288 with 1 Axes>"
      ]
     },
     "metadata": {
      "needs_background": "light"
     },
     "output_type": "display_data"
    }
   ],
   "source": [
    "from sklearn.neighbors import NearestNeighbors\n",
    "import matplotlib.pyplot as plt\n",
    "\n",
    "# Assuming features_array is your data\n",
    "k = 4  # Set this to min_samples for DBSCAN\n",
    "features_array = np.array(features_list)\n",
    "nbrs = NearestNeighbors(n_neighbors=k).fit(features_array)\n",
    "distances, indices = nbrs.kneighbors(features_array)\n",
    "\n",
    "# Get the distances to the k-th nearest neighbor\n",
    "k_distances = distances[:, -1]  # Distance to the k-th nearest neighbor\n",
    "k_distances = np.sort(k_distances)\n",
    "\n",
    "# Plot\n",
    "plt.plot(k_distances)\n",
    "plt.xlabel('Points sorted by distance')\n",
    "plt.ylabel('K-th Nearest Neighbor Distance')\n",
    "plt.title('K-Distance Plot')\n",
    "plt.grid()\n",
    "plt.show()"
   ]
  },
  {
   "cell_type": "code",
   "execution_count": 216,
   "id": "bd552d21-352f-4556-bdc0-add667e3c45a",
   "metadata": {},
   "outputs": [
    {
     "data": {
      "text/plain": [
       "<matplotlib.legend.Legend at 0x146c07067c70>"
      ]
     },
     "execution_count": 216,
     "metadata": {},
     "output_type": "execute_result"
    },
    {
     "data": {
      "image/png": "[encoded data removed]",
      "text/plain": [
       "<Figure size 432x288 with 2 Axes>"
      ]
     },
     "metadata": {
      "needs_background": "light"
     },
     "output_type": "display_data"
    }
   ],
   "source": [
    "# detecting elbows\n",
    "x_points = np.linspace(1, len(k_distances), len(k_distances))\n",
    "\n",
    "# Calculate the first derivative (slope)\n",
    "dy = np.diff(k_distances)  # Change in y\n",
    "dx = np.diff(x_points)  # Change in x\n",
    "slope = dy / dx   # First derivative\n",
    "\n",
    "# Calculate the second derivative\n",
    "d_slope = np.diff(slope)\n",
    "\n",
    "# Find the elbow points based on the second derivative\n",
    "threshold = np.mean(np.abs(d_slope))  # Simple threshold\n",
    "elbow_points = np.where(np.abs(d_slope) > threshold)[0] + 1  # +1 to align with the original indices\n",
    "\n",
    "# Original data\n",
    "plt.subplot(1, 2, 1)\n",
    "plt.plot(x_points, k_distances, label='Data')\n",
    "plt.title('Original Data')\n",
    "plt.xlabel('X-axis')\n",
    "plt.ylabel('Y-axis')\n",
    "plt.grid(True)\n",
    "plt.legend()\n",
    "\n",
    "# Slope and second derivative\n",
    "plt.subplot(1, 2, 2)\n",
    "plt.plot(x_points[:-1], slope, label='First Derivative (Slope)', color='orange')\n",
    "plt.plot(x_points[:-2], d_slope, label='Second Derivative', color='red')\n",
    "plt.scatter(x_points[elbow_points], slope[elbow_points-1], color='green', label='Elbow Points', zorder=5)\n",
    "plt.axhline(y=0, color='gray', linestyle='--', lw=0.5)\n",
    "plt.title('Derivatives')\n",
    "plt.xlabel('X-axis')\n",
    "plt.ylabel('Slope / Second Derivative')\n",
    "plt.grid(True)\n",
    "plt.legend()"
   ]
  },
  {
   "cell_type": "code",
   "execution_count": 217,
   "id": "dc0f742e-f21f-49e9-8b86-f81c83d41b31",
   "metadata": {},
   "outputs": [
    {
     "data": {
      "text/plain": [
       "array([ 453.87159397,  651.02649825,  685.1553728 ,  988.03000321,\n",
       "       1420.10120614, 2438.61975636, 2927.27232164])"
      ]
     },
     "execution_count": 217,
     "metadata": {},
     "output_type": "execute_result"
    }
   ],
   "source": [
    "k_distances[elbow_points]"
   ]
  },
  {
   "cell_type": "code",
   "execution_count": 218,
   "id": "834f0956-1ad1-45d4-8cf6-9ffcdac98bda",
   "metadata": {},
   "outputs": [
    {
     "name": "stdout",
     "output_type": "stream",
     "text": [
      "Cluster labels: [-1 -1  0  0  0  0  0  0  0  0  0  0  0  0  0  0  0  0  0  0  0  0 -1  0\n",
      "  0  0  0  0  0  0  0  0 -1  0  0  0  0 -1  0  0  0  0 -1  0  0  0  0  0\n",
      "  0  0 -1  0  0  0  0 -1 -1  0  0  0  0  0  0 -1  0]\n"
     ]
    }
   ],
   "source": [
    "# Fit DBSCAN model\n",
    "# One may need to tune 'eps' and 'min_samples'\n",
    "# 'eps': the maximum distance between two samples\n",
    "#   for them to be considered neighbors\n",
    "# 'min_samples': the number of samples in a \n",
    "#   neighborhood for a point to be considered a \n",
    "#    core point\n",
    "    \n",
    "dbscan = DBSCAN(eps=453.0, min_samples=4)\n",
    "\n",
    "# Flatten each molecule's coordinates into a single vector\n",
    "#flattened_molecules = np.array([mol.flatten() for mol in molecules])\n",
    "\n",
    "# Change format\n",
    "features_array = np.array(features_list)\n",
    "\n",
    "# Fit the model\n",
    "labels = dbscan.fit_predict(features_array)  # Reshape if needed\n",
    "\n",
    "# Print out the cluster labels for each molecule\n",
    "print(\"Cluster labels:\", labels)"
   ]
  },
  {
   "cell_type": "code",
   "execution_count": 220,
   "id": "65195309-00ec-42b0-9e35-6730adb74cad",
   "metadata": {},
   "outputs": [
    {
     "data": {
      "text/plain": [
       "65"
      ]
     },
     "execution_count": 220,
     "metadata": {},
     "output_type": "execute_result"
    }
   ],
   "source": [
    "len(labels)"
   ]
  },
  {
   "cell_type": "code",
   "execution_count": null,
   "id": "10519143-0c90-4e31-bdc4-2b6b3d351931",
   "metadata": {},
   "outputs": [],
   "source": []
  }
 ],
 "metadata": {
  "kernelspec": {
   "display_name": "Python 3 (ipykernel)",
   "language": "python",
   "name": "python3"
  },
  "language_info": {
   "codemirror_mode": {
    "name": "ipython",
    "version": 3
   },
   "file_extension": ".py",
   "mimetype": "text/x-python",
   "name": "python",
   "nbconvert_exporter": "python",
   "pygments_lexer": "ipython3",
   "version": "3.11.10"
  }
 },
 "nbformat": 4,
 "nbformat_minor": 5
}
