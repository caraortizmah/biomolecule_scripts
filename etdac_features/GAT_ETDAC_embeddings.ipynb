{
 "cells": [
  {
   "cell_type": "code",
   "execution_count": 1,
   "id": "1dc2f728-6ac4-47cc-a592-f9c7b46a9201",
   "metadata": {},
   "outputs": [],
   "source": [
    "import torch\n",
    "from torch_geometric.nn import GATConv\n",
    "from torch_geometric.nn import GATv2Conv"
   ]
  },
  {
   "cell_type": "code",
   "execution_count": 2,
   "id": "1a4c78c3-5c70-44f4-a65d-792e2cd7caa1",
   "metadata": {},
   "outputs": [],
   "source": [
    "import numpy as np"
   ]
  },
  {
   "cell_type": "markdown",
   "id": "84efde4e-65ba-4fe0-8b1e-9bcacf0570ce",
   "metadata": {},
   "source": [
    "#### Technical functions"
   ]
  },
  {
   "cell_type": "code",
   "execution_count": 3,
   "id": "04268fb2-d783-4d9d-8bb2-5bd0ff395323",
   "metadata": {},
   "outputs": [],
   "source": [
    "import h5py\n",
    "import numpy as np\n",
    "import pandas as pd"
   ]
  },
  {
   "cell_type": "code",
   "execution_count": 4,
   "id": "28ae054f-30a1-4125-a887-e7b6c1465c24",
   "metadata": {},
   "outputs": [],
   "source": [
    "def load_nodesnedges_h5py(h5file, hash_mol):\n",
    "    \"\"\"\n",
    "    Load data from one molecule (group) from a h5py\n",
    "    file (h5file) using the specific hash (hash_mol).\n",
    "    \"\"\"\n",
    "    # Load a specific molecule using the hash\n",
    "    id_mol = f\"sample_{hash_mol}\"\n",
    "    with h5py.File(h5file, 'r') as f:\n",
    "        # Load global parameters\n",
    "        global_params = dict(f.attrs)\n",
    "        print(\"Global params:\", global_params)\n",
    "\n",
    "        # Access a specific sample using the hash\n",
    "        sample = f[id_mol]\n",
    "        # load arrays\n",
    "        return [\n",
    "            sample.attrs[\"name\"],\n",
    "            sample[\"Node_features\"][:],\n",
    "            sample[\"Edge_list\"][:],\n",
    "            sample[\"Edge_features\"][:]\n",
    "        ]"
   ]
  },
  {
   "cell_type": "code",
   "execution_count": 5,
   "id": "785c0b18-14da-44bb-a850-83e461ec0be7",
   "metadata": {},
   "outputs": [],
   "source": [
    "def loadseveral_nodesnedges_h5py(h5file):\n",
    "    \"\"\"\n",
    "    Load data from several molecules (groups) from a h5py\n",
    "    file (h5file).\n",
    "    Do not use this function for hundreds/thousands of \n",
    "    molecules.\n",
    "    \"\"\"\n",
    "    data = {}\n",
    "    with h5py.File(h5file, 'r') as mol:\n",
    "        for group_name in mol.keys(): # iteration through groups (molecules)\n",
    "            group = mol[group_name]\n",
    "            data[group_name] = {\n",
    "                \"features\" : {\n",
    "                    \"Node_features\": group[\"Node_features\"][:], # Shape (#atoms, 14)\n",
    "                    \"Edge_list\": group[\"Edge_list\"][:], # Shape (2, atoms*(atoms-1))\n",
    "                    \"Edge_features\": group[\"Edge_features\"][:], # Shape (atoms*(atoms-1), 8)\n",
    "                },\n",
    "                \"metadata\": dict(group.attrs), # Name, hash\n",
    "            }\n",
    "    return data"
   ]
  },
  {
   "cell_type": "code",
   "execution_count": 6,
   "id": "d9449168-652d-4ab2-b1f8-9f97a1305d94",
   "metadata": {},
   "outputs": [],
   "source": [
    "def load_conditions(conditions_file):\n",
    "    \"\"\"\n",
    "    Load conditions, those are pre-defined by the user\n",
    "    in an external file and return a dictionary having this\n",
    "    information.\n",
    "    \"\"\"\n",
    "    parameters= {}\n",
    "    with open(conditions_file, 'r', encoding=\"utf-8\") as params:\n",
    "        for param in params:\n",
    "            param = param.strip()\n",
    "            parameters[param.split(':')[0].strip()] = eval(param.split(':')[1].strip())\n",
    "    return parameters"
   ]
  },
  {
   "cell_type": "code",
   "execution_count": 7,
   "id": "4db5d207-9852-4062-9389-98ab7460e06d",
   "metadata": {},
   "outputs": [],
   "source": [
    "def save_embeddings(mol_embeddings, list_dicts, gat_params, data_set_name=\"data_embeddings_etdac.h5\"):\n",
    "    \"\"\"\n",
    "    Saves the GAT embeddings obtained using GatConv2 model witht the ETDAC matrix calculation\n",
    "    Args:\n",
    "    mol_embeddings (np.array): array of real values that represent the \n",
    "     embeddings from the GAT convolution.\n",
    "    list_dicts (list): each element of the list is a dictionary having\n",
    "     keys: 'hash' and 'name' and its corresponding values.\n",
    "    The order of mol_embeddings and list_dicts should be the SAME cause\n",
    "     is that default sorted used to save information in the .h5 file.\n",
    "    gat_params (dict): global parameters considered important for the\n",
    "     data file generated.\n",
    "    data_set_name (str): the name of the new file, by default is\n",
    "     \"data_embeddings_etdac.h5\"\n",
    "    \"\"\"\n",
    "    \n",
    "    with h5py.File(data_set_name, 'w') as f:\n",
    "        # Save the global parameters as attributes once for the file\n",
    "        for key, value in gat_params.items():\n",
    "            f.attrs[key] = value\n",
    "\n",
    "        # Assuming both are in the same order\n",
    "        for embeddings, dict in zip(mol_embeddings, list_dicts):\n",
    "\n",
    "            # Create a group for the sample molecule\n",
    "            mol_group = f.create_group(f\"sample_{dict['hash']}\")\n",
    "            \n",
    "            # Save arrays (with compression to reduce file size)\n",
    "            mol_group.create_dataset(\"mol_embeddings\", data=embeddings, compression=\"gzip\")\n",
    "            \n",
    "            # Save individual attributes\n",
    "            mol_group.attrs[\"name\"] = dict['name']\n",
    "            mol_group.attrs[\"hash\"] = dict['hash']    "
   ]
  },
  {
   "cell_type": "markdown",
   "id": "7a307525-1db7-46dd-8a60-bb699d4217fa",
   "metadata": {},
   "source": [
    "###### Load data"
   ]
  },
  {
   "cell_type": "code",
   "execution_count": 8,
   "id": "9796332b-8bdd-4045-8dcb-660ca50b034b",
   "metadata": {},
   "outputs": [],
   "source": [
    "#### Load H5PY file\n",
    "h5file = 'data_etdac_metadata.h5'"
   ]
  },
  {
   "cell_type": "code",
   "execution_count": 9,
   "id": "11653eb7-185d-4d7a-ae0c-328e3bd1a9a1",
   "metadata": {},
   "outputs": [],
   "source": [
    "# Load information from H5PY in a dictionary\n",
    "raw_full_data = loadseveral_nodesnedges_h5py(h5file)\n",
    "#raw_full_data['sample_f43']"
   ]
  },
  {
   "cell_type": "code",
   "execution_count": 10,
   "id": "c968e5ab-7488-4606-9cfc-3fcbbb263091",
   "metadata": {},
   "outputs": [],
   "source": [
    "# Load and save all molecule node features in a single list\n",
    "test_nodesfeat = [raw_data['features']['Node_features'] for raw_data in raw_full_data.values()]"
   ]
  },
  {
   "cell_type": "code",
   "execution_count": 11,
   "id": "ad110cc8-f79e-4db2-97e2-f4085f5f656e",
   "metadata": {},
   "outputs": [],
   "source": [
    "# Load and save all molecule edge list in a single list\n",
    "# to correct in the previous code: all info is repeated, loading only one of them is enough\n",
    "#test50_edgelist = [raw_data['features']['Edge_list'] for raw_data in raw_full_data.values()]\n",
    "edgelist = raw_full_data['sample_f00']['features']['Edge_list']"
   ]
  },
  {
   "cell_type": "code",
   "execution_count": 12,
   "id": "389f5cbc-8397-4eac-bc52-b4878ddfc5de",
   "metadata": {},
   "outputs": [],
   "source": [
    "# Load and save all molecule feature edge in a single list\n",
    "test_edgefeat = [raw_data['features']['Edge_features'] for raw_data in raw_full_data.values()]"
   ]
  },
  {
   "cell_type": "markdown",
   "id": "641a38f0-e9b1-4533-9d4e-68e7525aae8b",
   "metadata": {},
   "source": [
    "##### Modification on data\n",
    "###### Prepare input data"
   ]
  },
  {
   "cell_type": "code",
   "execution_count": 13,
   "id": "3ab9f8e8-a054-4dd8-b37b-d0057e538824",
   "metadata": {},
   "outputs": [],
   "source": [
    "# Highlight flagged nodes (cross-feature flag) multupliting by 10\n",
    "#node_feats_test = [np.c_[nodefeat[:, :-1], nodefeat[:, -1:] * 1] for nodefeat in test_nodesfeat]\n",
    "node_feats = [nodefeat for nodefeat in test_nodesfeat]"
   ]
  },
  {
   "cell_type": "code",
   "execution_count": 14,
   "id": "de68d124-fdf1-4a45-9591-4eb7daaef97f",
   "metadata": {},
   "outputs": [],
   "source": [
    "# Highlight flagged edges (cross-feature flag) multupliting by 20 the second last column and by 15 the last one\n",
    "#edge_feats_test = [np.c_[edge[:, :-2], edge[:, -2:-1] * 10, edge[:, -1:] * 2] for edge in test_edgefeat]\n",
    "edge_feats = [edgefeat for edgefeat in test_edgefeat]"
   ]
  },
  {
   "cell_type": "code",
   "execution_count": 15,
   "id": "fcdd7d43-16ab-43e6-b79a-25e8b5c06891",
   "metadata": {},
   "outputs": [],
   "source": [
    "# Use Pytorch to transform data into tensors\n",
    "from torch_geometric.data import Data"
   ]
  },
  {
   "cell_type": "code",
   "execution_count": 16,
   "id": "c2855af7-b371-4d29-81fe-641ac0101e8f",
   "metadata": {},
   "outputs": [
    {
     "name": "stdout",
     "output_type": "stream",
     "text": [
      "Total number of points: 40500, 100%\n",
      "Number of one-value points: 15300, 37.78%\n",
      "Number of zero-value points: 25200, 62.22%\n"
     ]
    }
   ],
   "source": [
    "# Diagnosis of the node features\n",
    "#total of data points in node_feats\n",
    "total = node_feats[0].shape[0] * node_feats[0].shape[1] * len(node_feats)\n",
    "print(f\"Total number of points: {total}, 100%\")\n",
    "#one-value points in node_feats\n",
    "val_tmp = np.sum(np.array([np.where(node_feat == 1)[0].shape[0] for node_feat in node_feats]))\n",
    "print(f\"Number of one-value points: {val_tmp}, {(100*val_tmp)/total:.2f}%\")\n",
    "#zero-value points in node_feats\n",
    "val_tmp = np.sum(np.array([np.where(node_feat == 0)[0].shape[0] for node_feat in node_feats]))\n",
    "print(f\"Number of zero-value points: {val_tmp}, {(100*val_tmp)/total:.2f}%\")"
   ]
  },
  {
   "cell_type": "code",
   "execution_count": 17,
   "id": "8137633b-dc76-4f08-861d-f8268c94a18e",
   "metadata": {},
   "outputs": [
    {
     "name": "stdout",
     "output_type": "stream",
     "text": [
      "Total number of points: 486000, 100%\n",
      "Number of one-value points: 13668, 2.81%\n",
      "Number of zero-value points: 338914, 69.74%\n",
      "Number of cross-feature flag points part 1: 496, 0.10206%\n",
      "Number of cross-feature flag points part 2: 572, 0.11770%\n",
      "Number of real-value points: 133418, 27.45%\n"
     ]
    }
   ],
   "source": [
    "# Diagnosis of the edge features\n",
    "#total of data points in edge_feats\n",
    "total = edge_feats[0].shape[0] * edge_feats[0].shape[1] * len(edge_feats)\n",
    "print(f\"Total number of points: {total}, 100%\")\n",
    "#one-value points in edge_feats\n",
    "val_tmp = np.sum(np.array([np.where(edge_feat == 1)[0].shape[0] for edge_feat in edge_feats]))\n",
    "print(f\"Number of one-value points: {val_tmp}, {(100*val_tmp)/total:.2f}%\")\n",
    "#zero-value points in edge_feats\n",
    "val_tmp = np.sum(np.array([np.where(edge_feat == 0)[0].shape[0] for edge_feat in edge_feats]))\n",
    "print(f\"Number of zero-value points: {val_tmp}, {(100*val_tmp)/total:.2f}%\")\n",
    "#three-value points in edge_feats\n",
    "val_tmp = np.sum(np.array([np.where(edge_feat[:, -2:-1] == 1)[0].shape[0] for edge_feat in edge_feats]))\n",
    "print(f\"Number of cross-feature flag points part 1: {val_tmp}, {(100*val_tmp)/total:.5f}%\")\n",
    "#ten-value points in edge_feats\n",
    "val_tmp = np.sum(np.array([np.where(edge_feat[:, -1:] == 1)[0].shape[0] for edge_feat in edge_feats]))\n",
    "print(f\"Number of cross-feature flag points part 2: {val_tmp}, {(100*val_tmp)/total:.5f}%\")\n",
    "#non-integer-value points in edge_feats\n",
    "val_tmp = np.sum(np.array([np.where(\n",
    "    (edge_feat != 1) & (edge_feat != 0) & (edge_feat != 10) & (edge_feat != 2)\n",
    ")[0].shape[0] for edge_feat in edge_feats]))\n",
    "print(f\"Number of real-value points: {val_tmp}, {(100*val_tmp)/total:.2f}%\")"
   ]
  },
  {
   "cell_type": "markdown",
   "id": "19adb3c1-3724-4f67-8623-e090d117390c",
   "metadata": {},
   "source": [
    "#### GAT model"
   ]
  },
  {
   "cell_type": "code",
   "execution_count": 18,
   "id": "6dad09e3-5073-420e-931c-7bef32bf628f",
   "metadata": {},
   "outputs": [],
   "source": [
    "def set_seed(seed):\n",
    "    \"\"\"\n",
    "    Receive an integer to set the seed for randomness before\n",
    "    GAT procedure\n",
    "    \"\"\"\n",
    "    torch.manual_seed(seed)  \n",
    "    np.random.seed(seed)  \n",
    "    if torch.cuda.is_available():  \n",
    "        torch.cuda.manual_seed_all(seed)\n",
    "    # Minor numerical differences in softmax accumulate across batches\n",
    "    torch.backends.cudnn.deterministic = True\n",
    "    torch.backends.cudnn.benchmark = False"
   ]
  },
  {
   "cell_type": "code",
   "execution_count": 19,
   "id": "d5056478-e7d5-41bf-9ecc-d764fe1564a1",
   "metadata": {},
   "outputs": [],
   "source": [
    "# Create PyG Data object for more \"molecules\"\n",
    "number_of_mol = len(node_feats) # total of group data\n",
    "g = torch.Generator()\n",
    "g.manual_seed(42)\n",
    "pyg_data_list = [\n",
    "    Data(\n",
    "        x=torch.tensor(node_feats[i], dtype=torch.float32),\n",
    "        edge_index=torch.tensor(edgelist, dtype=torch.long),\n",
    "        edge_attr=torch.tensor(edge_feats[i], dtype=torch.float32),\n",
    "        generator=g # to preserve reproducibility\n",
    "    )\n",
    "    for i in range(number_of_mol)  # For 100 molecules\n",
    "]"
   ]
  },
  {
   "cell_type": "code",
   "execution_count": 20,
   "id": "5b8ae203-6f5d-439a-9f09-9b1c0844b09d",
   "metadata": {},
   "outputs": [
    {
     "name": "stdout",
     "output_type": "stream",
     "text": [
      "Number of edges: 810\n",
      "Edge features shape: torch.Size([810, 6])\n"
     ]
    }
   ],
   "source": [
    "print(\"Number of edges:\", pyg_data_list[0].edge_index.shape[1])  # Should be 810\n",
    "print(\"Edge features shape:\", pyg_data_list[0].edge_attr.shape)  # Must be [810, 6]\n",
    "assert pyg_data_list[0].edge_index.shape[1] == pyg_data_list[0].edge_attr.shape[0]"
   ]
  },
  {
   "cell_type": "code",
   "execution_count": 21,
   "id": "2606037c-6299-41a5-86bd-24a5863ff2c8",
   "metadata": {},
   "outputs": [],
   "source": [
    "from torch_geometric.nn import LayerNorm  # PyG's built-in (for graph data)\n",
    "import torch.nn as nn"
   ]
  },
  {
   "cell_type": "code",
   "execution_count": 22,
   "id": "2698faf3-1437-4583-9334-4615ae8ab77e",
   "metadata": {},
   "outputs": [],
   "source": [
    "class MyGAT(torch.nn.Module):  \n",
    "    def __init__(self):  \n",
    "        super().__init__()\n",
    "        #self.norm = LayerNorm(in_channels=9)  # Match node feature dim\n",
    "        self.conv = GATv2Conv(\n",
    "            in_channels=9,         # Matches node feature dim (9)\n",
    "            out_channels=32,        # Embedding dimension\n",
    "            heads=1,                # 1 to capture rare features from multiple subspaces\n",
    "            edge_dim=6,             # Matches edge_attr dim (6)\n",
    "            concat=False,            # Combines multi-head outputs (preserves all dimensions; required for sparse feature retention)\n",
    "            add_self_loops=False,    # Disable if edges are already undirected. Edges are directed but the\n",
    "             # architecture of the edge_list and adge values are fully connected (undirected)\n",
    "            bias=False,  # Disable to prevent drowning sparse signals\n",
    "            #negative_slope=0.5  # Less aggressive than default LeakyReLU (avoids over-squashing near-zero edges)\n",
    "            negative_slope=0.03,    # to make attention more sensitive to small values.\n",
    "            flow='target_to_source',  # Better handles directed edges\n",
    "            dropout=0.0,             # (temporarily) to prevent masking rare flags\n",
    "            share_weights=True  # Helps with directed edges\n",
    "        )  # GATv2Conv for dynamic attention, less prone to softmax suppression\n",
    "        \n",
    "        # Learnable edge feature scalers\n",
    "        # Initial scaling factors\n",
    "        #self.edge_scalers = torch.nn.Parameter(torch.tensor([1.0, 1.0, 1.0, 1.0, 6.0, 2.5]))\n",
    "        # Additive boost\n",
    "        self.flag_boost = torch.nn.Parameter(torch.tensor([0.0, 0.0, 0.0, 0.0, 3.0, 1.5]))\n",
    "\n",
    "    def forward(self, x, edge_index, edge_attr):\n",
    "\n",
    "        # Scale + boosted_flags\n",
    "        scaled_edge_attr = edge_attr + (\n",
    "            edge_attr * self.flag_boost.abs()) \n",
    "        x, (edge_index, att_weights) = self.conv(\n",
    "            x, edge_index, scaled_edge_attr, \n",
    "            return_attention_weights=True\n",
    "        )\n",
    "        # Save weights for later inspection\n",
    "        self.att_weights = att_weights\n",
    "    \n",
    "        return x"
   ]
  },
  {
   "cell_type": "code",
   "execution_count": 23,
   "id": "24a0b3cf-a2db-44d7-a8ba-e819cb29fde0",
   "metadata": {},
   "outputs": [],
   "source": [
    "#GAT Layer (two-head)\n",
    "#conv = GATConv(\n",
    "#conv = GATv2Conv(           # dynamic attention, less prone to softmax suppression\n",
    "#    in_channels=14,         # Matches node feature dim (14)\n",
    "#    out_channels=64,        # Embedding dimension\n",
    "#    heads=2,                # 1 to capture rare features from multiple subspaces\n",
    "#    edge_dim=8,             # Matches edge_attr dim (8)\n",
    "#    concat=True,            # Combines multi-head outputs (preserves all dimensions; required for sparse feature retention)\n",
    "#    add_self_loops=False,    # Disable if edges are already undirected\n",
    "#    bias=False,  # Disable to prevent drowning sparse signals\n",
    "#    #negative_slope=0.5  # Less aggressive than default LeakyReLU (avoids over-squashing near-zero edges)\n",
    "#    negative_slope=0.01,    # to make attention more sensitive to small values.\n",
    "#    dropout=0.0             # (temporarily) to prevent masking rare flags\n",
    "#)"
   ]
  },
  {
   "cell_type": "code",
   "execution_count": 24,
   "id": "91449e63-bb07-43ad-b795-b8b3a5548744",
   "metadata": {},
   "outputs": [],
   "source": [
    "# to load and pool data\n",
    "from torch_geometric.loader import DataLoader\n",
    "from torch_geometric.nn import global_mean_pool, global_add_pool, global_max_pool"
   ]
  },
  {
   "cell_type": "code",
   "execution_count": 25,
   "id": "5121dd0c-1940-4286-acd9-79da8cff797a",
   "metadata": {},
   "outputs": [
    {
     "name": "stdout",
     "output_type": "stream",
     "text": [
      "torch.Size([450, 32])\n",
      "torch.Size([10, 32])\n",
      "Active dimensions: 1/32\n",
      "Mean attention (×1 edges): 0.0220\n",
      "torch.Size([450, 32])\n",
      "torch.Size([10, 32])\n",
      "Active dimensions: 1/32\n",
      "Mean attention (×1 edges): 0.0222\n",
      "torch.Size([450, 32])\n",
      "torch.Size([10, 32])\n",
      "Active dimensions: 1/32\n",
      "Mean attention (×1 edges): 0.0220\n",
      "torch.Size([450, 32])\n",
      "torch.Size([10, 32])\n",
      "Active dimensions: 0/32\n",
      "Mean attention (×1 edges): 0.0220\n",
      "torch.Size([450, 32])\n",
      "torch.Size([10, 32])\n",
      "Active dimensions: 0/32\n",
      "Mean attention (×1 edges): 0.0222\n",
      "torch.Size([450, 32])\n",
      "torch.Size([10, 32])\n",
      "Active dimensions: 1/32\n",
      "Mean attention (×1 edges): 0.0221\n",
      "torch.Size([450, 32])\n",
      "torch.Size([10, 32])\n",
      "Active dimensions: 0/32\n",
      "Mean attention (×1 edges): 0.0221\n",
      "torch.Size([450, 32])\n",
      "torch.Size([10, 32])\n",
      "Active dimensions: 1/32\n",
      "Mean attention (×1 edges): 0.0220\n",
      "torch.Size([450, 32])\n",
      "torch.Size([10, 32])\n",
      "Active dimensions: 0/32\n",
      "Mean attention (×1 edges): 0.0221\n",
      "torch.Size([450, 32])\n",
      "torch.Size([10, 32])\n",
      "Active dimensions: 1/32\n",
      "Mean attention (×1 edges): 0.0221\n"
     ]
    }
   ],
   "source": [
    "set_seed(42)  # Call this before training\n",
    "mol_embeddings = []  # Will store all molecule embeddings\n",
    "# Data set is pyg_data_list\n",
    "loader = DataLoader(pyg_data_list, batch_size=10)#, shuffle=False)\n",
    "\n",
    "mygat_conv = MyGAT()  # Instantiate customized GAT\n",
    "\n",
    "# Warm-up pass (only once) / lazy layers problem\n",
    "dummy_x = torch.randn(5, pyg_data_list[0].x.shape[1], dtype=torch.float32)\n",
    "dummy_edge_index = torch.randint(0, 5, np.array(pyg_data_list[0].edge_index).shape, dtype=torch.long)\n",
    "dummy_edge_attr = torch.randint(0, 5, np.array(pyg_data_list[0].edge_attr).shape, dtype=torch.float32)\n",
    "with torch.no_grad():\n",
    "    mygat_conv(dummy_x, dummy_edge_index, dummy_edge_attr)\n",
    "\n",
    "#pyg_data_list[0].x.shape, pyg_data_list[0].edge_index.shape\n",
    "for batch in loader:\n",
    "    # batch.x: [num_nodes_in_batch, 14]\n",
    "    #print(batch.x.shape)\n",
    "    # batch.edge_index: [50, num_edges_in_batch]\n",
    "    #print(batch.edge_index.shape)\n",
    "    # batch.batch: Maps nodes to their molecule ID \n",
    "    #print(batch.batch.shape)\n",
    "\n",
    "    # Get number of nodes per graph (batch-wise count)\n",
    "    #_, counts = torch.unique(batch.batch, return_counts=True)\n",
    "    #counts = counts.float().to(batch.x.device)  # Ensure same device/dtype as x\n",
    "    \n",
    "    # Node embeddings: [total_nodes_in_batch, 64]\n",
    "    #node_embeddings = conv(batch.x, batch.edge_index, batch.edge_attr)\n",
    "    node_embeddings = mygat_conv(batch.x, batch.edge_index, batch.edge_attr) # Forward pass (same as standalone conv)  \n",
    "    print(node_embeddings.shape)\n",
    "    # Pool to graph-level: [batch_size, 64]\n",
    "    #mol_embed = global_mean_pool(node_embeddings, batch.batch)  # [50, 64]\n",
    "    #mol_embed = global_add_pool(node_embeddings, batch.batch) #Preserving total signal strength\n",
    "    #mol_embed = mol_embed / counts.unsqueeze(-1) #node counts don’t dilute scaled features\n",
    "    # Hybrid pooling strategy\n",
    "    mol_embed = (0.6 * global_add_pool(node_embeddings, batch.batch)) #Preserving total signal strength\n",
    "    mol_embed = mol_embed + (0.4 * global_max_pool(node_embeddings, batch.batch)) #Highlight max\n",
    "    print(mol_embed.shape)\n",
    "    mol_embeddings.append(mol_embed)\n",
    "\n",
    "    # checking model\n",
    "    #print(torch.isnan(node_embeddings).any())  # Should be False\n",
    "    #for idx, emb in enumerate(mol_embed):\n",
    "    #    if torch.isnan(emb).any():\n",
    "    #print(f\"Node Embedding std: {torch.std(node_embeddings, dim=0)}\")\n",
    "    #print(f\"Mol Embedding std: {torch.std(mol_embed, dim=0)}\")\n",
    "    #print(f\"Embedding std: {torch.std(torch.stack(mol_embeddings), dim=0)}\")\n",
    "    active_dims = (torch.std(mol_embed, dim=0) > 0.1).sum().item()  \n",
    "    print(f\"Active dimensions: {active_dims}/32\")\n",
    "    \n",
    "    # Step 1: Ensure edge_attr is compared per-edge (not per-feature)\n",
    "    scaled_mask = (batch.edge_attr[:, 0] > 0.0)  # Assuming scaled value is in 6th column\n",
    "    #print(f\"Edge attribute: {batch.edge_attr[:, 6]}\")\n",
    "    # OR if all edge_attr features are scaled uniformly:\n",
    "    # scaled_mask = (batch.edge_attr == 500.0).any(dim=1)  # Checks any feature == 500.0\n",
    "    # Step 2: Select attention weights (shape: [num_edges, num_heads=2])\n",
    "    mean_attention = mygat_conv.att_weights[scaled_mask, :].mean().item()\n",
    "    print(f\"Mean attention (×1 edges): {mean_attention:.4f}\")\n",
    "\n",
    "    # Step 3:  Feature Variance per Channel\n",
    "    # Ideal: A few channels should have std ≈ 50+ (others near 0).\n",
    "    #print(\"Per-channel std:\", torch.std(node_embeddings, dim=0))  # Check which of 64 dims are active\n",
    "    #active_dims = (torch.std(node_embeddings, dim=0) > 0.1).sum().item()  \n",
    "   # print(f\"Active dimensions: {active_dims}/64\")\n",
    "   # print(f\"Embedding std: {torch.std(torch.stack(mol_embeddings), dim=0)}\")"
   ]
  },
  {
   "cell_type": "code",
   "execution_count": 26,
   "id": "22ca3da7-5126-4d45-a750-3dc4abc1b0f1",
   "metadata": {},
   "outputs": [],
   "source": [
    "# Concatenate all batches -> [num_molecules, 64]\n",
    "mol_embeddings = torch.cat(mol_embeddings, dim=0)"
   ]
  },
  {
   "cell_type": "code",
   "execution_count": 27,
   "id": "a0f9e0cf-9813-479e-8467-e2b5cba423b3",
   "metadata": {},
   "outputs": [
    {
     "data": {
      "text/plain": [
       "torch.Size([100, 32])"
      ]
     },
     "execution_count": 27,
     "metadata": {},
     "output_type": "execute_result"
    }
   ],
   "source": [
    "mol_embeddings.shape"
   ]
  },
  {
   "cell_type": "code",
   "execution_count": 28,
   "id": "769f22eb-1ebb-498b-ba99-e54499d0a8fc",
   "metadata": {},
   "outputs": [],
   "source": [
    "# If mol_embeddings is a torch.Tensor (shape [2, 64])\n",
    "mol_embeddings_np = mol_embeddings.detach().cpu().numpy()  # Shape: [N, 64]"
   ]
  },
  {
   "cell_type": "code",
   "execution_count": 29,
   "id": "96873f19-b218-454c-bc57-448cfbcbfc5d",
   "metadata": {},
   "outputs": [
    {
     "data": {
      "text/plain": [
       "(100, 32)"
      ]
     },
     "execution_count": 29,
     "metadata": {},
     "output_type": "execute_result"
    }
   ],
   "source": [
    "mol_embeddings_np.shape"
   ]
  },
  {
   "cell_type": "markdown",
   "id": "877101eb-28dc-4e24-a565-e801d6556438",
   "metadata": {},
   "source": [
    "##### GAT diagnosis"
   ]
  },
  {
   "cell_type": "code",
   "execution_count": 30,
   "id": "55ed9750-412b-4dfd-8034-a8d2d64385b3",
   "metadata": {},
   "outputs": [
    {
     "name": "stdout",
     "output_type": "stream",
     "text": [
      "max and min:  7.2617755 -5.4192944\n",
      "std and mean:  3.3730993 -0.12731615\n",
      "data points inside range -2 < x < 2:  40.625 %\n",
      "data points inside range x < -3.5 or x > 4.5:  28.125 %\n",
      "total data points:  3200\n"
     ]
    }
   ],
   "source": [
    "# Diagnosis of the GAT embeddings\n",
    "print(\"max and min: \", mol_embeddings_np.max(), mol_embeddings_np.min())\n",
    "print(\"std and mean: \", mol_embeddings_np.std(), mol_embeddings_np.mean())\n",
    "print(\"data points inside range -2 < x < 2: \",\n",
    "      (100 * np.where((mol_embeddings_np > -2) & (mol_embeddings_np < 2))[0].shape[0])\n",
    "      / (mol_embeddings_np.shape[0] * mol_embeddings_np.shape[1]),\"%\")\n",
    "print(\"data points inside range x < -3.5 or x > 4.5: \", \n",
    "      (100 * np.where((mol_embeddings_np < -3.5) | (mol_embeddings_np > 4.5))[0].shape[0])\n",
    "      / (mol_embeddings_np.shape[0] * mol_embeddings_np.shape[1]),\"%\")\n",
    "print(\"total data points: \",\n",
    "      mol_embeddings_np.shape[0] * mol_embeddings_np.shape[1])"
   ]
  },
  {
   "cell_type": "code",
   "execution_count": 31,
   "id": "c6c021e8-b5b5-4acf-a63b-3f9cde85db19",
   "metadata": {},
   "outputs": [
    {
     "name": "stdout",
     "output_type": "stream",
     "text": [
      "Embedding variances: [0.00131843 0.00019605 0.01046376 0.00267775 0.00026364 0.00104743\n",
      " 0.0021774  0.00136159 0.00101083 0.00065739 0.00059761 0.00020579\n",
      " 0.00040117 0.00045346 0.00049031 0.00277952 0.00263236 0.00107651\n",
      " 0.00013048 0.0001482  0.00019085 0.00087462 0.00327138 0.00036125\n",
      " 0.0006315  0.00158858 0.00047553 0.00053097 0.00119352 0.0019112\n",
      " 0.00347729 0.00079379]\n"
     ]
    }
   ],
   "source": [
    "print(\"Embedding variances:\", np.var(mol_embeddings_np, axis=0))"
   ]
  },
  {
   "cell_type": "markdown",
   "id": "8e993ea2-4576-497d-be18-2fbc3ad11bc0",
   "metadata": {},
   "source": [
    "##### Saving GAT embeddings data"
   ]
  },
  {
   "cell_type": "code",
   "execution_count": 32,
   "id": "98a797ad-c2d1-4191-8dde-0221bd9e8396",
   "metadata": {},
   "outputs": [],
   "source": [
    "gat_params = load_conditions('gat_params_etdac.txt')\n",
    "list_dicts = [raw_full_data[key]['metadata'] for key in raw_full_data.keys()]\n",
    "save_embeddings(mol_embeddings_np, list_dicts, gat_params, data_set_name=\"data_embeddings_etdac.h5\")"
   ]
  },
  {
   "cell_type": "markdown",
   "id": "d222e3aa-6a8a-465a-91e3-13cfb095e086",
   "metadata": {},
   "source": [
    "#### Dimensional reductionn test using PCA, t-SNE and UMAP and visualization"
   ]
  },
  {
   "cell_type": "code",
   "execution_count": 33,
   "id": "bb7b4b99-c38c-47c2-a1ad-4d0fd3efec0b",
   "metadata": {},
   "outputs": [],
   "source": [
    "import matplotlib.pyplot as plt"
   ]
  },
  {
   "cell_type": "code",
   "execution_count": 34,
   "id": "b57b7a82-5159-45e1-9c33-609441f8e03d",
   "metadata": {},
   "outputs": [],
   "source": [
    "from sklearn.manifold import TSNE\n",
    "import umap.umap_ as umap\n",
    "from sklearn.decomposition import PCA"
   ]
  },
  {
   "cell_type": "code",
   "execution_count": 35,
   "id": "d80b0bdb-7d33-4992-b2bc-4ce318664abd",
   "metadata": {},
   "outputs": [],
   "source": [
    "from sklearn.preprocessing import normalize"
   ]
  },
  {
   "cell_type": "code",
   "execution_count": 36,
   "id": "5e01080f-a091-4376-9212-e2f44ff43e85",
   "metadata": {},
   "outputs": [
    {
     "data": {
      "image/png": "[encoded data removed]",
      "text/plain": [
       "<Figure size 1000x800 with 1 Axes>"
      ]
     },
     "metadata": {},
     "output_type": "display_data"
    }
   ],
   "source": [
    "# UMAP visualization (usually better preserves global structure)\n",
    "umap_model = umap.UMAP(\n",
    "    n_components=2,          # For visualization\n",
    "    n_neighbors=20,          # Match HDBSCAN's local sensitivity (~min_cluster_size)\n",
    "    min_dist=0.05,            # Balance cluster tightness (similar to HDBSCAN's density focus)\n",
    "    metric='cosine',         # Same as HDBSCAN's precomputed cosine distance\n",
    "    random_state=42,         # Reproducibility\n",
    "    transform_seed=42,       # Consistent transforms\n",
    "    n_jobs=1,               # Avoid parallelism variability\n",
    "    densmap=False,           # Disable density preservation (avoid conflicts with HDBSCAN)\n",
    "    output_dens=False       # Ignore density outputs\n",
    ")\n",
    "embeddings_umap = umap_model.fit_transform(normalize(mol_embeddings_np))  # Explicit L2 normalization\n",
    "\n",
    "plt.figure(figsize=(10, 8))\n",
    "plt.scatter(embeddings_umap[:, 0], embeddings_umap[:, 1], alpha=0.7)\n",
    "plt.title(\"UMAP Visualization of GAT Embeddings\")\n",
    "plt.xlabel(\"UMAP 1\")\n",
    "plt.ylabel(\"UMAP 2\")\n",
    "plt.show()"
   ]
  },
  {
   "cell_type": "code",
   "execution_count": 37,
   "id": "8675cb7c-8fdb-413e-8782-a1f053f350d1",
   "metadata": {},
   "outputs": [
    {
     "data": {
      "text/plain": [
       "(100, 2)"
      ]
     },
     "execution_count": 37,
     "metadata": {},
     "output_type": "execute_result"
    }
   ],
   "source": [
    "embeddings_umap.shape"
   ]
  },
  {
   "cell_type": "code",
   "execution_count": 38,
   "id": "f9141dd4-3f63-475c-b383-0703863724a7",
   "metadata": {},
   "outputs": [],
   "source": [
    "from sklearn.cluster import KMeans\n",
    "\n",
    "# K-Means on UMAP embeddings (choose n_clusters visually)\n",
    "kmeans = KMeans(n_clusters=3, random_state=42)  \n",
    "umap_labels = kmeans.fit(embeddings_umap)"
   ]
  },
  {
   "cell_type": "code",
   "execution_count": 39,
   "id": "591695e3-5571-49ea-b3c0-8f5cfcefa221",
   "metadata": {},
   "outputs": [
    {
     "name": "stdout",
     "output_type": "stream",
     "text": [
      "[2 0 1 1 1 0 1 1 1 0 1 0 1 2 2 2 2 2 0 0 1 1 0 0 0 0 2 1 1 2 1 1 0 1 1 1 1\n",
      " 0 1 1 2 2 1 2 2 0 2 0 1 2 1 1 1 2 0 0 1 2 1 0 1 0 0 1 0 2 0 0 1 1 1 0 2 2\n",
      " 2 1 0 0 1 0 0 1 1 1 0 2 2 0 1 0 2 1 1 0 0 2 1 0 2 1]\n",
      "(array([0, 1, 2], dtype=int32), array([33, 42, 25]))\n"
     ]
    }
   ],
   "source": [
    "print(umap_labels.labels_)\n",
    "print(np.unique(umap_labels.labels_, return_counts=True))"
   ]
  },
  {
   "cell_type": "code",
   "execution_count": 43,
   "id": "d483a1b3-7cab-471e-ae81-0fc06b8cf4c4",
   "metadata": {},
   "outputs": [
    {
     "data": {
      "image/png": "[encoded data removed]",
      "text/plain": [
       "<Figure size 1200x1000 with 2 Axes>"
      ]
     },
     "metadata": {},
     "output_type": "display_data"
    }
   ],
   "source": [
    "# Visualize with cluster colors\n",
    "plt.figure(figsize=(12, 10))\n",
    "scatter = plt.scatter(embeddings_umap[:, 0], embeddings_umap[:, 1], \n",
    "                     c=umap_labels.labels_, cmap='Paired', alpha=0.7)\n",
    "plt.colorbar(scatter)\n",
    "plt.title(\"UMAP Visualization with Cluster Colors\")\n",
    "plt.show()"
   ]
  },
  {
   "cell_type": "markdown",
   "id": "6897aa78-e94b-4e25-91cc-2975fe70d4a4",
   "metadata": {},
   "source": [
    "#### Cluster model"
   ]
  },
  {
   "cell_type": "code",
   "execution_count": 40,
   "id": "398e4320-54f0-4d35-9271-d4729154e0d7",
   "metadata": {},
   "outputs": [],
   "source": [
    "from sklearn.preprocessing import StandardScaler, MinMaxScaler, normalize, Normalizer\n",
    "from sklearn.cluster import DBSCAN"
   ]
  },
  {
   "cell_type": "code",
   "execution_count": null,
   "id": "0f8eb13b-b1e0-46be-a56b-757866f4e200",
   "metadata": {},
   "outputs": [],
   "source": []
  },
  {
   "cell_type": "markdown",
   "id": "c440100f-cdec-49b9-974b-e992277d01d3",
   "metadata": {},
   "source": [
    "##### Clusterization considering graph relation"
   ]
  },
  {
   "cell_type": "code",
   "execution_count": 44,
   "id": "dbfd8cee-c48e-4a14-9e80-5796d0e82f1a",
   "metadata": {},
   "outputs": [],
   "source": [
    "from sklearn.cluster import SpectralClustering\n",
    "from sklearn.metrics.pairwise import cosine_similarity"
   ]
  },
  {
   "cell_type": "code",
   "execution_count": 45,
   "id": "0d1ee13f-cbd5-4252-be37-b1e215af89b0",
   "metadata": {},
   "outputs": [
    {
     "name": "stdout",
     "output_type": "stream",
     "text": [
      "[0 0 1 1 1 0 1 1 2 0 1 0 1 0 2 2 2 2 0 0 1 1 0 0 0 0 0 1 2 2 1 1 0 1 1 1 1\n",
      " 0 1 1 0 0 1 2 0 0 0 0 1 0 1 1 1 2 0 0 1 0 2 0 1 0 0 1 0 0 0 0 2 1 1 0 2 2\n",
      " 2 1 0 0 1 0 0 1 1 1 0 0 0 0 1 0 0 2 1 0 0 0 1 0 0 1]\n",
      "(array([0, 1, 2]), array([48, 37, 15]))\n"
     ]
    }
   ],
   "source": [
    "# L2-normalized inputs\n",
    "mol_embeddings_norm = Normalizer(norm='l2').fit_transform(mol_embeddings_np)\n",
    "# Compute cosine affinity matrix (input to SpectralClustering)\n",
    "affinity_matrix = cosine_similarity(mol_embeddings_norm)  # shape (100, 100) \n",
    "#sigma = 0.5\n",
    "#affinity_matrix = np.exp(-0.5 * (1 - cosine_similarity(mol_embeddings_norm))**2 / sigma**2)\n",
    "# Configure SpectralClustering to match UMAP/HDBSCAN\n",
    "clusters_spectral = SpectralClustering(\n",
    "    n_clusters=3,                # Start with UMAP's visible group count\n",
    "    affinity='precomputed',       # Use cosine similarity directly\n",
    "    random_state=42,             # Reproducibility\n",
    "    n_neighbors=20,              # Match UMAP's n_neighbors\n",
    "    assign_labels='discretize'   # More stable than 'kmeans' for sparse data\n",
    ").fit(affinity_matrix)\n",
    "\n",
    "print(clusters_spectral.labels_)\n",
    "print(np.unique(clusters_spectral.labels_, return_counts=True))"
   ]
  },
  {
   "cell_type": "code",
   "execution_count": 46,
   "id": "b19f9c0b-26cf-4ae0-8412-df9e374fa031",
   "metadata": {},
   "outputs": [
    {
     "data": {
      "text/plain": [
       "array([ 8, 14, 15, 16, 17, 28, 29, 43, 53, 58, 68, 72, 73, 74, 91])"
      ]
     },
     "execution_count": 46,
     "metadata": {},
     "output_type": "execute_result"
    }
   ],
   "source": [
    "np.where(clusters_spectral.labels_ == 2)[0]"
   ]
  },
  {
   "cell_type": "code",
   "execution_count": 47,
   "id": "f4127acd-b8c1-488f-b81e-101d2d84672b",
   "metadata": {},
   "outputs": [
    {
     "data": {
      "image/png": "[encoded data removed]",
      "text/plain": [
       "<Figure size 1200x1000 with 2 Axes>"
      ]
     },
     "metadata": {},
     "output_type": "display_data"
    }
   ],
   "source": [
    "# Visualize with cluster colors\n",
    "plt.figure(figsize=(12, 10))\n",
    "scatter = plt.scatter(embeddings_umap[:, 0], embeddings_umap[:, 1], \n",
    "                     c=clusters_spectral.labels_, cmap='Paired', alpha=0.7)\n",
    "plt.colorbar(scatter)\n",
    "plt.title(\"UMAP Visualization with Cluster Colors\")\n",
    "plt.show()"
   ]
  },
  {
   "cell_type": "code",
   "execution_count": 48,
   "id": "68a5e125-f5ab-49b8-828a-8084129fa031",
   "metadata": {},
   "outputs": [
    {
     "name": "stdout",
     "output_type": "stream",
     "text": [
      "Affinity matrix range: 1.00, 1.00\n"
     ]
    }
   ],
   "source": [
    "print(f\"Affinity matrix range: {affinity_matrix.min():.2f}, {affinity_matrix.max():.2f}\")"
   ]
  },
  {
   "cell_type": "code",
   "execution_count": null,
   "id": "8ed2638c-06d1-43e2-bfce-8494056aeec1",
   "metadata": {},
   "outputs": [],
   "source": []
  }
 ],
 "metadata": {
  "kernelspec": {
   "display_name": "Python 3 (ipykernel)",
   "language": "python",
   "name": "python3"
  },
  "language_info": {
   "codemirror_mode": {
    "name": "ipython",
    "version": 3
   },
   "file_extension": ".py",
   "mimetype": "text/x-python",
   "name": "python",
   "nbconvert_exporter": "python",
   "pygments_lexer": "ipython3",
   "version": "3.11.10"
  }
 },
 "nbformat": 4,
 "nbformat_minor": 5
}
