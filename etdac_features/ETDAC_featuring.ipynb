{
 "cells": [
  {
   "cell_type": "markdown",
   "id": "ad184f27",
   "metadata": {},
   "source": [
    "#### GAT model using the electron transition density atomic contribution matrix\n",
    "$$\n",
    "\\huge \\tilde{\\gamma}^{[l,m]}_{AA^{\\prime}}\n",
    "$$"
   ]
  },
  {
   "cell_type": "markdown",
   "id": "ed9912e4-cdc4-4097-a924-87bfcd54a5ac",
   "metadata": {},
   "source": [
    "###### Check out the paper of this work <br>\n",
    "##### *X-ray absorption spectroscopy reveals charge transfer in π-stacked aromatic amino acids*:<br> https://doi.org/10.1039/D4CP04615C"
   ]
  },
  {
   "cell_type": "markdown",
   "id": "4dba28d1",
   "metadata": {},
   "source": [
    "____________________________"
   ]
  },
  {
   "cell_type": "markdown",
   "id": "ac3dc807-e3e6-4c02-84d1-c61f2cf4ef76",
   "metadata": {},
   "source": [
    "#### Functions for processing data"
   ]
  },
  {
   "cell_type": "code",
   "execution_count": null,
   "id": "f6af8df3-1707-4a21-b473-e6aeb43bbf2e",
   "metadata": {},
   "outputs": [],
   "source": [
    "def load_dict_data(filename, index_col_condition='num-1'):\n",
    "    \"\"\"\n",
    "    Reads from a two-column file the hash and the file and\n",
    "     stores the information of the csv file into a dictionary.\n",
    "    Format file to be read:\n",
    "     f00,(path)../newFY_1-26/resA_MOcore_AB_2.5A_1-26.csv\n",
    "     f01,(path)../newFY_1-26/resA_MOcore_AB_2.6A_1-26.csv\n",
    "     f02,(path)../newFY_1-26/resA_MOcore_AB_2.7A_1-26.csv\n",
    "     f03,(path)../newFY_1-26/resA_MOcore_AB_2.8A_1-26.csv\n",
    "      ...\n",
    "     f61,(path)../newFY_1-26/resA_MOcore_AB_11.0A_1-26.csv \n",
    "    Args:\n",
    "     filename (str): two-column file filename having\n",
    "      a hash for each path file.\n",
    "     index_col_condition (str): the name of the index \n",
    "      column to read the csv as pandas structure.\n",
    "      Default as 'num-1'\n",
    "    Output (dict): keys are the hashes and values of the dictionary\n",
    "     are the pandas frame for each csv file.\n",
    "    \"\"\"\n",
    "    # Initialize a dictionary\n",
    "    dict_raw = {}\n",
    "    # Open the list file\n",
    "    with open(filename, 'r') as file:\n",
    "        # Read each line in the file\n",
    "        for line in file:\n",
    "            line = line.strip()\n",
    "    # {(key) hash = line.split(',')[0] : (value) file_n = line.split(',')[1]}\n",
    "            dict_raw.update({\n",
    "                line.split(',')[0]: # key\n",
    "                pd.read_csv(line.split(',')[1],\n",
    "                            delimiter=',',\n",
    "                            index_col=index_col_condition) # value\n",
    "            })\n",
    "    return dict_raw"
   ]
  },
  {
   "cell_type": "code",
   "execution_count": null,
   "id": "e589f9cd-d276-4129-ab11-6bff62c4ea1e",
   "metadata": {},
   "outputs": [],
   "source": [
    "def save_ETDAC_matrix(data_dict, data_set_name=\"data_etdac_matrix.h5\"):\n",
    "    \"\"\"\n",
    "    Get the node/edge features for each molecule and save\n",
    "    all the results in H5PY format.\n",
    "    Args:\n",
    "    data_dict (dict) contains a hash (key) and \n",
    "     the ETDAC matrix (value) of each molecule.\n",
    "    data_set_name (str, optional) is the name of the H5PY file to be\n",
    "     created. By default that file is called \"data_etdac_matrix.h5\".\n",
    "    \"\"\"\n",
    "    \n",
    "    with h5py.File(data_set_name, 'w') as f:\n",
    "\n",
    "        # Get node/edge features for the list of molecules\n",
    "        for hash in data_dict.keys():\n",
    "#df.to_hdf('data.h5', key='df', mode='w', format='table')\n",
    "            qm_group = f.create_group(f\"sample_{hash}\")\n",
    "            qm_group.create_dataset(\"ETDAC_matrix\", data=data_dict[hash], compression=\"gzip\")      \n",
    "            qm_group.attrs[\"hash\"] = hash"
   ]
  },
  {
   "cell_type": "markdown",
   "id": "06137417",
   "metadata": {},
   "source": [
    "#### Functions for the algebra operations"
   ]
  },
  {
   "cell_type": "code",
   "execution_count": null,
   "id": "17ca3585",
   "metadata": {},
   "outputs": [],
   "source": [
    "def selecting_atm_matrix(df, atoms_list):\n",
    "    \"\"\"\n",
    "    it returns MO matrix (df) having just the atoms in atoms_list.\n",
    "    \"\"\"\n",
    "    col_list = df.index.tolist() #listing index (elements from column 0)\n",
    "    #dff = df.loc[:, (df != 0).any(axis=0)] #removing zero columns\n",
    "    return df.loc[[i for i in atoms_list if i in col_list]] #returning just columns in the both lists intersection\n",
    "#atoms_core=resa_mocore_GFG9Y_raw.index.tolist() #all C-core atoms\n",
    "#[i for i in atoms_a if i in atoms_core] #atoms_a intersection atoms_core"
   ]
  },
  {
   "cell_type": "code",
   "execution_count": null,
   "id": "9b439bab",
   "metadata": {},
   "outputs": [],
   "source": [
    "def crop_by_loewdin_p(df,pop):\n",
    "    \"\"\"\n",
    "    it returns MO matrix (df) having just a Loewdin MO population contribution greater than (100*pop)%.\n",
    "    pop is a number between 0 and 1.\n",
    "    \"\"\"\n",
    "    #cols = [col for col, val in df.sum()[2:].iteritems() if val > (pop*100)]\n",
    "    cols = [col for col, val in df.sum()[2:].items() if val > (pop*100)]\n",
    "    #iteritem() create a zip with the index_col and the values\n",
    "    cols.insert(0,'lvl')\n",
    "    cols.insert(0,'sym')\n",
    "    #to add on the top the first two columns removed in the previous sum() evaluation\n",
    "    return df[cols] #showing the fisrt two columns and those having population greater than pop*100%"
   ]
  },
  {
   "cell_type": "code",
   "execution_count": null,
   "id": "b4558bec",
   "metadata": {},
   "outputs": [],
   "source": [
    "def nonzero_mo_matrix(df):\n",
    "    \"\"\"\n",
    "    it returns MO matrix (df) having just non-zero MO population.\n",
    "    \"\"\"\n",
    "    return df.loc[:, (df != 0).any(axis=0)] #removing zero columns"
   ]
  },
  {
   "cell_type": "code",
   "execution_count": null,
   "id": "335af615",
   "metadata": {},
   "outputs": [],
   "source": [
    "def cropping_matrix(df, df1, df2):\n",
    "    \"\"\"\n",
    "    it returns a cropped MO matrix from df using as parameters the indices in df1 and df2.\n",
    "    df1 index are column names from df and df2 index are the rows from df\n",
    "    \"\"\"\n",
    "    try:\n",
    "        dff = df[df1.axes[1][2:].tolist()] #saving specific columns\n",
    "    except KeyError:\n",
    "        tmp_mo = [item for item in df1.axes[1][2:].tolist() if item in df.axes[1][0:].tolist()]\n",
    "        #removing items in the first list that are not in the second one\n",
    "        dff = df[tmp_mo]\n",
    "    try:\n",
    "        return dff.loc[[int(i) for i in df2.axes[1][2:].tolist()]] #returning specific rows\n",
    "    except KeyError:\n",
    "        tmp_mo2 = [item for item in df2.axes[1][2:].tolist() if int(item) in dff.T.axes[1][0:].tolist()]\n",
    "        # dff.T to obtain the index_col as the head row\n",
    "        return dff.loc[[int(i) for i in tmp_mo2]] #returning specific rows\n",
    "# the first two elements in df2.axes[1] and df1.axes[1] are \"sym\" and \"lvl\", that's why I used df.axes[1][2:]"
   ]
  },
  {
   "cell_type": "code",
   "execution_count": null,
   "id": "32376646-a958-4a0b-bbfc-8e731240e1bc",
   "metadata": {},
   "outputs": [],
   "source": [
    "def remove_noncontrb(dict_data_raw):\n",
    "    \"\"\"\n",
    "    Drops off the non-contributing elements to avoid\n",
    "    zero or nan spread on the following linear algebra \n",
    "    operations.\n",
    "    This function depends on the nonzero_mo_matrix()\n",
    "     to work.\n",
    "    Args:\n",
    "    dict_data_raw (dict): the pd.frames inside can have zeroes\n",
    "     or nan values.\n",
    "    Output (dict): dict_data only with nonzero elements.\n",
    "    \"\"\"\n",
    "    dict_data = {}\n",
    "    for key, value in dict_data_raw.items():\n",
    "        dict_data.update({key: nonzero_mo_matrix(value)})\n",
    "    return dict_data"
   ]
  },
  {
   "cell_type": "markdown",
   "id": "2bea0f27",
   "metadata": {},
   "source": [
    "#### Main functions: ETDAC matrix calculation"
   ]
  },
  {
   "cell_type": "markdown",
   "id": "917c08c8-c1dd-40e5-b7a6-32d53e95da57",
   "metadata": {},
   "source": [
    "##### Building heatmaps of $\\tilde{\\gamma}^{[l,m]}_{AA^{\\prime}}$"
   ]
  },
  {
   "cell_type": "code",
   "execution_count": null,
   "id": "dcba58f4",
   "metadata": {},
   "outputs": [],
   "source": [
    "def ts_psb_acore_bvirt(acore, bvirt, abcorevirt, atm_to_virtmo=False):\n",
    "    \"\"\"\n",
    "    Do a matrix multiplication between the core-to-virt transition \n",
    "    probabilities matrix and the core MO matrix, then the resulting matrix\n",
    "    is multiplied by the virtual MO matrix.\n",
    "    if atm_to_virtmo is True, then the two resulting matrices in the \n",
    "    multiplication process are returned.\n",
    "    By the default, just the last matrix is returned.\n",
    "    \"\"\"\n",
    "    abcorevirt.index = abcorevirt.index.astype('str') \n",
    "    #to make possible the dot product in pandas, the indexes involved in each\n",
    "    #product have to \"match\" in name and type\n",
    "    \n",
    "    i = j = 0\n",
    "    dff = pd.DataFrame(np.zeros((acore.shape[0], abcorevirt.shape[0])), \\\n",
    "                       index=acore.index, columns=abcorevirt.index)\n",
    "    for j in range(abcorevirt.shape[1]):\n",
    "        for i in range(acore.shape[1]):\n",
    "            try:\n",
    "                dff += acore.T[i:i+1].T.dot(abcorevirt.iloc[:].T[j:j+1])\n",
    "            except:\n",
    "                pass\n",
    "            \n",
    "    dff = dff/100\n",
    "    i = j = 0\n",
    "    dff2 = pd.DataFrame(np.zeros((dff.shape[0], bvirt.shape[0])), \\\n",
    "                        index=dff.index, columns=bvirt.index)\n",
    "    for i in range(dff.shape[1]):\n",
    "        for j in range(bvirt.shape[1]):\n",
    "            try:\n",
    "                dff2 += dff.T[i:i+1].T.dot(bvirt.T[j:j+1])\n",
    "            except:\n",
    "                pass\n",
    "    \n",
    "    if atm_to_virtmo:\n",
    "        return dff, dff2\n",
    "    else:\n",
    "        return dff2"
   ]
  },
  {
   "cell_type": "code",
   "execution_count": null,
   "id": "2a37c6ea-4fe1-4212-8157-0ce31576ba8d",
   "metadata": {},
   "outputs": [],
   "source": [
    "def heatmap_ETDAC(core_MO, virt_MO, fosce_mo_trans):\n",
    "    \"\"\"\n",
    "    Runs the ts_psb_acore_bvirt() function to calculate the\n",
    "     electron transition density atomic contribution matrix \n",
    "     by performing some matrix transformations in the \n",
    "     core_MO and virt_MO pd.frames that are stored as\n",
    "     values in dictionary.\n",
    "    Args:\n",
    "    core_MO (dict): core MO and atom population matrices \n",
    "     obtained by load_dict_data() and remove_noncontrb()\n",
    "    virt_MO (dict): virtual MO and atom population matrices \n",
    "     obtained by load_dict_data()\n",
    "    fosce_mo_trans (dict): electronic transition\n",
    "     (oscillator strength) MO matrices obtained by the pipeline\n",
    "     (github.com/caraortizmah/x-ray_scripting_out) and \n",
    "     formated by load_dict_data()\n",
    "    Output:\n",
    "    heatmap_raw (dict): The electron transition density \n",
    "     atomic contribution (ETDAC) matrix in pd.frame format.\n",
    "    \"\"\"\n",
    "    # WSM case\n",
    "    # Exploiting the fact that all data share same order of the keys (hashes)\n",
    "    heatmap_raw = {}\n",
    "    for key in virt_MO.keys(): \n",
    "        # it can be any of the created dictionaries, they have same keys and in the same order\n",
    "        heatmap_raw.update({\n",
    "            key:\n",
    "            ts_psb_acore_bvirt(\n",
    "                core_MO[key].T[2:].T,\n",
    "                virt_MO[key].T[2:].T,\n",
    "                fosce_mo_trans[key])\n",
    "        })\n",
    "    return heatmap_raw"
   ]
  },
  {
   "cell_type": "code",
   "execution_count": null,
   "id": "0810bcd6-97f4-462b-9132-f76b9ad6f7d7",
   "metadata": {},
   "outputs": [],
   "source": [
    "def crop_heatmap_byatm(etdac_m, row_cond, col_cond):\n",
    "    \"\"\"\n",
    "    Crop the electron transition density atomic \n",
    "     contribution matrix by using a range of atoms\n",
    "     that are in the core space and in the virtual\n",
    "     space.\n",
    "    Args:\n",
    "    etdac_m (pd.frame): Electron transition density atomic \n",
    "     contribution matrix.\n",
    "    row_cond (lambda): if-statement using the range of \n",
    "     atoms of the core space.\n",
    "    col_cond (lambda): if-statement using the range of\n",
    "     atoms of the virtual space.\n",
    "    Outputs:\n",
    "     etdac_m cropped by using two lambda functions.\n",
    "    \"\"\"\n",
    "    return etdac_m.loc[\n",
    "    [i for i in etdac_m.index.values if row_cond(i)],\n",
    "    [i for i in etdac_m.columns.values if col_cond(i)]\n",
    "    ]"
   ]
  },
  {
   "cell_type": "markdown",
   "id": "6f27176b-36d4-4998-abe8-6ad0eab61b4b",
   "metadata": {},
   "source": [
    "______________________________________________"
   ]
  },
  {
   "cell_type": "code",
   "execution_count": null,
   "id": "5ddaf44e-fa8d-43c9-9458-249f29181e50",
   "metadata": {},
   "outputs": [],
   "source": [
    "#Data in .csv format"
   ]
  },
  {
   "cell_type": "code",
   "execution_count": null,
   "id": "036776cd-af76-4a40-8b8d-8b59a8377368",
   "metadata": {},
   "outputs": [],
   "source": [
    "# resA core MO - $$\\boldsymbol{\\text{N}}_{A,i} $$\n",
    "resa_mocore_raw = load_dict_data('resA_MOcore_list.log', 'num-1')"
   ]
  },
  {
   "cell_type": "code",
   "execution_count": null,
   "id": "28981e1b-bd8d-4d54-bbc7-916328fed802",
   "metadata": {},
   "outputs": [],
   "source": [
    "# resB virt MO - $$\\boldsymbol{\\text{N}}_{A^{\\prime},a} $$\n",
    "resb_movirt_raw = load_dict_data('resB_MOvirt_list.log', 'num-1')"
   ]
  },
  {
   "cell_type": "code",
   "execution_count": null,
   "id": "f66f734f-2506-4a9f-b696-8abf22c603a6",
   "metadata": {},
   "outputs": [],
   "source": [
    "# Transition density state matrix $$ \\rho^{n}_{ia} $$"
   ]
  },
  {
   "cell_type": "code",
   "execution_count": null,
   "id": "b9c6b96e-19ae-44b8-86c8-fc1271719ddb",
   "metadata": {},
   "outputs": [],
   "source": [
    "# Transition density state matrix (core/virt MO) \n",
    "#  as function of the number of transitions\n",
    "corevirtMO_raw = load_dict_data('corevirtMO_list.log', 'virt\\core')"
   ]
  },
  {
   "cell_type": "code",
   "execution_count": null,
   "id": "6e84dca6-adea-4a91-a1f8-2d05be3ae61f",
   "metadata": {},
   "outputs": [],
   "source": [
    "# Transition density state matrix (core/virt MO) \n",
    "#  as function of the transitions averaged probability\n",
    "corevirtMO_tspb_raw = load_dict_data('corevirtMO_tspb_list.log', 'virt\\core')"
   ]
  },
  {
   "cell_type": "code",
   "execution_count": null,
   "id": "bf33f9b0-d2fc-4174-905b-52628ed9712c",
   "metadata": {},
   "outputs": [],
   "source": [
    "# Transition density state matrix (core/virt MO) \n",
    "#  as function of the oscillator strength using electronic dipole moment as operator\n",
    "#  only presented by weighted (WSM): fosce\n",
    "#  $$ \\gamma^{[l,m]}_{ia} $$\n",
    "corevirtMO_fosce_raw = load_dict_data('corevirt_fosce_AB_list.log', 'virt\\core')"
   ]
  },
  {
   "cell_type": "code",
   "execution_count": null,
   "id": "ea7f8270-d49e-4dda-a863-68543359d2a5",
   "metadata": {},
   "outputs": [],
   "source": [
    "# Reducing Löwdin Population MO matrices by removing non-contributing MO"
   ]
  },
  {
   "cell_type": "code",
   "execution_count": null,
   "id": "7aba4087-4f3d-4eae-8441-07eefa4c9b92",
   "metadata": {},
   "outputs": [],
   "source": [
    "#  Case for core MO in the resA \n",
    "resa_mocore = remove_noncontrb(resa_mocore_raw)"
   ]
  },
  {
   "cell_type": "code",
   "execution_count": null,
   "id": "25e8a18a-b0ef-4ed4-9c72-0438ccb32818",
   "metadata": {},
   "outputs": [],
   "source": [
    "# Case for virtual MO in the resB\n",
    "resb_movirt = remove_noncontrb(resb_movirt_raw)"
   ]
  },
  {
   "cell_type": "markdown",
   "id": "e572066c",
   "metadata": {},
   "source": [
    "___________________________"
   ]
  },
  {
   "cell_type": "markdown",
   "id": "3b752e14",
   "metadata": {},
   "source": [
    "### Results"
   ]
  },
  {
   "cell_type": "code",
   "execution_count": null,
   "id": "f615cbf2-a14d-434b-a415-e63bc08570aa",
   "metadata": {},
   "outputs": [],
   "source": [
    "\"\"\"\n",
    "Final calculation: $$ \\huge \\tilde{\\gamma}^{[l,m]}_{AA^{\\prime}} $$\n",
    "\"\"\""
   ]
  },
  {
   "cell_type": "code",
   "execution_count": null,
   "id": "8a98dfdb-33c3-47ad-aed3-2d2a06da9a6c",
   "metadata": {},
   "outputs": [],
   "source": [
    "# WSM case, it is the official representation by the domain-knowledge\n",
    "heatmap_raw = heatmap_ETDAC(resa_mocore, resb_movirt_raw, corevirtMO_fosce_raw)"
   ]
  },
  {
   "cell_type": "code",
   "execution_count": null,
   "id": "c4b8f581-e67b-47e9-96a0-7222e001e13e",
   "metadata": {},
   "outputs": [],
   "source": [
    "for key in heatmap_raw.keys():\n",
    "    heatmap_raw[key].index.names = ['core-atom']\n",
    "    heatmap_raw[key].columns.names = ['virtual-atom']"
   ]
  },
  {
   "cell_type": "code",
   "execution_count": null,
   "id": "814158c5-e8c1-4fd2-8191-cbb5c501a6cc",
   "metadata": {},
   "outputs": [],
   "source": [
    "heatmap = {}\n",
    "for key in heatmap_raw.keys():\n",
    "    heatmap.update({\n",
    "        key:\n",
    "        heatmap_raw[key].apply(pd.to_numeric).sort_index(ascending=True)\n",
    "    })"
   ]
  },
  {
   "cell_type": "code",
   "execution_count": null,
   "id": "d165f63c-4d8f-46e3-a8d7-56a1742ce702",
   "metadata": {},
   "outputs": [],
   "source": [
    "# Saving data\n",
    "save_ETDAC_matrix(heatmap, data_set_name=\"data_etdac_matrix.h5\")"
   ]
  },
  {
   "cell_type": "code",
   "execution_count": null,
   "id": "52a8ac23-c8cd-4a05-9981-c2626f9b8747",
   "metadata": {},
   "outputs": [],
   "source": []
  },
  {
   "cell_type": "code",
   "execution_count": 1,
   "id": "2174560c-ad06-460f-8665-420cf77d64ae",
   "metadata": {},
   "outputs": [],
   "source": [
    "import h5py"
   ]
  },
  {
   "cell_type": "code",
   "execution_count": 10,
   "id": "896c3a1c-df4c-4050-905c-40911c472339",
   "metadata": {},
   "outputs": [],
   "source": [
    "import numpy as np\n",
    "import pandas as pd"
   ]
  },
  {
   "cell_type": "code",
   "execution_count": 164,
   "id": "2a68486f-0f2c-4153-89ea-26b612b87f09",
   "metadata": {},
   "outputs": [],
   "source": [
    "from ase.io import read\n",
    "from rdkit import Chem"
   ]
  },
  {
   "cell_type": "code",
   "execution_count": 3,
   "id": "32cc0cc0-0716-46df-9888-8f1773d2013a",
   "metadata": {},
   "outputs": [],
   "source": [
    "## Technical functions"
   ]
  },
  {
   "cell_type": "code",
   "execution_count": 139,
   "id": "7451cffb-c4ad-455f-a087-486db436a5a5",
   "metadata": {},
   "outputs": [],
   "source": [
    "def load_etdac_h5py(h5file, hash_mol):\n",
    "    \"\"\"\n",
    "    Load data from one ETDAC matrix (group) from a h5py\n",
    "    file (h5file) using the specific hash (hash_mol).\n",
    "    \"\"\"\n",
    "    # Load a specific molecule using the hash\n",
    "    id_mol = f\"sample_{hash_mol}\"\n",
    "    with h5py.File(h5file, 'r') as f:\n",
    "        # Load global parameters\n",
    "        global_params = dict(f.attrs)\n",
    "        #print(\"Global params:\", global_params)\n",
    "\n",
    "        # Access a specific sample using the hash\n",
    "        sample = f[id_mol]\n",
    "        df = pd.DataFrame.from_records(sample[\"ETDAC_matrix\"][:])\n",
    "        # Restore row name\n",
    "        df.set_index(sample.attrs[\"index_name\"], inplace=True)\n",
    "        # Restore column name\n",
    "        df.columns.name = sample.attrs[\"column_name\"]\n",
    "        # load arrays\n",
    "        return [\n",
    "            sample.attrs[\"hash\"],\n",
    "            df\n",
    "        ]"
   ]
  },
  {
   "cell_type": "code",
   "execution_count": null,
   "id": "2f3de399-4e9b-40e9-b850-e445cc02b0a0",
   "metadata": {},
   "outputs": [],
   "source": [
    "def save_ETDAC_matrix(data_dict, data_set_name=\"data_etdac_matrix.h5\"):\n",
    "    \"\"\"\n",
    "    Get the node/edge features for each molecule and save\n",
    "    all the results in H5PY format.\n",
    "    Args:\n",
    "    data_dict (dict) contains a hash (key) and \n",
    "     the ETDAC matrix (value) of each molecule.\n",
    "    data_set_name (str, optional) is the name of the H5PY file to be\n",
    "     created. By default that file is called \"data_etdac_matrix.h5\".\n",
    "    \"\"\"\n",
    "    \n",
    "    with h5py.File(data_set_name, 'w') as f:\n",
    "\n",
    "        # Get node/edge features for the list of molecules\n",
    "        for hash in data_dict.keys():\n",
    "#df.to_hdf('data.h5', key='df', mode='w', format='table')\n",
    "            qm_group = f.create_group(f\"sample_{hash}\")\n",
    "            qm_group.create_dataset(\"ETDAC_matrix\", \n",
    "                                    data=data_dict[hash].to_records(index=True),  # Preserves index+columns\n",
    "                                    compression=\"gzip\")\n",
    "            \n",
    "            qm_group.attrs[\"hash\"] = hash\n",
    "            qm_group.attrs[\"column_name\"] = data_dict[hash].columns.name # Save column name\n",
    "            qm_group.attrs[\"index_name\"] = data_dict[hash].index.name  # Save row name"
   ]
  },
  {
   "cell_type": "code",
   "execution_count": 11,
   "id": "f687bf31-3deb-458d-b5e2-71d22c5f53af",
   "metadata": {},
   "outputs": [],
   "source": [
    "def load_conditions(conditions_file):\n",
    "    \"\"\"\n",
    "    Load conditions, those are pre-defined by the user\n",
    "    in an external file and return a dictionary having this\n",
    "    information.\n",
    "    \"\"\"\n",
    "    parameters= {}\n",
    "    with open(conditions_file, 'r', encoding=\"utf-8\") as params:\n",
    "        for param in params:\n",
    "            param = param.strip()\n",
    "            parameters[param.split(':')[0].strip()] = eval(param.split(':')[1].strip())\n",
    "    return parameters"
   ]
  },
  {
   "cell_type": "code",
   "execution_count": 12,
   "id": "08c2a13f-9cf2-476f-aa3e-d6c371ff3589",
   "metadata": {},
   "outputs": [],
   "source": [
    "def load_molecules(file_list):\n",
    "    \"\"\"\n",
    "    Return a numpy array having the hash\n",
    "    and the pdb file name of a pdb list file.\n",
    "    \"\"\"\n",
    "    pdbs_data = []\n",
    "    with open(file_list, 'r', encoding=\"utf-8\") as listpdb:\n",
    "        for pdb_file in listpdb:\n",
    "            pdb_file = pdb_file.strip()\n",
    "            pdb_file = np.array(pdb_file.split(','))\n",
    "            pdbs_data.append(pdb_file)\n",
    "    return np.array(pdbs_data, dtype=h5py.string_dtype(encoding='utf-8'))"
   ]
  },
  {
   "cell_type": "code",
   "execution_count": 17,
   "id": "9d4258ab-9968-4f5e-b961-46ffb0b14a5f",
   "metadata": {},
   "outputs": [],
   "source": [
    "#### Functions for node featuring"
   ]
  },
  {
   "cell_type": "code",
   "execution_count": 18,
   "id": "b44acf52-b263-483e-a1ac-593abbc9e058",
   "metadata": {},
   "outputs": [],
   "source": [
    "def pandas_molecule(file_name):\n",
    "    \"\"\"\n",
    "    Load the molecule from pdb format\n",
    "    and return some of the pdb information\n",
    "    in pandas format\n",
    "    \"\"\"\n",
    "    # Loading molecule\n",
    "    atoms = read(file_name, format=\"proteindatabank\")\n",
    "    # Convert to pandas DataFrame\n",
    "    atoms_pdb = pd.DataFrame({\n",
    "        'atom': atoms.get_chemical_symbols(),\n",
    "        # Optional: add residue info if available in PDB\n",
    "        'residue': atoms.get_array('residuenames') if 'residuenames' in atoms.arrays else None,\n",
    "        'x': atoms.positions[:, 0],\n",
    "        'y': atoms.positions[:, 1],\n",
    "        'z': atoms.positions[:, 2]\n",
    "    })\n",
    "    # Remove blank spaces from 'residue' column\n",
    "    atoms_pdb['residue'] = atoms_pdb['residue'].str.strip()\n",
    "    return atoms_pdb"
   ]
  },
  {
   "cell_type": "code",
   "execution_count": 19,
   "id": "8eef9c70-6151-4ae8-9aa3-21e0764d04d0",
   "metadata": {},
   "outputs": [],
   "source": [
    "def atom_categorical_feat(pandas_mol):\n",
    "    \"\"\"\n",
    "    Receive a pandas matrix that contains the basic\n",
    "    information of a pdb file: atom, residue, x, y, z.\n",
    "    It appends, as new binary columns, the type of atom\n",
    "    in the following order: 'C', 'N', 'O', 'H' and 'S',\n",
    "    where 1 if the atom is of that type and 0 otherwise.\n",
    "    \"\"\"\n",
    "    pandas_mol['C'] = (pandas_mol['atom'].eq('C')).astype(int)\n",
    "    pandas_mol['N'] = (pandas_mol['atom'].eq('N')).astype(int)\n",
    "    pandas_mol['O'] = (pandas_mol['atom'].eq('O')).astype(int)\n",
    "    pandas_mol['H'] = (pandas_mol['atom'].eq('H')).astype(int)\n",
    "    pandas_mol['S'] = (pandas_mol['atom'].eq('S')).astype(int)\n",
    "    return pandas_mol"
   ]
  },
  {
   "cell_type": "code",
   "execution_count": 67,
   "id": "a0cd700d-88e7-4939-b2d3-d3e695c18a88",
   "metadata": {},
   "outputs": [],
   "source": [
    "def byindex_atom_categorical_feat(pandas_mol, feat_name, index_array):\n",
    "    \"\"\"\n",
    "    Receive a pandas matrix that contains the basic\n",
    "    information of a pdb file: atom, residue, x, y, z.\n",
    "    It appends a binary column using feat_name.\n",
    "    Where values in this new column are 1 if the atom\n",
    "    (using index of pandas_mol) matches with any value of\n",
    "    the index_array and 0 otherwise.\n",
    "    Args:\n",
    "    pandas_mol (df): pdb file in pandas format\n",
    "    feat_name (str): name of the new categorical feature\n",
    "    index_array (np.array): index array to be matched\n",
    "     with the index values of pandas_mol\n",
    "    \"\"\"\n",
    "    pandas_mol[feat_name] = pandas_mol.index.isin(index_array).astype(int)\n",
    "    return pandas_mol"
   ]
  },
  {
   "cell_type": "code",
   "execution_count": 121,
   "id": "3c2c9aa2-0b72-4084-9720-907e25d7cead",
   "metadata": {},
   "outputs": [],
   "source": [
    "def two_aa_categorical_feat(pandas_mol):\n",
    "    \"\"\"\n",
    "    Receive a pandas matrix that contains the basic\n",
    "    information of a pdb file: atom, residue, x, y, z.\n",
    "    Differentiate ONLY between two type of residues.\n",
    "    It appends, two new binary columns, as aa_1 and\n",
    "    aa_2. This differentiation is only applicable in the\n",
    "    context of the pair of amino acid model.\n",
    "    aa_1 and aa_2 corresponds to the two type of amino\n",
    "    acids.\n",
    "    \"\"\"\n",
    "    pandas_mol['aa_1'] = (\n",
    "        pandas_mol['residue'] == pandas_mol['residue'].iloc[0]\n",
    "    ).astype(int)\n",
    "    pandas_mol['aa_2'] = (\n",
    "        pandas_mol['residue'] != pandas_mol['residue'].iloc[0]\n",
    "    ).astype(int)\n",
    "    return pandas_mol"
   ]
  },
  {
   "cell_type": "code",
   "execution_count": 147,
   "id": "164440c8-1e72-4ae3-8c13-d6a7570780b2",
   "metadata": {},
   "outputs": [],
   "source": [
    "def stacking_feats(mol_label):\n",
    "    \"\"\"\n",
    "    Stacks all the node features in one single\n",
    "    pd.Frame recursively.\n",
    "    Args:\n",
    "    mol_label (np.array): array having the hash\n",
    "    and name of the pdb file.\n",
    "    \"\"\"\n",
    "    # load etdac data\n",
    "    etdac_data = load_etdac_h5py(\n",
    "        'data_etdac_matrix.h5', \n",
    "        mol_label[0]\n",
    "    )\n",
    "    return two_aa_categorical_feat(\n",
    "        byindex_atom_categorical_feat(\n",
    "            byindex_atom_categorical_feat(\n",
    "                atom_categorical_feat(\n",
    "                    pandas_molecule(\n",
    "                        mol_label[1]\n",
    "                    )\n",
    "                ),\n",
    "                'core',\n",
    "                etdac_data[1].index.values.astype(int)\n",
    "            ),\n",
    "            'virtual',\n",
    "            etdac_data[1].columns.values.astype(int)\n",
    "        )\n",
    "    )"
   ]
  },
  {
   "cell_type": "code",
   "execution_count": 148,
   "id": "c8bf7c83-db3e-4a06-ac84-7e98adcb7952",
   "metadata": {},
   "outputs": [],
   "source": [
    "def drop_off_corecolumns(pandas_mol, cols):\n",
    "    \"\"\"\n",
    "    Drop off columns from pandas_mol using cols\n",
    "    \"\"\"\n",
    "    return pandas_mol.drop(columns=cols)"
   ]
  },
  {
   "cell_type": "markdown",
   "id": "f37fa06f-c720-44a5-8ddc-83682ceb1533",
   "metadata": {},
   "source": [
    "_________________________________"
   ]
  },
  {
   "cell_type": "code",
   "execution_count": 413,
   "id": "70fcb1ab-f1d7-4ded-8898-b6b0ca408b03",
   "metadata": {},
   "outputs": [],
   "source": [
    "def corexvirt_edge_feature(atoms, params):\n",
    "    \"\"\"\n",
    "    Get the minimal information required for\n",
    "    GNN context from a molecule regarding \n",
    "    connectivity: edges of the adjacency matrix \n",
    "    and the pairwise matrix as edge feature.\n",
    "    From a pdb molecule two np.arrays are created:\n",
    "    Args:\n",
    "    atoms from a pdb file (ase.atoms.Atoms)\n",
    "    Output:\n",
    "    (edge_list, pairwise_feat) each element in the\n",
    "     tuple is a np.array.\n",
    "    edge_list  has shape (2, n_atoms*(n_atoms - 1))\n",
    "    of a fully connected matrix (i, j) and (j, i)\n",
    "    excluding diagonal.\n",
    "    First row is the \"Begin\" of a connection and\n",
    "    the second row is the \"End\" of that connection.\n",
    "    Since that graph is undirected, half of the \n",
    "    information is redundant.\n",
    "    pairwise_feat is a distance matrix between the \n",
    "    non-diagonal elements built with the same order\n",
    "    architecture of edge_list.\n",
    "    pairwise_feat has shape (n_atoms*(n_atoms - 1),)\n",
    "    \"\"\"\n",
    "\n",
    "    core = np.where(\n",
    "        np.array(\n",
    "            [1 if atom == params\n",
    "             else 0 for atom in atoms.get_chemical_symbols()]\n",
    "        )\n",
    "    )[0]\n",
    "    \n",
    "    virtual = np.where(\n",
    "        np.array(\n",
    "            [1 for atom in atoms.get_chemical_symbols()]\n",
    "        )\n",
    "    )[0]\n",
    "    \n",
    "    # All combinatorial pairs\n",
    "    # core HAS to be a subgroup of virtual \n",
    "    rows = np.repeat(core, len(virtual))\n",
    "    cols = np.tile(virtual, len(core))\n",
    "    # rows and cols are the positions of core and virtual\n",
    "    # since virtual are all atoms then the result should \n",
    "    #  be the same\n",
    "    # Shape: (2, core_atoms*virtual_atoms) \n",
    "    edge_list = np.vstack([rows, cols])\n",
    "    # Construct pairwise matrix with the same architecture as edge_list\n",
    "    pairwise_feat = atoms.get_all_distances()[rows, cols]\n",
    "    \n",
    "    return (edge_list, pairwise_feat)"
   ]
  },
  {
   "cell_type": "code",
   "execution_count": 416,
   "id": "40c7789f-a320-4942-ad06-a24d8a24fd18",
   "metadata": {},
   "outputs": [],
   "source": [
    "def get_nondiagonals_connectivity(group_1, group_2):\n",
    "    \"\"\"\n",
    "    Create all possible edges between \n",
    "     two group of nodes: group_1 and group_2).\n",
    "    In the options are only consider nondiagonal\n",
    "    interactions, self-inetractions are deprecated.\n",
    "    Args:\n",
    "    group_1 and group 2: np.array\n",
    "    Output is a np.array e.g.:\n",
    "    array([[1, 2], [1,3],...])\n",
    "    \"\"\"\n",
    "    return np.column_stack([\n",
    "        np.repeat(group_1, len(group_2)),\n",
    "        np.tile(group_2, len(group_1))\n",
    "    ])"
   ]
  },
  {
   "cell_type": "code",
   "execution_count": 429,
   "id": "32ee021e-a58b-4fba-b103-fad41a09ccfb",
   "metadata": {},
   "outputs": [],
   "source": [
    "def get_aro_aro_pairlist(mol):\n",
    "    \"\"\"\n",
    "    Fragments a molecule (RdKit) into the non-covalent\n",
    "    parts (e.g. two non-covalent interacting amino acids\n",
    "    are two fragments) and returns a collection of all\n",
    "    the possible pair atoms between the two aromatic \n",
    "    rings of both aromatic amino acids.\n",
    "    Output:\n",
    "    a np.array of a list of lists.\n",
    "    \"\"\"\n",
    "    # Idea for pi_stacking (conditioned only for two molecules)\n",
    "    fragments = [np.array(frag) for frag in Chem.GetMolFrags(mol, asMols=False)]\n",
    "    \n",
    "    # Get only aromatic atoms of each fragment (molecule)\n",
    "    aa_1 = np.intersect1d(np.array([aa.GetIdx() for aa in mol.GetAromaticAtoms()]), \n",
    "                          fragments[0])\n",
    "    aa_2 = np.intersect1d(np.array([aa.GetIdx() for aa in mol.GetAromaticAtoms()]), \n",
    "                          fragments[1])\n",
    "\n",
    "    # Collecting all the possible edges between aromatic atoms in aa_1 and aa_2\n",
    "    # Only non-diagonals (a and b can be distinct)\n",
    "    # Get list of connected (aromatic pi stacking) points (atoms)\n",
    "    return get_nondiagonals_connectivity(aa_1, aa_2)"
   ]
  },
  {
   "cell_type": "code",
   "execution_count": 431,
   "id": "6f4b3cd7-8aab-41c7-a3b0-63171e95b70c",
   "metadata": {},
   "outputs": [],
   "source": [
    "def get_sp2_noaromatic_index(mol):\n",
    "    \"\"\"\n",
    "    Return the ordered np.array with the index\n",
    "    (positions) of the atoms in mol that have\n",
    "    hybridation SP2 and are not in a conjugated\n",
    "    system. However this function is customized\n",
    "    to include the N from the peptide bond since\n",
    "    molecules are isolated amino acids and N cannot\n",
    "    be detected as SP2. Consider this if you are using\n",
    "    this function in other type of molecules.\n",
    "    \"\"\"\n",
    "    return np.sort(\n",
    "        np.concatenate((\n",
    "            np.array([b.GetIdx() for b in mol.GetAtoms() \n",
    "                      if (b.GetHybridization() == Chem.HybridizationType().SP3) &\n",
    "                      (b.GetAtomicNum() == 7)]), # special case for N of peptide bond\n",
    "            np.array([b.GetIdx() for b in mol.GetAtoms() \n",
    "                      if (b.GetHybridization() == Chem.HybridizationType().SP2) &\n",
    "                      ((b.GetAtomicNum() == 6) | (b.GetAtomicNum() == 8)) \n",
    "                      & (~b.GetIsAromatic())]) # SP2 (C or O) atoms\n",
    "        ),  axis=0)\n",
    "    )"
   ]
  },
  {
   "cell_type": "code",
   "execution_count": 432,
   "id": "bf3a98b0-1adf-4f26-b970-27665ac74a9b",
   "metadata": {},
   "outputs": [],
   "source": [
    "def get_aro_sp2_pairlist(mol):\n",
    "    \"\"\"\n",
    "    Fragments a molecule (RdKit) into the non-covalent\n",
    "    parts (e.g. two non-covalent interacting amino acids\n",
    "    are two fragments) and returns a collection of all\n",
    "    the possible pair atoms between the aromatic \n",
    "    rings and the peptide bond of both amino acids.\n",
    "    Output:\n",
    "    a np.array of a list of lists.\n",
    "    \"\"\"\n",
    "\n",
    "    # Idea for pi_stacking (conditioned only for two molecules)\n",
    "    fragments = [np.array(frag) for frag in Chem.GetMolFrags(mol, asMols=False)]\n",
    "\n",
    "    # Get only aromatic atoms of each fragment (molecule)\n",
    "    aa_1 = np.intersect1d(np.array([aa.GetIdx() for aa in mol.GetAromaticAtoms()]),\n",
    "                          fragments[0])\n",
    "    aa_2 = np.intersect1d(np.array([aa.GetIdx() for aa in mol.GetAromaticAtoms()]), \n",
    "                          fragments[1])\n",
    "    \n",
    "    # Get only SP2 atoms of each fragment including \n",
    "    #  N of peptide bond in isolated amino acids\n",
    "    sp2_1 = np.intersect1d(get_sp2_noaromatic_index(mol), fragments[0])\n",
    "    sp2_2 = np.intersect1d(get_sp2_noaromatic_index(mol), fragments[1])\n",
    "\n",
    "    # Collecting all the possible edges between aromatic atoms in sp2_1 and sp2_2\n",
    "    # Only non-diagonals (a and b can be distinct)\n",
    "    # Get list of connected (aromatic-sp2 pi stacking) points (atoms)\n",
    "    aro_sp2_list1 = get_nondiagonals_connectivity(aa_1, sp2_2)\n",
    "    aro_sp2_list2 = get_nondiagonals_connectivity(aa_2, sp2_1)\n",
    "    # Concatenate: full pi-stacking between intermolecular \n",
    "    #  sidechain and backbone\n",
    "    return np.concatenate((aro_sp2_list1, aro_sp2_list2), axis=0)"
   ]
  },
  {
   "cell_type": "code",
   "execution_count": 427,
   "id": "c72b6b9e-448a-4ee8-bebc-64d86dd72883",
   "metadata": {},
   "outputs": [],
   "source": [
    "def customint_edge_categorical_feat(e_feat_shape, edge_list, if_pair_list):\n",
    "    \"\"\"\n",
    "    Creates a edge feature array following a categorical\n",
    "     condition using an already \"conditioned\" pair list.\n",
    "    This function follows a similar structure as in the \n",
    "      typeint_edge_categorical_feat() function.\n",
    "    In this case customization comes from the fact that\n",
    "    if_pair_list is already conditioned by the user needs.\n",
    "    Args:\n",
    "    e_feat_shape (tuple) is the shape of the edge\n",
    "     feature array.\n",
    "    edge_list (np.array) is the array of connectivity\n",
    "     for a undirected graph (all non-diagonals).\n",
    "    Read more about it in the default_edge_feature() \n",
    "     function.\n",
    "    if_pair_list (np.array) is the array of connectivity \n",
    "    having shape (numer_of_acceptable_conditions, 2).\n",
    "    int_type (float) is the type of \"covalent\" bond\n",
    "     interaction defined in the rdkit.Chem library.\n",
    "    Read more about it in the type_int_categorical_feat()\n",
    "     function.\n",
    "    \"\"\"\n",
    "\n",
    "    # Initializing the edge feature array\n",
    "    edge_feature = np.zeros(e_feat_shape, dtype=int)\n",
    "       \n",
    "    # Get the column positions of edge_list where each if_pair_list\n",
    "    #  matches including redundancies (i, j) and (j, i).\n",
    "    column_pos = get_pairindices_edgelist(edge_list, if_pair_list)\n",
    "    \n",
    "    # Assign the value 1 for the indices in edge_feature that are \n",
    "    #  the elements in column_pos\n",
    "    edge_feature[np.sort(column_pos.flatten())] = 1\n",
    "\n",
    "    return edge_feature"
   ]
  },
  {
   "cell_type": "code",
   "execution_count": 433,
   "id": "54fbbb5e-f1f5-4dea-a781-f28d1bf11311",
   "metadata": {},
   "outputs": [],
   "source": [
    "def cross_edge_feat_pi_stack(weight_efeat, cat_edge_feat, dist_condition):\n",
    "    \"\"\"\n",
    "    Create a categorical cross-feature flag using the information of \n",
    "    a weight edge feature array and a categorical edge feature both\n",
    "    with the same dimensions and information order.\n",
    "    The crossing of these two edge feature arrays is done by a\n",
    "    third condition (nummerical one).\n",
    "    Args:\n",
    "    weight_efeat (np.array) is a nummerical array,\n",
    "    cat_edge_feat (np.array) is a categorical array and\n",
    "    dist_condition (float) is a number used as threshold:\n",
    "    when values in weight_efeat are lower than dist_condition\n",
    "    and fullfil the condition of cat_edge_feat then assing\n",
    "    value of 1 in the cr_edge_ft, else 0.\n",
    "    Output (np.array) is the categorical array cr_edge_ft\n",
    "    \"\"\"\n",
    "    # Initializing the cross-feature flag array\n",
    "    cr_edge_ft = np.zeros(weight_efeat.shape, dtype=int)\n",
    "\n",
    "    # \n",
    "    cr_edge_ft[np.where(\n",
    "        weight_efeat[np.where(\n",
    "            cat_edge_feat)[0]] < dist_condition)[0]\n",
    "    ] = 1\n",
    "    return cr_edge_ft"
   ]
  },
  {
   "cell_type": "code",
   "execution_count": 434,
   "id": "c98c5304-9a4b-4b7c-a469-240e87fe363c",
   "metadata": {},
   "outputs": [],
   "source": [
    "def clip_array(array, min_bound, max_bound):\n",
    "    \"\"\"\n",
    "    Uses min_bound and max_bound as limit, outliers\n",
    "    are forced to take any of the bound values.\n",
    "    \"\"\"\n",
    "    return np.clip(array, min_bound, max_bound)"
   ]
  },
  {
   "cell_type": "code",
   "execution_count": 435,
   "id": "6867f477-3da7-4f19-8ffb-d5cdd8e66cf9",
   "metadata": {},
   "outputs": [],
   "source": [
    "def clip_norm(array, thr_low, thr_up):\n",
    "    \"\"\"\n",
    "    Uses a lower and upper thresholds to force outliers\n",
    "    to set in these limits and normalize values.\n",
    "    Another normalization is done only to reinforce bounds.\n",
    "    \"\"\"\n",
    "    # Increasing the bounds to do a soft clip\n",
    "    # minimum covalent bond distance ~0.98 \n",
    "    # 0.039 is an aribitrary decision and requires\n",
    "    # a reinforce in the normalization applied later\n",
    "    thr_low = thr_low - 0.039 # for covalent bonds\n",
    "    # thr_up*1.0416 equivalent to thr_up/0.96\n",
    "    thr_up = np.round(thr_up*1.0416, 2) # for noncovalent bonds\n",
    "    # Normalization [0, 1] after clipping: \n",
    "    #  outliers below 0.003 and above 0.96\n",
    "    return minmax_norm( #second normalization\n",
    "        clip_array( #clipping [0,1] to reinforce bounds\n",
    "            minmax_norm( # first normalization\n",
    "                clip_array( #clipping [thr_low, thr_up]\n",
    "                    array, thr_low, thr_up\n",
    "                ),\n",
    "                thr_low, thr_up\n",
    "            ),\n",
    "            0, 1\n",
    "        ),\n",
    "        0, 1\n",
    "    )"
   ]
  },
  {
   "cell_type": "code",
   "execution_count": null,
   "id": "515d71a8-8da1-411b-8dec-d9c36aeffe99",
   "metadata": {},
   "outputs": [],
   "source": [
    "def stack_categorical_edge_feats(mol, pairwise_feat, edge_list):\n",
    "    \"\"\"\n",
    "    Stack all the categorical edge feature arrays\n",
    "    including the cross-feature flags using a \n",
    "    pairwise matrix (weight feature).\n",
    "    Output (np.array),e.g.: stacked_edge_features\n",
    "    where eight arrays are stacked.\n",
    "    stacked_edge_features[:, 0] is pairwise_feat\n",
    "    stacked_edge_features[:, 1] is single bond\n",
    "    stacked_edge_features[:, 2] is double bond\n",
    "    stacked_edge_features[:, 3] is aromatic bond\n",
    "    stacked_edge_features[:, 4] is aromatic-aromatic\n",
    "      pi-stacking \n",
    "    stacked_edge_features[:, 5] is aromatic-sp2\n",
    "      pi-stacking\n",
    "    stacked_edge_features[:, 6] is aromatic-aromatic\n",
    "      pi-stacking lower than 6.5 Angstroms\n",
    "    stacked_edge_features[:, 7] is aromatic-sp2\n",
    "      pi-stacking lower than 5.5 Angstroms\n",
    "    \"\"\"\n",
    "    # Get list of connected (covalent bonds) points (atoms)\n",
    "    pair_list = np.array([[b.GetBeginAtomIdx(), b.GetEndAtomIdx()] for b in mol.GetBonds()])\n",
    "\n",
    "    # Normalize the pairwise matrix using minmax method and \n",
    "    #  forcing outliers to set into the bounds decided by user\n",
    "    # Minimum distance 0.98 and maximum 12 Angstroms\n",
    "    # clip_norm() does a double minmax normalization forcing outliers\n",
    "    pairwise_feat_norm = clip_norm(pairwise_feat, 0.98, 12)\n",
    "    # creating edge categorical features (covalent bond type)\n",
    "    #single_efeat = typeint_edge_categorical_feat(mol, pairwise_feat.shape, edge_list, pair_list, 1) # single\n",
    "    #double_efeat = typeint_edge_categorical_feat(mol, pairwise_feat.shape, edge_list, pair_list, 2) # double\n",
    "    #aromatic_efeat = typeint_edge_categorical_feat(mol, pairwise_feat.shape, edge_list, pair_list, 1.5) # aromatic\n",
    "\n",
    "    # Get list of connected (aromatic pi stacking) points (atoms)\n",
    "    aro_aro_pair_list = get_aro_aro_pairlist(mol)\n",
    "\n",
    "    # creating edge categorical features (non covalre's the correctedent bond type)\n",
    "    aroaro_pi_efeat = customint_edge_categorical_feat(\n",
    "    pairwise_feat.shape, edge_list, aro_aro_pair_list) # aromatic-aromatic pi stacking\n",
    "\n",
    "    # Get list of connected (aromatic side chain/backbone pi stacking) points (atoms)\n",
    "    aro_sp2_pair_list = get_aro_sp2_pairlist(mol)\n",
    "\n",
    "    # creating edge categorical features (non covalent bond type)\n",
    "    arosp2_pi_efeat = customint_edge_categorical_feat(\n",
    "    pairwise_feat.shape, edge_list, aro_sp2_pair_list) # aromatic-sp2 pi stacking\n",
    "\n",
    "    # Create cross-feature flag between pi-stacking interaction mediated by some distance threshold\n",
    "    cross_feat_flag_1 = cross_edge_feat_pi_stack(pairwise_feat, aroaro_pi_efeat, 6.5) # aromatic-aromatic < 6.5\n",
    "    cross_feat_flag_2 = cross_edge_feat_pi_stack(pairwise_feat, arosp2_pi_efeat, 5.5) # aromatic-sp2 < 5.5\n",
    "\n",
    "    return np.column_stack([\n",
    "        pairwise_feat_norm,\n",
    "        #single_efeat,\n",
    "        #double_efeat,\n",
    "        #aromatic_efeat,\n",
    "        aroaro_pi_efeat,\n",
    "        arosp2_pi_efeat,\n",
    "        cross_feat_flag_1,\n",
    "        cross_feat_flag_2\n",
    "    ])"
   ]
  },
  {
   "cell_type": "code",
   "execution_count": null,
   "id": "2e846f18-6f1b-4ff3-96c3-5f67c3b47e17",
   "metadata": {},
   "outputs": [],
   "source": []
  },
  {
   "cell_type": "code",
   "execution_count": null,
   "id": "ab3a1afc-f9c3-42cb-8c17-43b40cf15be2",
   "metadata": {},
   "outputs": [],
   "source": []
  },
  {
   "cell_type": "code",
   "execution_count": null,
   "id": "69eea991-2a22-4ecb-bb4b-52fd0d4ebd6b",
   "metadata": {},
   "outputs": [],
   "source": []
  },
  {
   "cell_type": "code",
   "execution_count": null,
   "id": "9d77f727-0029-4cab-86af-eeed37f76861",
   "metadata": {},
   "outputs": [],
   "source": [
    "def save_nodesnedges_h5py(molecules_info, mol_params, data_set_name=\"data_metadata.h5\"):\n",
    "    \"\"\"\n",
    "    Get the node/edge features for each molecule and save\n",
    "    all the results in H5PY format.\n",
    "    Args:\n",
    "    molecules_info (np.array) contains a hash and \n",
    "    the name of each molecule.\n",
    "    mol_params (dictionary) are the global parameters\n",
    "    for that set of molecules in molecules_info.\n",
    "    data_set_name (str, optional) is the name of the H5PY file to be\n",
    "    created. By default that file is called \"data_metadata.h5\".\n",
    "    \"\"\"\n",
    "    \n",
    "    with h5py.File(data_set_name, 'w') as f:\n",
    "        # Save the global parameters as attributes once for thw file\n",
    "        for key, value in mol_params.items():\n",
    "            f.attrs[key] = value\n",
    "\n",
    "        # Get node/edge features for the list of molecules\n",
    "        for mol_label in molecules_info:\n",
    "            # molecule is mol_label[1]\n",
    "\n",
    "            # Get array 1: node features\n",
    "            node_feats = np.array(\n",
    "                drop_off_corecolumns(\n",
    "                    stacking_feats(mol_label),\n",
    "                    mol_params['cols']\n",
    "                )\n",
    "            )\n",
    "    \n",
    "            # Load structural information\n",
    "            atoms = read(mol_label[1], format=\"proteindatabank\")\n",
    "            # Get array 2: edge list\n",
    "            edge_list, pairwise_feat = corexvirt_edge_feature(\n",
    "                atoms, mol_params['core_atm']\n",
    "            )\n",
    "\n",
    "            # Load molecule using RdKit\n",
    "            mol = Chem.MolFromPDBFile(molecule[1], removeHs=False)\n",
    "            # Get array 3: edge features\n",
    "            edge_features = stack_categorical_edge_feats(mol, pairwise_feat, edge_list)\n",
    "            \n",
    "            # Create a group for the sample molecule\n",
    "            mol_group = f.create_group(f\"sample_{molecule[0]}\")\n",
    "            \n",
    "            # Save arrays (with compression to reduce file size)\n",
    "            mol_group.create_dataset(\"Node_features\", data=node_feats, compression=\"gzip\")\n",
    "            mol_group.create_dataset(\"Edge_list\", data=edge_list, compression=\"gzip\")\n",
    "            mol_group.create_dataset(\"Edge_features\", data=edge_features, compression=\"gzip\")\n",
    "            \n",
    "            # Save individual attributes\n",
    "            mol_group.attrs[\"name\"] = molecule[1]\n",
    "            mol_group.attrs[\"hash\"] = molecule[0]\n",
    "        "
   ]
  },
  {
   "cell_type": "code",
   "execution_count": null,
   "id": "226f249a-cc9b-49c8-a564-204a70dc6cc5",
   "metadata": {},
   "outputs": [],
   "source": []
  },
  {
   "cell_type": "code",
   "execution_count": 160,
   "id": "106cca9b-1775-47b0-89cd-b9732e2be8aa",
   "metadata": {},
   "outputs": [],
   "source": [
    "# Load the parameters that will be used in the node feature extraction\n",
    "parameters = load_conditions('conditions_etdac.txt')"
   ]
  },
  {
   "cell_type": "code",
   "execution_count": 124,
   "id": "d491872b-cda1-4685-b2ba-6d5d099e645c",
   "metadata": {},
   "outputs": [],
   "source": [
    "# Load the hash and molecule name that will be used in the node/edge feature extraction\n",
    "file_list = \"list_100pdb_files.txt\"\n",
    "molecules_labels = load_molecules(file_list)"
   ]
  },
  {
   "cell_type": "code",
   "execution_count": 125,
   "id": "d78a5c18-d8ff-48f6-a347-345ff1b69b82",
   "metadata": {},
   "outputs": [
    {
     "name": "stdout",
     "output_type": "stream",
     "text": [
      "Global params: {}\n"
     ]
    }
   ],
   "source": [
    "etdac_data = load_etdac_h5py('data_etdac_matrix.h5', molecules_labels[10][0])"
   ]
  },
  {
   "cell_type": "code",
   "execution_count": 151,
   "id": "12dc991e-c5e0-47fa-81b2-fe43f3b92054",
   "metadata": {},
   "outputs": [],
   "source": [
    "#np.array(\n",
    "#                drop_off_corecolumns(\n",
    "#                    stacking_feats(molecules_labels[10]),\n",
    "#                    parameters['cols']\n",
    "#                )\n",
    "#            )"
   ]
  },
  {
   "cell_type": "code",
   "execution_count": 152,
   "id": "d3fa0445-f151-4e33-add8-7315ca2f676b",
   "metadata": {},
   "outputs": [],
   "source": [
    "atoms = read(molecules_labels[10][1], format=\"proteindatabank\")"
   ]
  },
  {
   "cell_type": "code",
   "execution_count": 415,
   "id": "8fe53d8e-2564-4082-9fdc-ec7e4c8a108c",
   "metadata": {},
   "outputs": [
    {
     "data": {
      "text/plain": [
       "(array([[ 1,  1,  1, ..., 32, 32, 32],\n",
       "        [ 0,  1,  2, ..., 42, 43, 44]]),\n",
       " array([ 1.45093108,  0.        ,  1.52710183,  2.40434898,  1.53836049,\n",
       "         2.58520889,  3.39816068,  3.47493237,  4.6618226 ,  4.70536067,\n",
       "         5.19967287,  1.99426327,  2.27279036,  2.14203968,  1.08835472,\n",
       "         2.14727665,  2.14955833,  3.42640774,  3.56917161,  5.45631652,\n",
       "         5.51112947,  6.25339028,  8.06284931,  8.37056575,  7.90384976,\n",
       "         7.66519634,  9.9112593 , 10.67177422, 11.11353706, 11.19745087,\n",
       "        12.01558509, 12.10206098, 12.48866946, 13.49043046,  8.0312334 ,\n",
       "         8.89935486,  7.99581791,  8.06926496, 10.34354021, 10.26795705,\n",
       "        10.91764705, 11.05921598, 12.47439145, 12.64130132, 13.74579958,\n",
       "         2.4349039 ,  1.52710183,  0.        ,  1.23364095,  2.51387927,\n",
       "         3.89994269,  4.66350855,  4.81659081,  6.01430877,  6.1236227 ,\n",
       "         6.63762503,  3.18843818,  1.08987706,  3.06451269,  2.15777015,\n",
       "         2.65321484,  2.7789489 ,  4.46867609,  4.75550523,  6.74438774,\n",
       "         6.90641586,  7.70582286,  7.85466352,  8.37425836,  8.15578525,\n",
       "         7.93641046,  9.9058993 , 10.68040079, 11.29272607, 11.04461597,\n",
       "        12.19138192, 11.97043023, 12.51509924, 13.52258622,  8.44518739,\n",
       "         8.5782472 ,  7.81388661,  8.06172246, 10.19996588, 10.38244451,\n",
       "        11.22416113, 10.7689512 , 12.75944709, 12.40521096, 13.68305207,\n",
       "         2.44947954,  1.53836049,  2.51387927,  3.24222285,  0.        ,\n",
       "         1.51754605,  2.5404537 ,  2.53475324,  3.83367409,  3.82817267,\n",
       "         4.33795355,  2.94970388,  3.10757542,  2.57554363,  2.1482693 ,\n",
       "         1.08941728,  1.08996514,  2.74480218,  2.73708111,  4.70088938,\n",
       "         4.68829703,  5.41894833,  8.65925366,  9.0287019 ,  8.39163023,\n",
       "         7.94305143, 10.55231558, 11.13172655, 11.45261058, 11.61734328,\n",
       "        12.21471915, 12.37938306, 12.66354729, 13.55348313,  8.55267356,\n",
       "         9.52878429,  8.41926559,  8.88986648, 11.07710905, 10.94392092,\n",
       "        11.2776314 , 11.56348793, 12.59260755, 12.89613485, 13.79654685,\n",
       "         3.08636194,  2.58520889,  3.89994269,  4.66037284,  1.51754605,\n",
       "         0.        ,  1.40780858,  1.40654684,  2.43975142,  2.43950692,\n",
       "         2.82049304,  3.15494168,  4.44727388,  3.06022401,  2.75878325,\n",
       "         2.12290838,  2.13552008,  2.16187534,  2.15889717,  3.4188599 ,\n",
       "         3.4157314 ,  3.90158263,  9.40335227,  9.59205202,  8.75743524,\n",
       "         8.29586632, 11.07880021, 11.62563383, 11.77932091, 12.2371502 ,\n",
       "        12.51742489, 12.95942904, 13.09239466, 13.95248662,  8.76363458,\n",
       "        10.33525887,  9.14677216,  9.46917367, 11.70857109, 11.35771478,\n",
       "        11.49080537, 12.30039207, 12.77700352, 13.55486356, 14.2761264 ,\n",
       "         4.11656714,  3.39816068,  4.66350855,  5.63015755,  2.5404537 ,\n",
       "         1.40780858,  0.        ,  2.42905146,  1.40803764,  2.80942895,\n",
       "         2.43823092,  3.97279876,  4.94481547,  4.29844926,  3.13189336,\n",
       "         2.66245319,  3.37881177,  1.08061742,  3.40746445,  2.16282824,\n",
       "         3.89061383,  3.42096565, 10.73270828, 10.87350886, 10.04002814,\n",
       "         9.6304585 , 12.36132505, 12.95760398, 13.09497362, 13.60360063,\n",
       "        13.85385192, 14.34568953, 14.46479938, 15.32808422,  9.97576954,\n",
       "        11.66262102, 10.51557588, 10.68688135, 12.9823283 , 12.59242637,\n",
       "        12.76018201, 13.66142855, 14.0869732 , 14.95277055, 15.66674421,\n",
       "         3.41565016,  3.47493237,  4.81659081,  5.33198772,  2.53475324,\n",
       "         1.40654684,  2.42905146,  0.        ,  2.80286871,  1.4027031 ,\n",
       "         2.43072767,  3.40644698,  5.54860442,  3.0054033 ,  3.80453663,\n",
       "         3.33359956,  2.63425246,  3.41039191,  1.0764762 ,  3.88295416,\n",
       "         2.15472759,  3.40753943,  8.9743178 ,  9.05384648,  8.04881147,\n",
       "         7.51682832, 10.47567611, 10.92049678, 10.9286102 , 11.59967159,\n",
       "        11.60527664, 12.24977302, 12.25205248, 13.0683222 ,  7.9925033 ,\n",
       "         9.94631359,  8.65706434,  9.02823981, 11.20465381, 10.70142612,\n",
       "        10.58960764, 11.7778192 , 11.77516   , 12.8980904 , 13.44806756,\n",
       "         5.13933702,  4.6618226 ,  6.01430877,  6.94628447,  3.83367409,\n",
       "         2.43975142,  1.40803764,  2.80286871,  0.        ,  2.4289613 ,\n",
       "         1.40459603,  4.81446923,  6.32714865,  5.21196316,  4.33739899,\n",
       "         4.03247257,  4.53960846,  2.1596884 ,  3.87873201,  1.08052025,\n",
       "         3.41054922,  2.16479653, 11.56671643, 11.58189833, 10.6191986 ,\n",
       "        10.20503155, 13.0209017 , 13.58043037, 13.58657242, 14.31194291,\n",
       "        14.31364164, 15.01407306, 15.01464821, 15.84384423, 10.4444368 ,\n",
       "        12.53030961, 11.33612694, 11.41527157, 13.71457014, 13.16601192,\n",
       "        13.1694165 , 14.45773378, 14.44881185, 15.67499949, 16.24206816,\n",
       "         4.57831257,  4.70536067,  6.1236227 ,  6.69715768,  3.82817267,\n",
       "         2.43950692,  2.80942895,  1.4027031 ,  2.4289613 ,  0.        ,\n",
       "         1.40359431,  4.33461152,  6.8004655 ,  4.19347553,  4.8296123 ,\n",
       "         4.50688473,  4.01860996,  3.89000373,  2.14518274,  3.40611347,\n",
       "         1.08120442,  2.15445237,  9.94247233,  9.87582057,  8.74407468,\n",
       "         8.22796719, 11.2289858 , 11.63906654, 11.50052699, 12.41153741,\n",
       "        12.14132159, 13.0179465 , 12.88944367, 13.66521515,  8.55113098,\n",
       "        10.93678152,  9.6262181 ,  9.85907876, 12.02739153, 11.35137811,\n",
       "        11.06493497, 12.68093944, 12.19758488, 13.72206194, 14.11083814,\n",
       "         5.33114575,  5.19967287,  6.63762503,  7.4054538 ,  4.33795355,\n",
       "         2.82049304,  2.43823092,  2.43072767,  1.40459603,  1.40359431,\n",
       "         0.        ,  4.9674271 ,  7.13734474,  5.16962068,  5.0568862 ,\n",
       "         4.78521901,  4.7959313 ,  3.41499839,  3.40013059,  2.15459741,\n",
       "         2.15982546,  1.08121691, 11.20807624, 11.12563782, 10.0294445 ,\n",
       "         9.5721087 , 12.49696879, 12.96956919, 12.84467174, 13.7598016 ,\n",
       "        13.51408321, 14.39697031, 14.27973988, 15.06481722,  9.79160222,\n",
       "        12.19867407, 10.93442957, 11.03566486, 13.27145003, 12.58824992,\n",
       "        12.37864181, 14.00418252, 13.56271632, 15.10242673, 15.51362872,\n",
       "         7.10917928,  8.37056575,  8.37425836,  7.47678413,  9.0287019 ,\n",
       "         9.59205202, 10.87350886,  9.05384648, 11.58189833,  9.87582057,\n",
       "        11.12563782,  7.42111346,  9.33389067,  6.62399585,  9.10011841,\n",
       "         9.93268614,  8.44483475, 11.42736159,  8.15489234, 12.59958749,\n",
       "         9.6761064 , 11.84036406,  1.4544896 ,  0.        ,  1.51543723,\n",
       "         2.4021865 ,  1.54274885,  2.59352386,  3.44949112,  3.4350524 ,\n",
       "         4.69984957,  4.69172836,  5.21355023,  6.53624885,  2.25659146,\n",
       "         1.99930238,  2.14159823,  1.09093263,  2.15513967,  2.15603084,\n",
       "         3.50867696,  3.47250644,  5.49664052,  5.48812609,  6.92725263,\n",
       "         6.5778682 ,  7.90384976,  8.15578525,  7.38111448,  8.39163023,\n",
       "         8.75743524, 10.04002814,  8.04881147, 10.6191986 ,  8.74407468,\n",
       "        10.0294445 ,  6.81706865,  9.1885192 ,  5.94873524,  8.63482744,\n",
       "         9.3635081 ,  7.79120106, 10.70177523,  7.13021662, 11.64959377,\n",
       "         8.4364166 , 10.67549395,  2.41682643,  1.51543723,  0.        ,\n",
       "         1.22989024,  2.51478309,  3.07168781,  3.32577344,  4.11762128,\n",
       "         4.48861738,  5.1081802 ,  5.26369129,  6.49779493,  1.08958478,\n",
       "         3.22451237,  2.55988144,  2.12772978,  3.44847749,  2.75661912,\n",
       "         3.09577519,  4.46516976,  5.05227345,  6.00930928,  7.01220144,\n",
       "         8.63786444,  9.9112593 ,  9.9058993 ,  8.98643027, 10.55231558,\n",
       "        11.07880021, 12.36132505, 10.47567611, 13.0209017 , 11.2289858 ,\n",
       "        12.49696879,  8.91481402, 10.8540369 ,  8.13930273, 10.6306956 ,\n",
       "        11.46045348,  9.94658313, 12.94171809,  9.55896945, 14.04038778,\n",
       "        10.94786102, 13.16135377,  2.45912057,  1.54274885,  2.51478309,\n",
       "         3.34382326,  0.        ,  1.52150846,  2.54694739,  2.53660344,\n",
       "         3.84177251,  3.83336419,  4.34556487,  5.70458772,  3.0130385 ,\n",
       "         2.40295943,  3.03397248,  2.1585472 ,  1.09143438,  1.09027015,\n",
       "         2.75545967,  2.72872003,  4.70877447,  4.69169543,  6.13668355,\n",
       "         9.43633753, 10.67177422, 10.68040079,  9.72202042, 11.13172655,\n",
       "        11.62563383, 12.95760398, 10.92049678, 13.58043037, 11.63906654,\n",
       "        12.96956919,  9.77867174, 11.65816028,  8.81729715, 11.47239927,\n",
       "        12.0264348 , 10.41542587, 13.59309306,  9.93648635, 14.62900301,\n",
       "        11.27071236, 13.60353722,  3.03416908,  2.59352386,  3.07168781,\n",
       "         3.42695404,  1.52150846,  0.        ,  1.4113614 ,  1.4090071 ,\n",
       "         2.44467339,  2.44226473,  2.82418307,  4.18325436,  3.68722891,\n",
       "         2.88347325,  3.15310973,  3.50740616,  2.13634571,  2.13458403,\n",
       "         2.16917173,  2.1594372 ,  3.42372969,  3.41539017,  4.63785522,\n",
       "         9.83379576, 11.11353706, 11.29272607, 10.41329679, 11.45261058,\n",
       "        11.77932091, 13.09497362, 10.9286102 , 13.58657242, 11.50052699,\n",
       "        12.84467174, 10.10352236, 12.31738341,  9.12993833, 11.90056494,\n",
       "        12.39319543, 10.7272888 , 13.81838652,  9.94286277, 14.63367261,\n",
       "        11.01015032, 13.38649267,  4.09013068,  3.44949112,  3.32577344,\n",
       "         3.51149384,  2.54694739,  1.4113614 ,  0.        ,  2.43804922,\n",
       "         1.40914336,  2.81649392,  2.44201781,  3.68462345,  3.68050513,\n",
       "         4.15676184,  4.02780561,  4.35684232,  3.36798308,  2.66154617,\n",
       "         1.08266754,  3.41657723,  2.16374629,  3.89122924,  4.38367654,\n",
       "        10.0656284 , 11.19745087, 11.04461597,  9.99448918, 11.61734328,\n",
       "        12.2371502 , 13.60360063, 11.59967159, 14.31194291, 12.41153741,\n",
       "        13.7598016 , 10.52131741, 11.97944698,  9.45129018, 12.06211781,\n",
       "        12.43729621, 10.832916  , 14.19104344, 10.58455875, 15.37320416,\n",
       "        12.0888025 , 14.44472589,  3.2925973 ,  3.4350524 ,  4.11762128,\n",
       "         4.2387924 ,  2.53660344,  1.4090071 ,  2.43804922,  0.        ,\n",
       "         2.81628354,  1.4071098 ,  2.44071526,  3.67931325,  4.90934598,\n",
       "         2.80940011,  3.25437951,  4.35125763,  2.65070519,  3.35967737,\n",
       "         3.42171375,  1.08089778,  3.89667217,  2.15682104,  3.85757748,\n",
       "        10.78942065, 12.01558509, 12.19138192, 11.29109601, 12.21471915,\n",
       "        12.51742489, 13.85385192, 11.60527664, 14.31364164, 12.14132159,\n",
       "        13.51408321, 11.10806108, 13.22226051, 10.01729549, 12.85431605,\n",
       "        13.12699547, 11.41506461, 14.60911041, 10.58703211, 15.37205884,\n",
       "        11.59005802, 14.02432719,  5.08118982,  4.69984957,  4.48861738,\n",
       "         4.36806799,  3.84177251,  2.44467339,  1.40914336,  2.81628354,\n",
       "         0.        ,  2.44019692,  1.41021346,  2.40241732,  4.89338748,\n",
       "         5.07594858,  4.8048847 ,  5.67637895,  4.53498104,  4.04121083,\n",
       "         2.15930683,  3.89718065,  1.08047628,  3.41313785,  3.22107761,\n",
       "        11.00942746, 12.10206098, 11.97043023, 10.9144146 , 12.37938306,\n",
       "        12.95942904, 14.34568953, 12.24977302, 15.01407306, 13.0179465 ,\n",
       "        14.39697031, 11.49718966, 12.91636822, 10.3199468 , 13.012409  ,\n",
       "        13.17891881, 11.5249613 , 14.97202598, 11.20252177, 16.08776125,\n",
       "        12.62968139, 15.04796737,  4.4688588 ,  4.69172836,  5.1081802 ,\n",
       "         4.9796292 ,  3.83336419,  2.44226473,  2.81649392,  1.4071098 ,\n",
       "         2.44019692,  0.        ,  1.41019609,  2.39669815,  5.87776743,\n",
       "         4.04953985,  4.18519581,  5.67340118,  4.026982  ,  4.52880404,\n",
       "         3.89910361,  2.16094933,  3.41835311,  1.07490418,  2.46017113,\n",
       "        11.34767448, 12.48866946, 12.51509924, 11.529816  , 12.66354729,\n",
       "        13.09239466, 14.46479938, 12.25205248, 15.01464821, 12.88944367,\n",
       "        14.27973988, 11.77073197, 13.50957368, 10.58392503, 13.38689124,\n",
       "        13.5090677 , 11.80225343, 15.17170659, 11.20322681, 16.08701094,\n",
       "        12.39310732, 14.84734943,  5.24189908,  5.21355023,  5.26369129,\n",
       "         5.03574483,  4.34556487,  2.82418307,  2.44201781,  2.44071526,\n",
       "         1.41021346,  1.41019609,  0.        ,  1.3590883 ,  5.87286242,\n",
       "         5.03544497,  4.87574169,  6.2341171 ,  4.79783753,  4.80248217,\n",
       "         3.41959033,  3.4198519 ,  2.16152007,  2.15694182,  1.94491414]))"
      ]
     },
     "execution_count": 415,
     "metadata": {},
     "output_type": "execute_result"
    }
   ],
   "source": [
    "corexvirt_edge_feature(atoms, parameters['core_atm'])"
   ]
  },
  {
   "cell_type": "code",
   "execution_count": null,
   "id": "04f9cf7e-1c2a-4644-bfb8-85e7fb0280fd",
   "metadata": {},
   "outputs": [],
   "source": []
  },
  {
   "cell_type": "code",
   "execution_count": 417,
   "id": "20fdef50-824d-4fc2-8c9e-82f36b3ac9ac",
   "metadata": {},
   "outputs": [],
   "source": [
    "# Load molecule using RdKit\n",
    "mol = Chem.MolFromPDBFile(molecules_labels[10][1], removeHs=False)"
   ]
  },
  {
   "cell_type": "code",
   "execution_count": 419,
   "id": "67eadbeb-9a2e-4792-b9bb-de58db9ee774",
   "metadata": {},
   "outputs": [
    {
     "data": {
      "text/plain": [
       "'2K6RR_F8.I_Y126.I.capH.pdb'"
      ]
     },
     "execution_count": 419,
     "metadata": {},
     "output_type": "execute_result"
    }
   ],
   "source": [
    "molecules_labels[10][1]"
   ]
  },
  {
   "cell_type": "code",
   "execution_count": null,
   "id": "4caeb0ed-09ca-45f5-87a7-38bb072b4191",
   "metadata": {},
   "outputs": [],
   "source": []
  },
  {
   "cell_type": "code",
   "execution_count": null,
   "id": "185aa853-9113-4a3b-858b-0a7208b7160a",
   "metadata": {},
   "outputs": [],
   "source": [
    "\n",
    "\n",
    "import csv as csv\n",
    "import matplotlib.pyplot as plt\n",
    "import seaborn as sns"
   ]
  },
  {
   "cell_type": "code",
   "execution_count": null,
   "id": "e93124c4-bda9-4d73-845d-1417a565b165",
   "metadata": {},
   "outputs": [],
   "source": []
  },
  {
   "cell_type": "code",
   "execution_count": 5,
   "id": "57188cb9-e60e-4db7-9a47-3ef9ccd74a40",
   "metadata": {},
   "outputs": [
    {
     "name": "stdout",
     "output_type": "stream",
     "text": [
      "Global params: {}\n"
     ]
    }
   ],
   "source": []
  },
  {
   "cell_type": "code",
   "execution_count": 13,
   "id": "ceb8de18-ea1a-4700-9c73-8c31186e45e6",
   "metadata": {},
   "outputs": [],
   "source": []
  },
  {
   "cell_type": "code",
   "execution_count": 14,
   "id": "f2bbf242-e49e-4ebb-91f6-7207c5c5cffd",
   "metadata": {},
   "outputs": [],
   "source": []
  },
  {
   "cell_type": "code",
   "execution_count": null,
   "id": "52f036a9-ab33-4840-be2c-cdd1c6d95bc9",
   "metadata": {},
   "outputs": [],
   "source": [
    "# Save all the molecule list in H5PY format\n",
    "h5file = \"data_100mol_test.h5\"\n",
    "save_nodesnedges_h5py(molecules_labels, parameters, data_set_name=h5file)"
   ]
  },
  {
   "cell_type": "code",
   "execution_count": null,
   "id": "13c372bc-3be5-4b42-86fb-efbe3ea35456",
   "metadata": {},
   "outputs": [],
   "source": []
  },
  {
   "cell_type": "code",
   "execution_count": null,
   "id": "d0343e7e-dc44-42ae-8e66-2aa7d3ba0cba",
   "metadata": {},
   "outputs": [],
   "source": []
  },
  {
   "cell_type": "code",
   "execution_count": null,
   "id": "74a41801-d655-4a38-9bd2-0d48112f77d9",
   "metadata": {},
   "outputs": [],
   "source": []
  },
  {
   "cell_type": "code",
   "execution_count": null,
   "id": "dd888740-3043-4c6d-ba83-05334061aac7",
   "metadata": {},
   "outputs": [],
   "source": [
    "def save_nodesnedges_h5py(molecules_info, mol_params, data_set_name=\"data_metadata.h5\"):\n",
    "    \"\"\"\n",
    "    Get the node/edge features for each molecule and save\n",
    "    all the results in H5PY format.\n",
    "    Args:\n",
    "    molecules_info (np.array) contains a hash and \n",
    "    the name of each molecule.\n",
    "    mol_params (dictionary) are the global parameters\n",
    "    for that set of molecules in molecules_info.\n",
    "    data_set_name (str, optional) is the name of the H5PY file to be\n",
    "    created. By default that file is called \"data_metadata.h5\".\n",
    "    \"\"\"\n",
    "    \n",
    "    with h5py.File(data_set_name, 'w') as f:\n",
    "        # Save the global parameters as attributes once for thw file\n",
    "        for key, value in mol_params.items():\n",
    "            f.attrs[key] = value\n",
    "\n",
    "        # Get node/edge features for the list of molecules\n",
    "        for molecule in molecules_info:\n",
    "\n",
    "            # Get array 1: node features\n",
    "            node_feats = np.array(\n",
    "                featuring_pi_stack(\n",
    "                    molecule[1],\n",
    "                    mol_params['aa_1'],\n",
    "                    mol_params['aa_2'],\n",
    "                    mol_params['backbone_1'],\n",
    "                    mol_params['backbone_2'],\n",
    "                    mol_params['sp2_1'],\n",
    "                    mol_params['sp2_2'],\n",
    "                    mol_params['cols'])\n",
    "            )\n",
    "            # Load structural information\n",
    "            atoms = read(molecule[1], format=\"proteindatabank\")\n",
    "            # Get array 2: edge list\n",
    "            edge_list, pairwise_feat = default_edge_feature(atoms)\n",
    "\n",
    "            # Load molecule using RdKit\n",
    "            mol = Chem.MolFromPDBFile(molecule[1], removeHs=False)\n",
    "            # Get array 3: edge features\n",
    "            edge_features = stack_categorical_edge_feats(mol, pairwise_feat, edge_list)\n",
    "            \n",
    "            # Create a group for the sample molecule\n",
    "            mol_group = f.create_group(f\"sample_{molecule[0]}\")\n",
    "            \n",
    "            # Save arrays (with compression to reduce file size)\n",
    "            mol_group.create_dataset(\"Node_features\", data=node_feats, compression=\"gzip\")\n",
    "            mol_group.create_dataset(\"Edge_list\", data=edge_list, compression=\"gzip\")\n",
    "            mol_group.create_dataset(\"Edge_features\", data=edge_features, compression=\"gzip\")\n",
    "            \n",
    "            # Save individual attributes\n",
    "            mol_group.attrs[\"name\"] = molecule[1]\n",
    "            mol_group.attrs[\"hash\"] = molecule[0]"
   ]
  },
  {
   "cell_type": "code",
   "execution_count": null,
   "id": "550a664d-5681-4c36-9d0c-0349eefb757c",
   "metadata": {},
   "outputs": [],
   "source": [
    "def featuring_pi_stack(pdb_file, aa1_code, aa2_code, feat1_aa1, \\\n",
    "                       feat1_aa2, feat2_aa1, feat2_aa2, cols):\n",
    "    \"\"\"\n",
    "    Extract node features, strictily based on the geometrical\n",
    "     representation of the molecule.\n",
    "    It uses for each amino acid two list of atom positions \n",
    "     of two type of features customized by the user necessities.\n",
    "    Args:\n",
    "    pdb_file is the pdb file\n",
    "    aa1_code and aa2_code are 3-letter code strings representing\n",
    "     the name of the target amino acid, e.g.: 'PHE', 'GLY'...\n",
    "    feat1_aa1 and feat1_aa2 are atom positions of the first type\n",
    "     of feature defined by user, e.g.: backbone position atoms.\n",
    "    feat2_aa1 and feat2_aa2 are atom positions of the second type\n",
    "     of feature defined by user, e.g.: sp2 position atoms.\n",
    "    cols is an array with the name of the columns of each pdb_file\n",
    "     since this part of code use pandas.\n",
    "    \"\"\"\n",
    "    pandas_mol = pandas_molecule(pdb_file)\n",
    "    node_feats = cross_feat_pi_stack(\n",
    "        hybridtype_categorical_feat(\n",
    "            chemgroup_categorical_feat(\n",
    "                res_categorical_feat(\n",
    "                    atom_categorical_feat(\n",
    "                        pandas_mol\n",
    "                    )\n",
    "                ),\n",
    "                aa1_code, aa2_code, feat1_aa1, feat1_aa2),\n",
    "            aa1_code, aa2_code, feat2_aa1, feat2_aa2)\n",
    "    )\n",
    "    return drop_off_corecolumns(node_feats, cols)"
   ]
  },
  {
   "cell_type": "code",
   "execution_count": null,
   "id": "4f75be43-ca10-4320-8310-364ecc4a59d3",
   "metadata": {},
   "outputs": [],
   "source": []
  },
  {
   "cell_type": "code",
   "execution_count": null,
   "id": "4f9a10c3-3352-466f-930d-04518d4acabd",
   "metadata": {},
   "outputs": [],
   "source": []
  },
  {
   "cell_type": "code",
   "execution_count": null,
   "id": "5373eac0-d339-47a0-b94b-835efbb9d82a",
   "metadata": {},
   "outputs": [],
   "source": [
    "with h5py.File(data_set_name, 'w') as f:\n",
    "        # Save the global parameters as attributes once for thw file\n",
    "        for key, value in mol_params.items():\n",
    "            f.attrs[key] = value\n",
    "\n",
    "        # Get node/edge features for the list of molecules\n",
    "        for molecule in molecules_info:\n",
    "\n",
    "            # Get array 1: node features\n",
    "            node_feats = np.array(\n",
    "                featuring_pi_stack(\n",
    "                    molecule[1],\n",
    "                    mol_params['aa_1'],\n",
    "                    mol_params['aa_2'],\n",
    "                    mol_params['backbone_1'],\n",
    "                    mol_params['backbone_2'],\n",
    "                    mol_params['sp2_1'],\n",
    "                    mol_params['sp2_2'],\n",
    "                    mol_params['cols'])\n",
    "            )\n",
    "            # Load structural information\n",
    "            atoms = read(molecule[1], format=\"proteindatabank\")\n",
    "            # Get array 2: edge list\n",
    "            edge_list, pairwise_feat = default_edge_feature(atoms)\n",
    "\n",
    "            # Load molecule using RdKit\n",
    "            mol = Chem.MolFromPDBFile(molecule[1], removeHs=False)\n",
    "            # Get array 3: edge features\n",
    "            edge_features = stack_categorical_edge_feats(mol, pairwise_feat, edge_list)\n",
    "            \n",
    "            # Create a group for the sample molecule\n",
    "            mol_group = f.create_group(f\"sample_{molecule[0]}\")\n",
    "            \n",
    "            # Save arrays (with compression to reduce file size)\n",
    "            mol_group.create_dataset(\"Node_features\", data=node_feats, compression=\"gzip\")\n",
    "            mol_group.create_dataset(\"Edge_list\", data=edge_list, compression=\"gzip\")\n",
    "            mol_group.create_dataset(\"Edge_features\", data=edge_features, compression=\"gzip\")\n",
    "            \n",
    "            # Save individual attributes\n",
    "            mol_group.attrs[\"name\"] = molecule[1]\n",
    "            mol_group.attrs[\"hash\"] = molecule[0]"
   ]
  },
  {
   "cell_type": "code",
   "execution_count": null,
   "id": "1635e0bd-560b-43aa-b066-cf995c109ff1",
   "metadata": {},
   "outputs": [],
   "source": []
  },
  {
   "cell_type": "code",
   "execution_count": null,
   "id": "0b08f82b-0fa9-48ec-9665-912604f0f14c",
   "metadata": {},
   "outputs": [],
   "source": []
  },
  {
   "cell_type": "code",
   "execution_count": null,
   "id": "4ab1fa43-749c-447b-87f5-6f43d380463b",
   "metadata": {},
   "outputs": [],
   "source": []
  },
  {
   "cell_type": "code",
   "execution_count": null,
   "id": "748ac28c-6831-43d0-a24d-d7d2ab7c12e0",
   "metadata": {},
   "outputs": [],
   "source": []
  },
  {
   "cell_type": "code",
   "execution_count": null,
   "id": "8cbf7643-4ec4-44c4-81df-51a6e1303a70",
   "metadata": {},
   "outputs": [],
   "source": []
  },
  {
   "cell_type": "code",
   "execution_count": null,
   "id": "55d3fa4e-19f0-4f1f-8320-c6271cc23267",
   "metadata": {},
   "outputs": [],
   "source": []
  },
  {
   "cell_type": "code",
   "execution_count": null,
   "id": "fa515db5-1d6c-4eb7-986b-3ec51f9b1357",
   "metadata": {},
   "outputs": [],
   "source": [
    "## test purposes\n",
    "rel_list = []\n",
    "tmp_keys = [key for key in heatmap.keys()][10:58] #from 3.5 to 9.0 A\n",
    "for ii in tmp_keys: \n",
    "    rel_list.append(heatmap[ii].max().max())\n",
    "relmax = max(rel_list)\n",
    "relmin = min(rel_list)\n",
    "relmin, relmax"
   ]
  },
  {
   "cell_type": "markdown",
   "id": "b75fcfe1-e253-48ee-b2cf-8a6a823d6409",
   "metadata": {},
   "source": [
    "##### Plot electron transition density atomic contribution (ETDAC) matrices"
   ]
  },
  {
   "cell_type": "code",
   "execution_count": null,
   "id": "1368c95c-8b54-421c-801b-514e2845d52c",
   "metadata": {},
   "outputs": [],
   "source": [
    "fig, ax = plt.subplots(figsize=(17,10)) \n",
    "test = (heatmap['f13'] - heatmap['f13'].min().min())/(heatmap['f13'].max().max() - heatmap['f13'].min().min())\n",
    "sns.heatmap(test, annot=False, cmap='Oranges', vmin=0, vmax=1, ax=ax)"
   ]
  },
  {
   "cell_type": "markdown",
   "id": "de67ce52-930f-46e5-ac73-724c32b4fd63",
   "metadata": {},
   "source": [
    "#### Definition of amino acids using range of atoms\n",
    "##### Example is the same Phe --- Tyr"
   ]
  },
  {
   "cell_type": "markdown",
   "id": "5cdd7532-4b7d-4458-b178-384614ff41e0",
   "metadata": {},
   "source": [
    "##### Set atoms"
   ]
  },
  {
   "cell_type": "code",
   "execution_count": null,
   "id": "110e9a5f",
   "metadata": {},
   "outputs": [],
   "source": [
    "atomAi = 0\n",
    "atomAf = 22\n",
    "atomBi = 23\n",
    "atomBf = 46"
   ]
  },
  {
   "cell_type": "code",
   "execution_count": null,
   "id": "cc4e838e",
   "metadata": {},
   "outputs": [],
   "source": [
    "atomAi, atomAf, atomBi, atomBf"
   ]
  },
  {
   "cell_type": "markdown",
   "id": "c54f6778-7e5c-4570-a28f-c56e465f3093",
   "metadata": {},
   "source": [
    "#### Delitimation of atoms of the aromatic rings"
   ]
  },
  {
   "cell_type": "code",
   "execution_count": null,
   "id": "b5baa831-5a9f-4e93-a15f-05289c60c184",
   "metadata": {},
   "outputs": [],
   "source": [
    "atomFi = 6\n",
    "atomFf = 11\n",
    "atomYi = 29\n",
    "atomYf = 33\n",
    "atomYf2 = 35"
   ]
  },
  {
   "cell_type": "markdown",
   "id": "7d3e755e",
   "metadata": {},
   "source": [
    "#### Calculating the 4 (more) terms of the transition intensities"
   ]
  },
  {
   "cell_type": "code",
   "execution_count": null,
   "id": "adc16ae5-6f51-454e-be51-dc0cb09c2292",
   "metadata": {},
   "outputs": [],
   "source": [
    "inter_fosce = []\n",
    "all_fosce = []\n",
    "FYpi_inter_fosce = []\n",
    "YFpi_inter_fosce = []\n",
    "aropi_inter_fosce = []\n",
    "keys = []\n",
    "\n",
    "for key in heatmap.keys():\n",
    "    keys.append(key)\n",
    "    row_cond_1, col_cond_1 = lambda i: i > atomAf, lambda i: i < atomBi\n",
    "    row_cond_2, col_cond_2 = lambda i: i <= atomAf, lambda i: i >= atomBi\n",
    "    inter_fosce.append(\n",
    "        crop_heatmap_byatm(heatmap[key], row_cond_1, col_cond_1).sum().sum() +\n",
    "        crop_heatmap_byatm(heatmap[key], row_cond_2, col_cond_2).sum().sum()\n",
    "    )\n",
    "    row_cond_1 = lambda i: i >= atomFi and i <= atomFf\n",
    "    col_cond_1 = lambda i: (i >= atomYi and i <= atomYf) or i == atomYf2\n",
    "    FYpi_inter_fosce.append(\n",
    "        crop_heatmap_byatm(heatmap[key], row_cond_1, col_cond_1).sum().sum()\n",
    "        )\n",
    "    row_cond_1 = lambda i: (i >= atomYi and i <= atomYf) or i == atomYf2\n",
    "    col_cond_1 = lambda i: i >= atomFi and i <= atomFf\n",
    "    YFpi_inter_fosce.append(\n",
    "        crop_heatmap_byatm(heatmap[key], row_cond_1, col_cond_1).sum().sum()\n",
    "        )\n",
    "    \n",
    "    aropi_inter_fosce = [FYpi_inter_fosce[i] + YFpi_inter_fosce[i] for i in range(len(inter_fosce))]\n",
    "    \n",
    "    all_fosce.append(heatmap[key].sum().sum())\n",
    "    \n",
    "intra_fosce = [all_fosce[i] - inter_fosce[i] for i in range(len(inter_fosce))]"
   ]
  },
  {
   "cell_type": "code",
   "execution_count": null,
   "id": "887d6c50-4267-4f34-9fc9-acc9eb206ec6",
   "metadata": {},
   "outputs": [],
   "source": [
    "max(inter_fosce), max(intra_fosce), max(all_fosce)"
   ]
  },
  {
   "cell_type": "code",
   "execution_count": null,
   "id": "3847d970",
   "metadata": {},
   "outputs": [],
   "source": [
    "dfftotal_fosce = pd.DataFrame({'hash': [i for i in keys],\\\n",
    "                               'inter_fosce': [i for i in inter_fosce],\\\n",
    "                               'intra_fosce': [i for i in intra_fosce],\\\n",
    "                               'all_fosce': [i for i in all_fosce],\\\n",
    "                               'FY_pi':[i/max(inter_fosce) for i in FYpi_inter_fosce],\\\n",
    "                               'YF_pi':[i/max(inter_fosce) for i in YFpi_inter_fosce],\\\n",
    "                               'pi_pi':[i/max(inter_fosce) for i in aropi_inter_fosce],\\\n",
    "                               'abs_pi_pi':[i for i in aropi_inter_fosce]\n",
    "                              })"
   ]
  },
  {
   "cell_type": "code",
   "execution_count": null,
   "id": "edf378c3",
   "metadata": {},
   "outputs": [],
   "source": [
    "dfftotal_fosce"
   ]
  },
  {
   "cell_type": "markdown",
   "id": "ea67fd23-2aa3-4560-9aed-a8e33e1d2548",
   "metadata": {},
   "source": [
    "#### Data to be saved"
   ]
  },
  {
   "cell_type": "code",
   "execution_count": null,
   "id": "5a8c58a6-605a-42e2-9852-d0ebe1949d53",
   "metadata": {},
   "outputs": [],
   "source": [
    "plt.rc('font', size=26)\n",
    "ax = dfftotal_fosce.loc[10:55,:].plot(\n",
    "    x=\"hash\",\n",
    "    y=[\"inter_fosce\",\"intra_fosce\",\"abs_pi_pi\", \"all_fosce\"],\n",
    "    kind=\"line\",\n",
    "    figsize=(16, 12))\n",
    "ax.set_xlabel('Sample unique identificator')\n",
    "ax.set_ylabel('Transition intensity')\n",
    "\n",
    "plt.show()"
   ]
  },
  {
   "cell_type": "markdown",
   "id": "9512ec11-84e7-48ce-9968-3262e1ccc4ca",
   "metadata": {},
   "source": [
    "#### That's it :)"
   ]
  },
  {
   "cell_type": "code",
   "execution_count": null,
   "id": "2976d980-77bf-43d9-9c61-c1e22b7b0dd9",
   "metadata": {},
   "outputs": [],
   "source": []
  }
 ],
 "metadata": {
  "kernelspec": {
   "display_name": "dataviz",
   "language": "python",
   "name": "dataviz"
  },
  "language_info": {
   "codemirror_mode": {
    "name": "ipython",
    "version": 3
   },
   "file_extension": ".py",
   "mimetype": "text/x-python",
   "name": "python",
   "nbconvert_exporter": "python",
   "pygments_lexer": "ipython3",
   "version": "3.11.5"
  }
 },
 "nbformat": 4,
 "nbformat_minor": 5
}
